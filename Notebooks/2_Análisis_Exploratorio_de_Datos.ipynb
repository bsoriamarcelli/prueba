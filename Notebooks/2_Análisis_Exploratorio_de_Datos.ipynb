{
  "cells": [
    {
      "cell_type": "markdown",
      "metadata": {
        "id": "view-in-github",
        "colab_type": "text"
      },
      "source": [
        "<a href=\"https://colab.research.google.com/github/bsoriamarcelli/prueba/blob/main/Notebooks/2_An%C3%A1lisis_Exploratorio_de_Datos.ipynb\" target=\"_parent\"><img src=\"https://colab.research.google.com/assets/colab-badge.svg\" alt=\"Open In Colab\"/></a>"
      ]
    },
    {
      "cell_type": "markdown",
      "id": "695b1067",
      "metadata": {
        "id": "695b1067"
      },
      "source": [
        "---\n",
        "# **Análisis de datos y aprendizaje automático**\n",
        "---\n",
        "\n",
        "\n"
      ]
    },
    {
      "cell_type": "markdown",
      "source": [
        "# **2. Análisis Exploratorio de datos**"
      ],
      "metadata": {
        "id": "-Q2QLNLdTkij"
      },
      "id": "-Q2QLNLdTkij"
    },
    {
      "cell_type": "markdown",
      "source": [
        "## 🎯 Manipulación de datos"
      ],
      "metadata": {
        "id": "0KWduiErTg7q"
      },
      "id": "0KWduiErTg7q"
    },
    {
      "cell_type": "markdown",
      "id": "db123b68",
      "metadata": {
        "id": "db123b68"
      },
      "source": [
        "## 🥇 Pandas\n"
      ]
    },
    {
      "cell_type": "markdown",
      "id": "27716dce",
      "metadata": {
        "id": "27716dce"
      },
      "source": [
        "Una vez que se instaló la librería, **importar** en el entorno para comenzar a trabajar con ella. Ejecutar la siguiente instrucción:"
      ]
    },
    {
      "cell_type": "code",
      "execution_count": null,
      "id": "0e116c6e",
      "metadata": {
        "id": "0e116c6e"
      },
      "outputs": [],
      "source": [
        "import pandas as pd # Importar pandas con el alias pd"
      ]
    },
    {
      "cell_type": "markdown",
      "source": [
        "`import` es una palabra reservada en Python, que se debe llamar para importar cualquier librería a utilizar. Esta es una forma.\n",
        "\n",
        "Por otro lado, el alias acordado por la comunidad es `pd`, por lo que aquí se lo utiliza. Se asume como una práctica estándar para toda la documentación de Pandas."
      ],
      "metadata": {
        "id": "mEaZlltR8RgH"
      },
      "id": "mEaZlltR8RgH"
    },
    {
      "cell_type": "markdown",
      "id": "6cd070c3",
      "metadata": {
        "id": "6cd070c3"
      },
      "source": [
        "### Estructuras de datos\n",
        "Para comenzar a usar la librería, es importante familiarizarse con sus dos estructuras de datos principales:\n",
        "\n",
        "* **Series**\n",
        "* **DataFrame**\n"
      ]
    },
    {
      "cell_type": "markdown",
      "source": [
        "#### Series\n"
      ],
      "metadata": {
        "id": "kQXxhKuqiu7t"
      },
      "id": "kQXxhKuqiu7t"
    },
    {
      "cell_type": "markdown",
      "id": "217f3d65",
      "metadata": {
        "id": "217f3d65"
      },
      "source": [
        "La serie más simple se forma a partir de una lista de datos.\n"
      ]
    },
    {
      "cell_type": "code",
      "execution_count": null,
      "id": "6e40d284",
      "metadata": {
        "id": "6e40d284"
      },
      "outputs": [],
      "source": [
        "s = pd.Series([4, 17, -51, 3], name='Serie A') # Crear serie a partir de una lista = [4, 17, -51, 3]\n",
        "\n",
        "s # Mostrar"
      ]
    },
    {
      "cell_type": "markdown",
      "id": "5d23e747",
      "metadata": {
        "id": "5d23e747"
      },
      "source": [
        "Como no especificamos un índice para los datos, se crea uno predeterminado que consta de los números enteros del $0$ al $N - 1$ (donde N es la cantidad de valores). Para el ejemplo la serie tiene una colección de $N=4$ valores, el nombre de la serie es *Serie A* y el indice es una colección de enteros de 0 a 3.\n",
        "\n",
        "Para acceder a la colección de valores y al indice considerar los atributos de la serie `value` e `index` respectivamente:"
      ]
    },
    {
      "cell_type": "code",
      "execution_count": null,
      "id": "047667cb",
      "metadata": {
        "id": "047667cb"
      },
      "outputs": [],
      "source": [
        "s.values # Acceder a la colección de valores"
      ]
    },
    {
      "cell_type": "code",
      "execution_count": null,
      "id": "88add1b5",
      "metadata": {
        "id": "88add1b5"
      },
      "outputs": [],
      "source": [
        "s.index # Acceder a la colección de etiquetas. Indice\n"
      ]
    },
    {
      "cell_type": "markdown",
      "source": [
        "Si necesitas reforzar sobre las estructuras de datos en Python, mirar la notebook **Fundamentos para empezar en CD e IA** de este curso o clicar en [Estructura de datos de la documentación oficial de Python](https://docs.python.org/es/3/tutorial/datastructures.html)."
      ],
      "metadata": {
        "id": "iM8W6KF89P0r"
      },
      "id": "iM8W6KF89P0r"
    },
    {
      "cell_type": "markdown",
      "id": "77988b26",
      "metadata": {
        "id": "77988b26"
      },
      "source": [
        "📝 **Ejercicio**\n",
        "\n",
        "Crea tu primera Serie desde la lista [0,'A','B', 4, 2] . Guardar la serie con el nombre de variable `tiposdedatos_s`.\n",
        "\n",
        "```\n",
        "tiposdedatos_s = ...\n",
        "```\n",
        "\n"
      ]
    },
    {
      "cell_type": "code",
      "execution_count": null,
      "id": "381ce07a",
      "metadata": {
        "id": "381ce07a"
      },
      "outputs": [],
      "source": [
        "# Ejercicio\n",
        "\n",
        "tiposdedatos_s = pd.Series([0,'A','B', 4, 2], name='Serie A') # Crear serie a partir de una lista = [4, 17, -51, 3]\n",
        "tiposdedatos_s"
      ]
    },
    {
      "cell_type": "code",
      "execution_count": null,
      "metadata": {
        "id": "fpdbZGzg4k0l"
      },
      "outputs": [],
      "source": [
        "s = pd.Series([4, 17, -51, 3], name='Serie A') # Crear serie a partir de una lista = [4, 17, -51, 3]\n",
        "\n",
        "s # Mostrar"
      ],
      "id": "fpdbZGzg4k0l"
    },
    {
      "cell_type": "markdown",
      "id": "d95bf1bc",
      "metadata": {
        "id": "d95bf1bc"
      },
      "source": [
        "**Haz doble click para ver la respuesta**\n",
        "\n",
        "<!--\n",
        "# Crear serie\n",
        "tiposdedatos_s = pd.Series( [0,'A','B', 4, 2])\n",
        "\n",
        "# Mostrar\n",
        "tiposdedatos_s\n",
        " -->"
      ]
    },
    {
      "cell_type": "markdown",
      "id": "5680aa3b",
      "metadata": {
        "id": "5680aa3b"
      },
      "source": [
        "A menudo se desea crear una serie con un índice que identifique cada punto de datos:\n"
      ]
    },
    {
      "cell_type": "code",
      "execution_count": null,
      "id": "7ff70576",
      "metadata": {
        "id": "7ff70576"
      },
      "outputs": [],
      "source": [
        "s = pd.Series ([4, 17, -51, 3],\n",
        "               name='Serie A',\n",
        "               index=['d', 'b', 'a', 'c']) # Crear una serie indicando nombre e indice\n",
        "\n",
        "s # Mostrar"
      ]
    },
    {
      "cell_type": "code",
      "source": [
        "s.values # Atributo del objeto, valores almacenados en la serie"
      ],
      "metadata": {
        "id": "U-V8NNc--a_h"
      },
      "id": "U-V8NNc--a_h",
      "execution_count": null,
      "outputs": []
    },
    {
      "cell_type": "code",
      "execution_count": null,
      "id": "dfce3720",
      "metadata": {
        "id": "dfce3720"
      },
      "outputs": [],
      "source": [
        "s.index # Atributo del objeto, indice\n"
      ]
    },
    {
      "cell_type": "code",
      "execution_count": null,
      "id": "5bf507cc",
      "metadata": {
        "id": "5bf507cc"
      },
      "outputs": [],
      "source": [
        "s['a'] # Seleccionar el elemento asociado al valor del indice 'a'\n"
      ]
    },
    {
      "cell_type": "code",
      "execution_count": null,
      "id": "d8b76b8a",
      "metadata": {
        "id": "d8b76b8a"
      },
      "outputs": [],
      "source": [
        "s[['c', 'a', 'd']] # Seleccionar los elementos asociados a lista de valores del indice\n"
      ]
    },
    {
      "cell_type": "code",
      "execution_count": null,
      "id": "0fe56ead",
      "metadata": {
        "id": "0fe56ead"
      },
      "outputs": [],
      "source": [
        "print('Serie original:\\n', s) # Imprimir\n",
        "\n",
        "s['d'] = 6 # Modificar el valor asociado al valor del indice 'd'\n",
        "\n",
        "print('\\nSerie modificada:\\n', s)"
      ]
    },
    {
      "cell_type": "markdown",
      "id": "6d4d0bfd",
      "metadata": {
        "id": "6d4d0bfd"
      },
      "source": [
        "Las operaciones de array de NumPy, también se aplican en serie, como el filtrado con operadores relacional, la multiplicación por escalar o la aplicación de funciones matemáticas, que preservan el vínculo índice-valor:"
      ]
    },
    {
      "cell_type": "code",
      "execution_count": null,
      "id": "291133b0",
      "metadata": {
        "id": "291133b0"
      },
      "outputs": [],
      "source": [
        "s"
      ]
    },
    {
      "cell_type": "code",
      "execution_count": null,
      "id": "5c37c054",
      "metadata": {
        "id": "5c37c054"
      },
      "outputs": [],
      "source": [
        "s[s > 0] # Filtrar los valores mayores a 0. Máscaras"
      ]
    },
    {
      "cell_type": "code",
      "execution_count": null,
      "id": "2b6b2992",
      "metadata": {
        "id": "2b6b2992"
      },
      "outputs": [],
      "source": [
        "s * 2 # Multiplicar por escalar 2"
      ]
    },
    {
      "cell_type": "code",
      "execution_count": null,
      "id": "f5daaaad",
      "metadata": {
        "id": "f5daaaad"
      },
      "outputs": [],
      "source": [
        "s.sum() # Sumar todos los valores. Funciona por ser valores numéricos"
      ]
    },
    {
      "cell_type": "markdown",
      "source": [
        "En este curso, no exploramos la librería NumPy pero si deseas hacerlo, clicar en [documentación oficial](https://numpy.org/doc/stable/index.html)."
      ],
      "metadata": {
        "id": "LOh03uRLet8w"
      },
      "id": "LOh03uRLet8w"
    },
    {
      "cell_type": "code",
      "execution_count": null,
      "id": "93e7c132",
      "metadata": {
        "id": "93e7c132"
      },
      "outputs": [],
      "source": [
        "import numpy as np # Importar librería de Numpy para usar sus funciones definidas\n",
        "np.exp(s) # Función exponencial"
      ]
    },
    {
      "cell_type": "markdown",
      "id": "c8dc14d0",
      "metadata": {
        "id": "c8dc14d0"
      },
      "source": [
        "Si tienes datos contenidos en un diccionario de Python, puedes crear una serie. En el ejemplo siguiente `superficie_s` es un objeto Serie creado a partir del *diccionario* `superficie_dict`, que se pasa como argumento a la función `Series()`.\n",
        "Este diccionario de provincias tiene como clave las provincias de 'Buenos Aires', 'Córdoba', 'Salta','Tucumán' y 'La Rioja'.\n",
        "\n",
        "Cuando solo se pasa el diccionario como argumento de la función, el índice de la serie resultante se forma con las claves del diccionario en el orden generado."
      ]
    },
    {
      "cell_type": "code",
      "execution_count": null,
      "id": "a21eaaba",
      "metadata": {
        "id": "a21eaaba"
      },
      "outputs": [],
      "source": [
        "\n",
        "superficie_dict = {'Buenos Aires': 305907.4,\n",
        "                   'Córdoba': 164707.8, # Por cada nombre de provincia un valor de superficie [km²] asociado.\n",
        "                   'Salta': 155340.5,\n",
        "                   'Tucumán': 22592.1,\n",
        "                   'La Rioja': 91493.7\n",
        "                   }\n",
        "\n",
        "superficie_s = pd.Series(superficie_dict) # Serie desde dict\n",
        "\n",
        "superficie_s"
      ]
    },
    {
      "cell_type": "markdown",
      "id": "935f0731",
      "metadata": {
        "id": "935f0731"
      },
      "source": [
        "  \n",
        " En el ejemplo siguiente, se crea un nuevo objeto Serie, `superficie_s2` en donde los datos también provienen del diccionario `superficie_dict`, pero el indice se especifíca. En este caso el indice se corresponde con la lista de etiqueta `provincia`.\n"
      ]
    },
    {
      "cell_type": "code",
      "execution_count": null,
      "id": "e00d153f",
      "metadata": {
        "id": "e00d153f"
      },
      "outputs": [],
      "source": [
        "\n",
        "provincias = ['Buenos Aires', 'Córdoba', 'Salta', 'Misiones'] # Crear lista\n",
        "\n",
        "superficie_s2 = pd.Series(\n",
        "    superficie_dict, # los datos provienen de un diccionario\n",
        "    index = provincias # Se especifica el indice mediante lista\n",
        "    )\n",
        "\n",
        "superficie_s2 # Mostrar"
      ]
    },
    {
      "cell_type": "markdown",
      "id": "13b1519c",
      "metadata": {
        "id": "13b1519c"
      },
      "source": [
        "En este ejemplo, se creó una Serie de Pandas a partir de un diccionario y una lista de etiquetas. A diferencia de cuando se utiliza solo un diccionario (donde se incluyen automáticamente todas las claves).\n",
        "\n",
        "Al agregar una lista de etiquetas se fuerza el orden y la selección de los elementos a incluir.En este ejemplo, Pandas buscó los valores correspondientes a las etiquetas especificadas en la lista. Encontró valores para tres de ellas en el diccionario `superficie_dict`, y los ubicó correctamente. Sin embargo, como no se encontró ningún valor para la provincia de 'Misiones', Pandas asignó el valor **NaN** (Not a Number), que se utiliza para representar valores faltantes en estructuras de datos.\n",
        "\n",
        "El tema de valores faltantes lo abordaremos con más profundidad en un módulo específico. Por ahora, te adelantamos que existen dos funciones muy útiles para detectarlos en una Serie:\n",
        "\n",
        "* isnull(): devuelve True si el valor es faltante.\n",
        "\n",
        "* notnull(): devuelve True si el valor no es faltante."
      ]
    },
    {
      "cell_type": "code",
      "execution_count": null,
      "id": "483859af",
      "metadata": {
        "id": "483859af"
      },
      "outputs": [],
      "source": [
        "pd.isnull(superficie_s2) # Método del objeto DataFrame"
      ]
    },
    {
      "cell_type": "code",
      "source": [
        "superficie_s2.isnull()"
      ],
      "metadata": {
        "id": "HEqEEbTegcF4"
      },
      "id": "HEqEEbTegcF4",
      "execution_count": null,
      "outputs": []
    },
    {
      "cell_type": "code",
      "execution_count": null,
      "id": "8f377bba",
      "metadata": {
        "id": "8f377bba"
      },
      "outputs": [],
      "source": [
        "pd.notnull(superficie_s2)"
      ]
    },
    {
      "cell_type": "code",
      "source": [
        "superficie_s2.notnull()"
      ],
      "metadata": {
        "id": "aO1wfkXAgiuJ"
      },
      "id": "aO1wfkXAgiuJ",
      "execution_count": null,
      "outputs": []
    },
    {
      "cell_type": "markdown",
      "id": "db9d90ef",
      "metadata": {
        "id": "db9d90ef"
      },
      "source": [
        "#### DataFrame\n"
      ]
    },
    {
      "cell_type": "markdown",
      "id": "d290cd2e",
      "metadata": {
        "id": "d290cd2e"
      },
      "source": [
        "Vamos a construir dos objetos series:\n",
        "\n",
        "- `superficie_s`, a partir de un diccionario. Retomamos el ejemplo anterior.\n",
        "\n",
        "- `Poblacion_s`, a partir de dos listas\n",
        "\n",
        "Luego vamos a construir el DataFrame `provincia_df` a partir de las dos Series."
      ]
    },
    {
      "cell_type": "code",
      "execution_count": null,
      "id": "aef182c1",
      "metadata": {
        "id": "aef182c1"
      },
      "outputs": [],
      "source": [
        "superficie_dict = {\n",
        "    'Buenos Aires': 305907.4, # Por cada nombre de provincia un valor de superficie [km²] asociado.\n",
        "    'Córdoba': 164707.8,\n",
        "    'Salta': 155340.5,\n",
        "    'Tucumán': 22592.1,\n",
        "    'La Rioja': 91493.7\n",
        "    }\n",
        "\n",
        "\n",
        "superficie_s = pd.Series(\n",
        "    superficie_dict, # Agregar datos\n",
        "    name='superficie' # Agregar el nombre a la serie\n",
        "    )\n",
        "\n",
        "superficie_s # Mostrar"
      ]
    },
    {
      "cell_type": "code",
      "execution_count": null,
      "id": "71521c94",
      "metadata": {
        "id": "71521c94"
      },
      "outputs": [],
      "source": [
        "provincia_lista = ['Buenos Aires','Salta','Córdoba', 'Tucumán', 'La Rioja'] # Crear lista 1\n",
        "\n",
        "provincia_pop = [17541141, 1424397, 3760450, 1694656, 393531] # Crear lista 2\n",
        "\n",
        "poblacion_s = pd.Series(\n",
        "    provincia_pop, # Indicar los datos de la lista 2\n",
        "    index=provincia_lista, # Indicar el indice tomar la lista 1\n",
        "    name='poblacion' # Nombrar la serie\n",
        "    )\n",
        "\n",
        "poblacion_s # Mostrar"
      ]
    },
    {
      "cell_type": "code",
      "execution_count": null,
      "id": "10c0a7cf",
      "metadata": {
        "id": "10c0a7cf"
      },
      "outputs": [],
      "source": [
        "print('Colección de valores:', poblacion_s.values) # Atributos de la Serie poblacion_s\n",
        "print('Colección de etiquetas (indice):', poblacion_s.index)"
      ]
    },
    {
      "cell_type": "markdown",
      "id": "4b3b83de",
      "metadata": {
        "id": "4b3b83de"
      },
      "source": [
        "Para crear un DataFrame desde un diccionario, tener en cuenta que las claves son las etiquetas de las columnas y los valores son los valores de las colecciones asociadas. Para el ejemplo son los valores de las series creadas previamente."
      ]
    },
    {
      "cell_type": "code",
      "execution_count": null,
      "id": "39a086ec",
      "metadata": {
        "id": "39a086ec"
      },
      "outputs": [],
      "source": [
        "provincia_df = pd.DataFrame(\n",
        "    {'Poblacion': poblacion_s,\n",
        "     'Superficie_km2': superficie_s\n",
        "    } # Indicar datos del diccionario que aquí se define\n",
        "  ) # Crear Dataframe\n"
      ]
    },
    {
      "cell_type": "code",
      "execution_count": null,
      "id": "4b84aaed",
      "metadata": {
        "id": "4b84aaed"
      },
      "outputs": [],
      "source": [
        "provincia_df"
      ]
    },
    {
      "cell_type": "markdown",
      "id": "782cffbf",
      "metadata": {
        "id": "782cffbf"
      },
      "source": [
        "📝 **Ejercicio**\n",
        "\n",
        "Crea tu primer DataFrame desde un diccionario. Llamar al objeto DataFrame con el nombre  `estudiantes_df`. Utilizar el siguiente código:\n",
        "\n",
        "```\n",
        "# Importar librería numpy para llamar a random\n",
        "import numpy as np\n",
        "\n",
        "# Diccionario est_d\n",
        "\n",
        "est_d = {\n",
        "  'Nombre': ['Lucas','Marcela','Fede','Sol','Sol'],\n",
        "  'Edad': [49, 26, 37, 40, 35],\n",
        "  'GradoAcademico': ['Bachiller','Licenciado','Magister','Doctorado','Licenciado']\n",
        "}\n",
        "```\n",
        "\n",
        "\n"
      ]
    },
    {
      "cell_type": "code",
      "execution_count": null,
      "id": "15c4d4ed",
      "metadata": {
        "id": "15c4d4ed"
      },
      "outputs": [],
      "source": [
        "# Ejercicio\n",
        "import numpy as np\n",
        "\n",
        "# Diccionario est_d\n",
        "\n",
        "est_d = {\n",
        "  'Nombre': ['Lucas','Marcela','Fede','Sol','Sol'],\n",
        "  'Edad': [49, 26, 37, 40, 35],\n",
        "  'GradoAcademico': ['Bachiller','Licenciado','Magister','Doctorado','Licenciado']\n",
        "}\n",
        "\n",
        "# Crear DataFrame\n",
        "estudiantes_df = pd.DataFrame(est_d)\n",
        "\n",
        "# Mostrar\n",
        "estudiantes_df\n"
      ]
    },
    {
      "cell_type": "markdown",
      "id": "9cbb7412",
      "metadata": {
        "id": "9cbb7412"
      },
      "source": [
        "**Haz doble click para ver la respuesta**\n",
        "<!--\n",
        "# Importar librería numpy para llamar a random\n",
        "import numpy as np\n",
        "\n",
        "# Diccionario est_d\n",
        "\n",
        "est_d = {\n",
        "  'Nombre': ['Lucas','Marcela','Fede','Sol','Sol'],\n",
        "  'Edad': [49, 26, 37, 40, 35],\n",
        "  'GradoAcademico': ['Bachiller','Licenciado','Magister','Doctorado','Licenciado']\n",
        "}\n",
        "\n",
        "# Crear DataFrame\n",
        "estudiantes_df = pd.DataFrame(est_d)\n",
        "\n",
        "# Mostrar\n",
        "estudiantes_df\n",
        "-->"
      ]
    },
    {
      "cell_type": "markdown",
      "id": "09bbb415",
      "metadata": {
        "id": "09bbb415"
      },
      "source": [
        "Las columnas de `provincia_df` tienen diferentes tipos de datos:\n"
      ]
    },
    {
      "cell_type": "code",
      "execution_count": null,
      "id": "fa952ab2",
      "metadata": {
        "id": "fa952ab2"
      },
      "outputs": [],
      "source": [
        "provincia_df.dtypes # Llamar al atributo dtypes"
      ]
    },
    {
      "cell_type": "markdown",
      "id": "ca523126",
      "metadata": {
        "id": "ca523126"
      },
      "source": [
        "🔎 **Nota**\n",
        "\n",
        "En su mayor parte, Pandas utiliza arrays y tipos de datos de NumPy para las series o las columnas individuales de un DataFrame. NumPy ofrece compatibilidad con `float`, `int`, `bool`, `timedelta64[ns]` y `datetime64[ns]`. Para más información click en [dtypes en documentación oficial de Pandas](https://Pandas.pydata.org/docs/user_guide/basics.html#basics-dtypes) (inglés)."
      ]
    },
    {
      "cell_type": "markdown",
      "id": "8007a9a8",
      "metadata": {
        "id": "8007a9a8"
      },
      "source": [
        "**Atributos y datos subyacentes de DataFrame**"
      ]
    },
    {
      "cell_type": "code",
      "execution_count": null,
      "id": "dbdd0c9a",
      "metadata": {
        "id": "dbdd0c9a"
      },
      "outputs": [],
      "source": [
        "provincia_df.shape # Informar sobre la cantidad de filas y columnas"
      ]
    },
    {
      "cell_type": "code",
      "execution_count": null,
      "id": "f5d5e6ec",
      "metadata": {
        "id": "f5d5e6ec"
      },
      "outputs": [],
      "source": [
        "provincia_df.index # Informar el índice (etiquetas de fila)"
      ]
    },
    {
      "cell_type": "code",
      "execution_count": null,
      "id": "7d51f5e8",
      "metadata": {
        "id": "7d51f5e8"
      },
      "outputs": [],
      "source": [
        "provincia_df.columns # Informar las etiquetas de las columnas"
      ]
    },
    {
      "cell_type": "code",
      "execution_count": null,
      "id": "62998f23",
      "metadata": {
        "id": "62998f23"
      },
      "outputs": [],
      "source": [
        "provincia_df.values # Informar los valores, N-array.\n"
      ]
    },
    {
      "cell_type": "markdown",
      "id": "16086719",
      "metadata": {
        "id": "16086719"
      },
      "source": [
        "### Indexación y selección de datos\n",
        "---\n"
      ]
    },
    {
      "cell_type": "markdown",
      "id": "c49d7b2e",
      "metadata": {
        "id": "c49d7b2e"
      },
      "source": [
        "Cada columna en un `DataFrame` es una `Serie`. Para acceder a una columna :"
      ]
    },
    {
      "cell_type": "code",
      "execution_count": null,
      "id": "93ede9bc",
      "metadata": {
        "id": "93ede9bc"
      },
      "outputs": [],
      "source": [
        "provincia_df['Poblacion'] # Acceder a una columna mediante etiqueta, ejemplo 'Poblacion'\n"
      ]
    },
    {
      "cell_type": "code",
      "execution_count": null,
      "id": "2e07b200",
      "metadata": {
        "id": "2e07b200"
      },
      "outputs": [],
      "source": [
        "print('Valores de la serie', provincia_df['Poblacion'].values)\n",
        "print('Suma de los valores de la serie' , provincia_df['Poblacion'].sum())\n"
      ]
    },
    {
      "cell_type": "markdown",
      "source": [
        "Otra forma, es llamando a la columna como atributo del objeto. Tener en cuenta el '.'"
      ],
      "metadata": {
        "id": "tiWTJvVEVUnl"
      },
      "id": "tiWTJvVEVUnl"
    },
    {
      "cell_type": "code",
      "execution_count": null,
      "id": "b3b3d549",
      "metadata": {
        "id": "b3b3d549"
      },
      "outputs": [],
      "source": [
        "provincia_df.Poblacion # Acceder mediante 'Objdf.etiqueta'"
      ]
    },
    {
      "cell_type": "code",
      "execution_count": null,
      "id": "99862cd8",
      "metadata": {
        "id": "99862cd8"
      },
      "outputs": [],
      "source": [
        "provincia_df['Poblacion']['Buenos Aires']# Acceder a la columna cuya etiqueta es 'Poblacion' y fila cuya etiqueta es 'Buenos Aires' (ver indice del DataFrame)\n"
      ]
    },
    {
      "cell_type": "markdown",
      "id": "7e08d1d5",
      "metadata": {
        "id": "7e08d1d5"
      },
      "source": [
        "Las filas también se pueden recuperar por posición o nombre mediante un par de métodos. Usando las posiciones y el método `iloc` o las etiquetas y el método `loc`."
      ]
    },
    {
      "cell_type": "markdown",
      "id": "ea8e2ba6",
      "metadata": {
        "id": "ea8e2ba6"
      },
      "source": [
        "`iloc` se basa principalmente en la posición de números enteros pero también se puede utilizar con un array booleano."
      ]
    },
    {
      "cell_type": "markdown",
      "id": "6b11bcc6",
      "metadata": {
        "id": "6b11bcc6"
      },
      "source": [
        "**Indexación de sola las filas**"
      ]
    },
    {
      "cell_type": "code",
      "execution_count": null,
      "id": "cd9d100e",
      "metadata": {
        "id": "cd9d100e"
      },
      "outputs": [],
      "source": [
        "provincia_df.iloc[0] # Fila en la posicion 0. En este caso la fila es la asociada a Buenos Aires"
      ]
    },
    {
      "cell_type": "code",
      "execution_count": null,
      "id": "cb528617",
      "metadata": {
        "id": "cb528617"
      },
      "outputs": [],
      "source": [
        "provincia_df.iloc[[0,3]] # Acceder a una lista de filas, filas de la posición 0 y posición 3\n"
      ]
    },
    {
      "cell_type": "code",
      "execution_count": null,
      "id": "19095adb",
      "metadata": {
        "id": "19095adb"
      },
      "outputs": [],
      "source": [
        "provincia_df.iloc[:3:] # Acceder a las filas mediante corte (slice)  [ini:fin:pasos]\n"
      ]
    },
    {
      "cell_type": "code",
      "execution_count": null,
      "id": "e12264b5",
      "metadata": {
        "id": "e12264b5"
      },
      "outputs": [],
      "source": [
        "provincia_df.iloc[[True, False, False, False, False]] # Con una máscara booleana de la misma longitud que el índice. En este caso indice es para las 5 filas\n"
      ]
    },
    {
      "cell_type": "markdown",
      "id": "27bd299f",
      "metadata": {
        "id": "27bd299f"
      },
      "source": [
        "**Indexación por fila y columna**\n",
        "\n",
        "Puedes combinar los tipos de indexadores para el índice y las columnas."
      ]
    },
    {
      "cell_type": "code",
      "execution_count": null,
      "id": "6af08a50",
      "metadata": {
        "id": "6af08a50"
      },
      "outputs": [],
      "source": [
        "provincia_df.iloc[0,1] # Datos de la fila en posición 0 y columna en posición 1\n"
      ]
    },
    {
      "cell_type": "code",
      "execution_count": null,
      "id": "ad2aa2ff",
      "metadata": {
        "id": "ad2aa2ff"
      },
      "outputs": [],
      "source": [
        "provincia_df.iloc[[0,2],1] # Datos de las filas en posición 0 y 2, columna en posición 1\n"
      ]
    },
    {
      "cell_type": "code",
      "execution_count": null,
      "id": "f8536c52",
      "metadata": {
        "id": "f8536c52"
      },
      "outputs": [],
      "source": [
        "provincia_df.iloc[:3, :1] # Con objeto de corte filas y columnas [ini:fin:pasos , ini:fin:pasos]\n"
      ]
    },
    {
      "cell_type": "markdown",
      "id": "ec612237",
      "metadata": {
        "id": "ec612237"
      },
      "source": [
        "`loc` permite el acceso a un grupo de filas y columnas por etiqueta(s) o un array booleano."
      ]
    },
    {
      "cell_type": "code",
      "execution_count": null,
      "id": "04048980",
      "metadata": {
        "id": "04048980"
      },
      "outputs": [],
      "source": [
        "provincia_df"
      ]
    },
    {
      "cell_type": "code",
      "execution_count": null,
      "id": "735b04df",
      "metadata": {
        "id": "735b04df"
      },
      "outputs": [],
      "source": [
        "provincia_df.loc['Salta'] # Por etiqueta de fila (índice)"
      ]
    },
    {
      "cell_type": "code",
      "execution_count": null,
      "id": "d178df65",
      "metadata": {
        "id": "d178df65"
      },
      "outputs": [],
      "source": [
        "provincia_df.loc[['Salta','Buenos Aires']] # Por lista de etiquetas de filas\n"
      ]
    },
    {
      "cell_type": "code",
      "execution_count": null,
      "id": "0d6dd3f2",
      "metadata": {
        "id": "0d6dd3f2"
      },
      "outputs": [],
      "source": [
        "provincia_df.loc['Salta' ,'Poblacion'] # Por etiqueta de fila y columna [ etiqueta fila (índice) , etiqueta columna ]\n"
      ]
    },
    {
      "cell_type": "code",
      "execution_count": null,
      "id": "257917b1",
      "metadata": {
        "id": "257917b1"
      },
      "outputs": [],
      "source": [
        "provincia_df.loc[['Salta','Buenos Aires'], ['Poblacion']] # Por lista de etiquetas [filas, columnas]"
      ]
    },
    {
      "cell_type": "code",
      "execution_count": null,
      "id": "04bc4482",
      "metadata": {
        "id": "04bc4482"
      },
      "outputs": [],
      "source": [
        "provincia_df.loc[:'Salta':, :'Poblacion'] # Por objeto de corte"
      ]
    },
    {
      "cell_type": "code",
      "execution_count": null,
      "id": "5f9de2d9",
      "metadata": {
        "id": "5f9de2d9"
      },
      "outputs": [],
      "source": [
        "provincia_df.loc[[True, False,False,False,False],[True,False]] # Por lista booleana con la misma longitud que el eje de filas o columnas"
      ]
    },
    {
      "cell_type": "markdown",
      "id": "949c67fa",
      "metadata": {
        "id": "949c67fa"
      },
      "source": [
        "* La principal diferencia que existe entre loc e iloc es que en loc se usan las etiquetas (los nombres asignados tanto a las filas como a las columnas) mientras que en iloc se usan las posiciones de los elementos (la posición en la fila o la columna, comenzado a contar en 0)."
      ]
    },
    {
      "cell_type": "markdown",
      "id": "1cd6b8ae",
      "metadata": {
        "id": "1cd6b8ae"
      },
      "source": [
        "Podemos indexar un DataFrame usando loc y máscaras booleanas\n"
      ]
    },
    {
      "cell_type": "code",
      "execution_count": null,
      "id": "bf8a8f8a",
      "metadata": {
        "id": "bf8a8f8a"
      },
      "outputs": [],
      "source": [
        "provincia_df['Superficie_km2'] > 148008 # Filtrar por operador relacional. 'Superficie_km2' > 148008"
      ]
    },
    {
      "cell_type": "code",
      "execution_count": null,
      "id": "f749e0d7",
      "metadata": {
        "id": "f749e0d7"
      },
      "outputs": [],
      "source": [
        "provincia_df.loc[\n",
        "  provincia_df['Superficie_km2'] > 148008, # Condición a cumplir\n",
        "  ['Poblacion', 'Superficie_km2'] # columnas a visualizar\n",
        "]"
      ]
    },
    {
      "cell_type": "code",
      "execution_count": null,
      "id": "4b46b381",
      "metadata": {
        "id": "4b46b381"
      },
      "outputs": [],
      "source": [
        "provincia_df.loc[\n",
        "    provincia_df['Superficie_km2'] > 148008,\n",
        "    ['Poblacion']\n",
        "    ]"
      ]
    },
    {
      "cell_type": "markdown",
      "id": "c4d8140b",
      "metadata": {
        "id": "c4d8140b"
      },
      "source": [
        "📝 **Ejercicio**\n",
        "\n",
        "Para el DataFrame `provincia_df`, seleccionar las filas cuyos valores de la  columna 'Poblacion' sean mayor o igual a 3 millones (3000000) .\n",
        "\n"
      ]
    },
    {
      "cell_type": "code",
      "execution_count": null,
      "id": "70534c92",
      "metadata": {
        "id": "70534c92"
      },
      "outputs": [],
      "source": [
        "# Ejercicio\n",
        "\n"
      ]
    },
    {
      "cell_type": "markdown",
      "id": "e1bf42f2",
      "metadata": {
        "id": "e1bf42f2"
      },
      "source": [
        "**Haz doble click para ver la respuesta**\n",
        "\n",
        "<!--\n",
        "provincia_df.loc[provincia_df['Poblacion'] > 3000000]\n",
        "-->"
      ]
    },
    {
      "cell_type": "markdown",
      "id": "5217e4fc",
      "metadata": {
        "id": "5217e4fc"
      },
      "source": [
        "Si se desea guardar los datos filtrados del `Dataframe` se puede asignar el resultado del filtrado a una variable"
      ]
    },
    {
      "cell_type": "code",
      "execution_count": null,
      "id": "8f50f54a",
      "metadata": {
        "id": "8f50f54a"
      },
      "outputs": [],
      "source": [
        "\n",
        "provincia_cota_df = provincia_df.loc[ # Nuevo DataFrame\n",
        "    provincia_df['Superficie_km2'] > 148008,\n",
        "    ['Poblacion']\n",
        "    ]\n",
        "\n",
        "# Mostrar\n",
        "provincia_cota_df"
      ]
    },
    {
      "cell_type": "markdown",
      "id": "e9237269",
      "metadata": {
        "id": "e9237269"
      },
      "source": [
        "### Funciones aritméticas y mapeo con Pandas\n",
        "---"
      ]
    },
    {
      "cell_type": "code",
      "execution_count": null,
      "id": "5a4b0725",
      "metadata": {
        "id": "5a4b0725"
      },
      "outputs": [],
      "source": [
        "provincia_df # Recordar Dataframe provincia_df"
      ]
    },
    {
      "cell_type": "markdown",
      "id": "65e3c3cc",
      "metadata": {
        "id": "65e3c3cc"
      },
      "source": [
        "Operaciones aritméticas"
      ]
    },
    {
      "cell_type": "code",
      "execution_count": null,
      "id": "cf576742",
      "metadata": {
        "id": "cf576742"
      },
      "outputs": [],
      "source": [
        "provincia_df['Superficie_km2'] + 10 # Sumar por escalar ante columna numérica"
      ]
    },
    {
      "cell_type": "code",
      "execution_count": null,
      "id": "45801fdc",
      "metadata": {
        "id": "45801fdc"
      },
      "outputs": [],
      "source": [
        "provincia_df['Poblacion'] / provincia_df['Superficie_km2'] # Dividir los valores de la columna 'Poblacion' por la columna 'Superficie_km2'\n"
      ]
    },
    {
      "cell_type": "markdown",
      "id": "04e8d8ac",
      "metadata": {
        "id": "04e8d8ac"
      },
      "source": [
        "Funciones aritméticas"
      ]
    },
    {
      "cell_type": "code",
      "execution_count": null,
      "id": "be96dd46",
      "metadata": {
        "id": "be96dd46"
      },
      "outputs": [],
      "source": [
        "provincia_df.sum(axis=0) # Sumar los valores sobre el eje solicitado. Por defecto se aplica sobre las filas.\n"
      ]
    },
    {
      "cell_type": "markdown",
      "id": "bb75814e",
      "metadata": {
        "id": "bb75814e"
      },
      "source": [
        "En Pandas:\n",
        "\n",
        "* axis=0 significa a lo largo de \"índices\". Es una operación por filas.\n",
        "* axis=1 significa a lo largo de \"columnas\". Es una operación por columnas."
      ]
    },
    {
      "cell_type": "code",
      "execution_count": null,
      "id": "8b27f83d",
      "metadata": {
        "id": "8b27f83d"
      },
      "outputs": [],
      "source": [
        "provincia_df.mean() # Calcular la Media de los valores sobre el eje solicitado. Por defecto se aplica sobre las filas.\n"
      ]
    },
    {
      "cell_type": "markdown",
      "source": [
        "Todas las columnas son numéricas, por eso no tira error al aplicar `mean()` sobre todo los valores del `DataFrame`."
      ],
      "metadata": {
        "id": "Dnd3olM8ZOb0"
      },
      "id": "Dnd3olM8ZOb0"
    },
    {
      "cell_type": "code",
      "execution_count": null,
      "id": "82d39b64",
      "metadata": {
        "id": "82d39b64"
      },
      "outputs": [],
      "source": [
        "(provincia_df - provincia_df.mean()) / provincia_df.std() # Combinar operaciones. Estandarización (representar los datos con una media cero y una desviación estándar de 1), de forma muy concisa:\n"
      ]
    },
    {
      "cell_type": "markdown",
      "id": "09013c83",
      "metadata": {
        "id": "09013c83"
      },
      "source": [
        "Hasta hora vimos operaciones sueltas. Si deseas trabajar con funciones que manipulen columnas o filas del objeto Dataframe, una manera es usar `map` o `apply`.\n",
        "\n"
      ]
    },
    {
      "cell_type": "markdown",
      "id": "3c977935",
      "metadata": {
        "id": "3c977935"
      },
      "source": [
        "### ✍ Recordatorio\n",
        "\n",
        "* Importar el paquete, también conocido como `import pandas as pd`\n",
        "\n",
        "* Una tabla de datos se almacena como un `DataFrame` de pandas\n",
        "\n",
        "* Cada columna de un `DataFrame` es una `Series`\n",
        "\n",
        "* Puedes hacer operaciones sobre los datos aplicando un método a un `DataFrame` o una `Series`"
      ]
    },
    {
      "cell_type": "markdown",
      "id": "303f8c0e",
      "metadata": {
        "id": "303f8c0e"
      },
      "source": [
        "\n",
        "## 🥇 Manipulación de datos\n"
      ]
    },
    {
      "cell_type": "markdown",
      "id": "360b71cd",
      "metadata": {
        "id": "360b71cd"
      },
      "source": [
        "\n",
        "A continuación exploraremos e integraremos tecnologías con Python para responder:\n",
        "\n",
        "* Importar y exportar conjuntos de datos.\n",
        "* Ordenar los conjuntos de datos y remodelar su estructura en un formato adecuado para el análisis.\n",
        "\n",
        "\n"
      ]
    },
    {
      "cell_type": "markdown",
      "id": "71aed595",
      "metadata": {
        "id": "71aed595"
      },
      "source": [
        "###  ¿Cómo leer y ecribir datos tabulares?\n"
      ]
    },
    {
      "cell_type": "markdown",
      "id": "42c8dd36",
      "metadata": {
        "id": "42c8dd36"
      },
      "source": [
        "#### Importar archivos\n"
      ]
    },
    {
      "cell_type": "markdown",
      "id": "17a5a6bf",
      "metadata": {
        "id": "17a5a6bf"
      },
      "source": [
        "Para explorar los métodos de Pandas `read_*` vamos a utilizar el conjunto de datos denominados *winemag-data-130k-v2*.\n",
        "\n",
        "* Recuerda: Para acceder a los datos del curso [Github](https://github.com/formacionCDIA/cursoCDIA/tree/main/Data)"
      ]
    },
    {
      "cell_type": "markdown",
      "id": "7f779f95",
      "metadata": {
        "id": "7f779f95"
      },
      "source": [
        "##### Archivos csv\n"
      ]
    },
    {
      "cell_type": "code",
      "execution_count": null,
      "id": "9ed080fa",
      "metadata": {
        "id": "9ed080fa"
      },
      "outputs": [],
      "source": [
        "import pandas as pd # Importar librería"
      ]
    },
    {
      "cell_type": "code",
      "source": [
        "# Para llamar datos de Github del curso\n",
        "url_base = 'https://raw.githubusercontent.com/formacionCDIA/cursoCDIA/main/Data/'\n",
        "\n",
        "nombre_archivo = 'winemag-data-130k-v2.csv' # Determinar el nombre de archivo\n",
        "ruta_archivo = url_base + nombre_archivo # Ruta del archivo"
      ],
      "metadata": {
        "id": "zWNtOeSkuaT3"
      },
      "id": "zWNtOeSkuaT3",
      "execution_count": null,
      "outputs": []
    },
    {
      "cell_type": "markdown",
      "source": [
        "El método pd.to_csv() incluye entre sus argumentos path_or_buf (ruta del archivo que se va a escribir ) e index donde index = True implica escribir el índice del DataFrame. En general no necesitamos este índice, por lo que se suele especificar index= False."
      ],
      "metadata": {
        "id": "I9AXGlPZz6I4"
      },
      "id": "I9AXGlPZz6I4"
    },
    {
      "cell_type": "code",
      "execution_count": null,
      "id": "04009839",
      "metadata": {
        "id": "04009839"
      },
      "outputs": [],
      "source": [
        "datosCSV_df = pd.read_csv(ruta_archivo) # Leer el achivo csv, el argumento por defecto sep = ‘,’\n",
        "datosCSV_df.head() # Mostrar los primeros registros del dataframe."
      ]
    },
    {
      "cell_type": "markdown",
      "id": "bd46556d",
      "metadata": {
        "id": "bd46556d"
      },
      "source": [
        "Otra opción para evitar columnas"
      ]
    },
    {
      "cell_type": "code",
      "execution_count": null,
      "id": "19db97e7",
      "metadata": {
        "id": "19db97e7"
      },
      "outputs": [],
      "source": [
        "datosCSV_df = pd.read_csv(ruta_archivo, index_col=0)\n",
        "# o lo que es lo mismo:\n",
        "# datosCSV_df = pd.read_csv(ruta_archivo, index_col='Unnamed: 0')\n",
        "\n",
        "datosCSV_df.head()"
      ]
    },
    {
      "cell_type": "markdown",
      "id": "07334082",
      "metadata": {
        "id": "07334082"
      },
      "source": [
        "Para más información click en [read_csv en documentación oficial](https://pandas.pydata.org/docs/reference/api/pandas.read_csv.html#pandas.read_csv)"
      ]
    },
    {
      "cell_type": "markdown",
      "id": "f514a5bf",
      "metadata": {
        "id": "f514a5bf"
      },
      "source": [
        "##### Archivos Excel\n"
      ]
    },
    {
      "cell_type": "code",
      "source": [
        "nombre_archivo = 'winemag-data-130k-v2.xlsx'\n",
        "ruta_archivo = url_base + nombre_archivo # Ruta en donde está el archivo excel\n"
      ],
      "metadata": {
        "id": "HEkAVp21uxLT"
      },
      "id": "HEkAVp21uxLT",
      "execution_count": null,
      "outputs": []
    },
    {
      "cell_type": "code",
      "execution_count": null,
      "id": "84284151",
      "metadata": {
        "id": "84284151"
      },
      "outputs": [],
      "source": [
        "datosXLSX_df = pd.read_excel(ruta_archivo) # sheet_name='hoja1'\n",
        "datosXLSX_df.head()"
      ]
    },
    {
      "cell_type": "markdown",
      "id": "df3cb8e6",
      "metadata": {
        "id": "df3cb8e6"
      },
      "source": [
        "Leer archivos Excel con varias hojas no es tan diferente. Solo tienes que especificar un argumento adicional, `sheet_name`, en el que puedes pasar una cadena para el nombre de la hoja o un número entero para la posición de la hoja.\n",
        "\n",
        "Para más información sobre métodos de lectura click en [Funciones de lectura](https://pandas.pydata.org/docs/user_guide/io.html) y  [read_excel en documentación oficial](https://pandas.pydata.org/docs/reference/api/pandas.read_excel.html)\n",
        "\n"
      ]
    },
    {
      "cell_type": "markdown",
      "id": "3a916bd7",
      "metadata": {
        "id": "3a916bd7"
      },
      "source": [
        "#### Exportar archivos\n",
        "---\n"
      ]
    },
    {
      "cell_type": "markdown",
      "source": [
        "`to_csv()`\n"
      ],
      "metadata": {
        "id": "g-OAdkgPwLhC"
      },
      "id": "g-OAdkgPwLhC"
    },
    {
      "cell_type": "code",
      "execution_count": null,
      "id": "ca75040c",
      "metadata": {
        "id": "ca75040c"
      },
      "outputs": [],
      "source": [
        "datosCSV_df.to_csv(\"winemag-data-130k-v2_DF.csv\", index=False) # Se guardá en carpeta actual"
      ]
    },
    {
      "cell_type": "markdown",
      "source": [
        "`to_excel()`\n",
        "\n",
        "Considerar los formatos “.xls” o “.xlsx”.\n"
      ],
      "metadata": {
        "id": "FRu-GadSw1iG"
      },
      "id": "FRu-GadSw1iG"
    },
    {
      "cell_type": "code",
      "execution_count": null,
      "id": "916bcedf",
      "metadata": {
        "id": "916bcedf"
      },
      "outputs": [],
      "source": [
        "datosXLSX_df.to_excel(\"winemag-data-130k-v2_DF.xlsx\", index=False) # Se guardá en carpeta actual"
      ]
    },
    {
      "cell_type": "markdown",
      "source": [
        "📝 **Ejercicio**\n",
        "\n",
        "Leer el archivo csv que se encuentra en:\n"
      ],
      "metadata": {
        "id": "SrGyQ33HCLcC"
      },
      "id": "SrGyQ33HCLcC"
    },
    {
      "cell_type": "code",
      "source": [
        "url_base = 'https://raw.githubusercontent.com/formacionCDIA/cursoCDIA/main/Data/'\n",
        "nombre_archivo = 'PredictStudents_data.csv'\n",
        "ruta_archivo = url_base + nombre_archivo\n",
        "ruta_archivo"
      ],
      "metadata": {
        "id": "k-Utp7k5Llqd"
      },
      "id": "k-Utp7k5Llqd",
      "execution_count": null,
      "outputs": []
    },
    {
      "cell_type": "markdown",
      "source": [
        "Guardar los datos en un objeto DataFrame 'data_df'. El separador del archivo es sep= ';'.\n"
      ],
      "metadata": {
        "id": "mUWRPayyMJJs"
      },
      "id": "mUWRPayyMJJs"
    },
    {
      "cell_type": "code",
      "source": [
        "# Solución\n",
        "\n",
        "\n"
      ],
      "metadata": {
        "id": "TDFQdzjkNVCt"
      },
      "id": "TDFQdzjkNVCt",
      "execution_count": null,
      "outputs": []
    },
    {
      "cell_type": "markdown",
      "source": [
        "**Haz doble click para ver la respuesta**\n",
        "\n",
        "<!--\n",
        "import pandas as pd\n",
        "\n",
        "# https://archive.ics.uci.edu/dataset/697/predict+students+dropout+and+academic+success\n",
        "data_df = pd.read_csv(ruta_archivo, sep=';')\n",
        "data_df\n",
        " -->"
      ],
      "metadata": {
        "id": "hPKhUdYKNO0D"
      },
      "id": "hPKhUdYKNO0D"
    },
    {
      "cell_type": "markdown",
      "id": "7a81e3e0",
      "metadata": {
        "id": "7a81e3e0"
      },
      "source": [
        "### ¿Cómo empezar a explorar un conjunto de datos en un `DataFrame` ?\n"
      ]
    },
    {
      "cell_type": "markdown",
      "id": "408792d4",
      "metadata": {
        "id": "408792d4"
      },
      "source": [
        "Continuaremos trabajando con el conjunto de datos `winemag-data-130k-v2.csv`.\n",
        "\n",
        "\n",
        "* Los datos fueron escrapeados del sitio WineEnthusiast en el año 2017.\n",
        "* Presentan 129971 reseñas de vinos con características sobre la variedad, ubicación, bodega, precio y descripción del vino.\n",
        "\n",
        "Para más información clicar en [Reseña de vino en Kaggle](https://www.kaggle.com/zynicide/wine-reviews/)\n",
        "\n",
        "**Descripción del conjunto de datos**\n",
        "* country: El país de origen del vino.\n",
        "* description\n",
        "* designation: El viñedo dentro de la bodega de donde provienen las uvas que hicieron el vino.\n",
        "* points: La cantidad de puntos que WineEnthusiast calificó al vino en una escala de 1 a 100 (aunque dicen que solo publican reseñas de vinos que puntúan &gt;=80).\n",
        "* price: El costo de una botella de vino.\n",
        "* province: La provincia o estado de donde proviene el vino.\n",
        "* region_1: La zona de cultivo de vino en una provincia o estado (por ejemplo, Napa).\n",
        "* region_2: A veces, hay regiones más específicas especificadas dentro de una zona de cultivo de vino (por ejemplo, Rutherford dentro del Valle de Napa), pero este valor a veces puede estar en blanco.\n",
        "* taster_name\n",
        "* taster_twitter_handle\n",
        "* title: El título de la reseña del vino.\n",
        "* variedad: El tipo de uva utilizada para hacer el vino (por ejemplo, Pinot Noir).\n",
        "* winery: La bodega que elaboró ​​el vino."
      ]
    },
    {
      "cell_type": "code",
      "source": [
        "import pandas as pd # Importar librería"
      ],
      "metadata": {
        "id": "rJkPwdQmGioO"
      },
      "id": "rJkPwdQmGioO",
      "execution_count": null,
      "outputs": []
    },
    {
      "cell_type": "code",
      "source": [
        "url_base = 'https://raw.githubusercontent.com/formacionCDIA/cursoCDIA/main/Data/'\n",
        "\n",
        "nombre_archivo = 'winemag-data-130k-v2.csv'\n",
        "\n",
        "ruta_archivo = url_base + nombre_archivo # Especificar ruta de archicvo csv"
      ],
      "metadata": {
        "id": "6yWpMwJJGwU3"
      },
      "id": "6yWpMwJJGwU3",
      "execution_count": null,
      "outputs": []
    },
    {
      "cell_type": "code",
      "execution_count": null,
      "id": "60cca6c6",
      "metadata": {
        "id": "60cca6c6"
      },
      "outputs": [],
      "source": [
        "reseVino_df = pd.read_csv(ruta_archivo, index_col='Unnamed: 0')"
      ]
    },
    {
      "cell_type": "code",
      "execution_count": null,
      "id": "6efba633",
      "metadata": {
        "id": "6efba633"
      },
      "outputs": [],
      "source": [
        "reseVino_df.head() # Ver 5 primeras filas"
      ]
    },
    {
      "cell_type": "code",
      "source": [
        "reseVino_df.tail() # Ver las últimas 5 filas"
      ],
      "metadata": {
        "id": "ozaareeoHIZl"
      },
      "id": "ozaareeoHIZl",
      "execution_count": null,
      "outputs": []
    },
    {
      "cell_type": "markdown",
      "id": "7e70f519",
      "metadata": {
        "id": "7e70f519"
      },
      "source": [
        "Si quiero especificar la cantidad de filas a ver."
      ]
    },
    {
      "cell_type": "code",
      "execution_count": null,
      "id": "4279ced7",
      "metadata": {
        "id": "4279ced7"
      },
      "outputs": [],
      "source": [
        "reseVino_df.head(2) # Primeras 2 filas"
      ]
    },
    {
      "cell_type": "markdown",
      "source": [
        "tail()"
      ],
      "metadata": {
        "id": "wZ14nJarnxKV"
      },
      "id": "wZ14nJarnxKV"
    },
    {
      "cell_type": "code",
      "execution_count": null,
      "id": "662c8a8d",
      "metadata": {
        "id": "662c8a8d"
      },
      "outputs": [],
      "source": [
        "reseVino_df.tail(10) # Ver 10 últimas filas"
      ]
    },
    {
      "cell_type": "markdown",
      "source": [
        "Un atributo ya visto de un `Dataframe` es `dtypes`"
      ],
      "metadata": {
        "id": "rTfJiOVzHdzc"
      },
      "id": "rTfJiOVzHdzc"
    },
    {
      "cell_type": "code",
      "execution_count": null,
      "id": "06520a23",
      "metadata": {
        "id": "06520a23"
      },
      "outputs": [],
      "source": [
        "reseVino_df.dtypes # Ver tipos de datos"
      ]
    },
    {
      "cell_type": "markdown",
      "id": "c6d0fac2",
      "metadata": {
        "id": "c6d0fac2"
      },
      "source": [
        "En base a los tipos de datos que se cargaron en el Dataframe:\n",
        "* *country(país), description(descripción), designtation(designación),province (provincia), region_1, region_2, taster_name(catador_nombre),\n",
        "taster_twitter_handle(catador_usuario_twitter), title(título), variety(variedad), winery(bodega)* son tipos de datos categorícos, que en Python se pueden identificar como de tipo cadena (objeto). Aunque lo ideal sería transformarlos en `category`.\n",
        "* *points(puntos) y price(precio)* son numéricos, punto es entero y precio continuo.\n",
        "\n",
        "A simple vista, este conjunto de reseñas de vinos, estaría cargado correctamente. Para verificar que estos datos estan correctos, trabajar con la documentación asociada.\n",
        "\n",
        "Para reforzar los tipos de datos en Python ver las sección de **Fundamentos para empezar en CD e IA**."
      ]
    },
    {
      "cell_type": "markdown",
      "id": "b8539e44",
      "metadata": {
        "id": "b8539e44"
      },
      "source": [
        "Para obtener un resumen técnico del objeto `reseVino_df` que almacena al conjunto de datos, usar el método `info()`"
      ]
    },
    {
      "cell_type": "code",
      "execution_count": null,
      "id": "47e5f20f",
      "metadata": {
        "id": "47e5f20f"
      },
      "outputs": [],
      "source": [
        "reseVino_df.info()"
      ]
    },
    {
      "cell_type": "markdown",
      "id": "8fa3deda",
      "metadata": {
        "id": "8fa3deda"
      },
      "source": [
        "En base a la información compartida por `info`:\n",
        "\n",
        "* Hay 129971  entradas, es decir, 129971  filas.\n",
        "\n",
        "* Cada fila tiene una etiqueta de fila (índice) con valores que van de 0 a 129970.\n",
        "\n",
        "* La tabla tiene 13 variables. Serían pocas las variables que tienen el total de valores, es decir, 129971 valores no nulos o faltantes. Estas son  las columnas `description`(descripción),`points`(puntos),`title`(título) y `winery`(bodega). En el resto habría valores faltantes.  \n",
        "* Existen distintos tipos de datos de Pandas en el conjunto de datos, objetos, numéricos enteros y continuos.\n",
        "\n",
        "* La cantidad aproximada de RAM utilizada para almacenar el DataFrame es de  13.9+ MB."
      ]
    },
    {
      "cell_type": "code",
      "execution_count": null,
      "id": "dcb5ce18",
      "metadata": {
        "id": "dcb5ce18"
      },
      "outputs": [],
      "source": [
        "def resumen_inicial(datos):\n",
        "  \"\"\"\n",
        "  Informa sobre la estructuración de los datos en el objeto DataFrame.\n",
        "\n",
        "  Parámetros:\n",
        "      datos: Objeto de dato, Dataframe.\n",
        "  Retorno:\n",
        "      impresiones en pantalla\n",
        "  Ejemplo:\n",
        "          >>> resumen_inicial(df)\n",
        "\n",
        "  \"\"\"\n",
        "  print(\"Primeras 2 filas\")\n",
        "  display(datos.head(2))\n",
        "  print(\"-----------------------------------------------------------------\")\n",
        "  print(\"Nombres de columnas\")\n",
        "  display(datos.columns)\n",
        "  print(\"-----------------------------------------------------------------\")\n",
        "  print(\"Dimensión\")\n",
        "  display(datos.shape)\n",
        "  print(\"-----------------------------------------------------------------\")\n",
        "  print(\"Resumen técnico\")\n",
        "  display(datos.info())\n",
        "  print(\"-----------------------------------------------------------------\")"
      ]
    },
    {
      "cell_type": "markdown",
      "id": "f719ffba",
      "metadata": {
        "id": "f719ffba"
      },
      "source": [
        "Existen distintas funciones para explorar el conjunto de datos en el DataFrame. Teniendo en cuenta la función creada `resumen_inicial`, ordenamos la información que proporcionan diferentes métodos de Pandas."
      ]
    },
    {
      "cell_type": "code",
      "execution_count": null,
      "id": "9abfb447",
      "metadata": {
        "id": "9abfb447"
      },
      "outputs": [],
      "source": [
        "resumen_inicial(reseVino_df)"
      ]
    },
    {
      "cell_type": "markdown",
      "id": "7357a611",
      "metadata": {
        "id": "7357a611"
      },
      "source": [
        "### ¿Cómo seleccionar un subconjunto de datos de un DataFrame?\n",
        "---"
      ]
    },
    {
      "cell_type": "code",
      "source": [
        "precio = reseVino_df[\"price\"] # Asignar a variable precio columna price\n",
        "\n",
        "precio.head(2)"
      ],
      "metadata": {
        "id": "PrZ4ZcktCpPc"
      },
      "id": "PrZ4ZcktCpPc",
      "execution_count": null,
      "outputs": []
    },
    {
      "cell_type": "code",
      "execution_count": null,
      "id": "66d48fdc",
      "metadata": {
        "id": "66d48fdc"
      },
      "outputs": [],
      "source": [
        "punto = reseVino_df[\"points\"] # Asignar a variable punto columna points\n",
        "\n",
        "punto.head() # Ver los primeros 5 valores"
      ]
    },
    {
      "cell_type": "markdown",
      "id": "50aa2b00",
      "metadata": {
        "id": "50aa2b00"
      },
      "source": [
        "Vimos que en en Pandas podemos filtrar por máscara.\n",
        "Seleccionamos todos los vinos con cuyo puntos correspondan al máximo punto del conjunto de datos.\n"
      ]
    },
    {
      "cell_type": "markdown",
      "id": "a406f1d0",
      "metadata": {
        "id": "a406f1d0"
      },
      "source": [
        "Busco el valor máximo en puntos."
      ]
    },
    {
      "cell_type": "code",
      "execution_count": null,
      "id": "cc45da00",
      "metadata": {
        "id": "cc45da00"
      },
      "outputs": [],
      "source": [
        "reseVino_df[\"points\"].max() # Llamar al método max del objeto serie"
      ]
    },
    {
      "cell_type": "code",
      "execution_count": null,
      "id": "9efc85a6",
      "metadata": {
        "id": "9efc85a6"
      },
      "outputs": [],
      "source": [
        "# Asignar a la variable max_mascara la condición\n",
        "max_mascara = reseVino_df[\"points\"] == reseVino_df[\"points\"].max()\n",
        "\n",
        "max_mascara"
      ]
    },
    {
      "cell_type": "markdown",
      "id": "e05d71c7",
      "metadata": {
        "id": "e05d71c7"
      },
      "source": [
        "\n",
        "La salida de la expresión condicional (`==`, pero también `!=`, `<`, `>`, `<=`, … funcionaría) es en realidad una serie de valores booleanos de pandas (ya sea Verdadero o Falso) con la misma cantidad de filas que el DataFrame original. Dicha serie de valores booleanos se puede utilizar para filtrar el DataFrame colocándolo entre los corchetes de selección `[]`. Solo se seleccionarán las filas para las que el valor sea Verdadero."
      ]
    },
    {
      "cell_type": "code",
      "execution_count": null,
      "id": "271a03f5",
      "metadata": {
        "id": "271a03f5"
      },
      "outputs": [],
      "source": [
        "maxPun_vino_df = reseVino_df[max_mascara] # Guardar y seleccionar vinos en base a la condición  máscara\n",
        "maxPun_vino_df"
      ]
    },
    {
      "cell_type": "markdown",
      "id": "c16bf579",
      "metadata": {
        "id": "c16bf579"
      },
      "source": [
        "`shape` es un atributo en el DataFrame que contiene la cantidad de filas y columnas: `(nrows, ncolumns)`. En una serie de Pandas es unidimensional por lo que solo se devuelve la cantidad de filas."
      ]
    },
    {
      "cell_type": "code",
      "execution_count": null,
      "id": "4a460545",
      "metadata": {
        "id": "4a460545"
      },
      "outputs": [],
      "source": [
        "maxPun_vino_df.shape"
      ]
    },
    {
      "cell_type": "markdown",
      "id": "9b8e37f0",
      "metadata": {
        "id": "9b8e37f0"
      },
      "source": [
        "\n",
        "Ahora seleccionemos todos los vinos cuyo origen de país sean de Argentina y Chile. Sabemos que los valores en 'country' contienen a 'Argentina' y 'Chile'."
      ]
    },
    {
      "cell_type": "code",
      "execution_count": null,
      "id": "2bb1f2ce",
      "metadata": {
        "id": "2bb1f2ce"
      },
      "outputs": [],
      "source": [
        "pais_vino_df = reseVino_df[  # Asignar\n",
        "    reseVino_df['country'].isin(['Argentina','Chile']) # Condición: seleccionar los vinos de los paises definidos\n",
        "    ]\n",
        "\n",
        "pais_vino_df.head()"
      ]
    },
    {
      "cell_type": "markdown",
      "id": "7961e67c",
      "metadata": {
        "id": "7961e67c"
      },
      "source": [
        "De manera similar a la expresión condicional, la función condicional `isin` devuelve un valor verdadero para cada fila en la que se encuentran los valores de la lista proporcionada. Para filtrar las filas en función de dicha función, se utiliza la función condicional dentro de los corchetes de selección `[]`. En este caso, la condición dentro de los corchetes de selección `reseVino_df['country'].isin(['Argentina','Chile'])` comprueba para qué filas la columna country es 'Argentina' o 'Chile'.\n",
        "\n",
        "Ahora seleccionemos vinos con determinadas características, es decir filas y columnas del conjunto de datos.\n",
        "\n",
        "Seleccionemos las características de país de origen ('country'), precio ('price'), puntos ('points') de vinos de Argentina y Chile."
      ]
    },
    {
      "cell_type": "code",
      "execution_count": null,
      "id": "a2faee63",
      "metadata": {
        "id": "a2faee63"
      },
      "outputs": [],
      "source": [
        "pais_vino_df = reseVino_df.loc[ # Asignar variable y utilizar .loc\n",
        "     reseVino_df['country'].isin(['Argentina','Chile']), # Condición\n",
        "      ['country','price','points'] # Columnas seleccionadas\n",
        "     ]\n",
        "\n",
        "pais_vino_df.head()"
      ]
    },
    {
      "cell_type": "code",
      "execution_count": null,
      "id": "aadbe5d8",
      "metadata": {
        "id": "aadbe5d8"
      },
      "outputs": [],
      "source": [
        "pais_vino_df.shape # Controlar selección"
      ]
    },
    {
      "cell_type": "markdown",
      "id": "f8cf63d6",
      "metadata": {
        "id": "f8cf63d6"
      },
      "source": [
        "Estamos interesadas en las filas 10 a 25 y las columnas 0 a 2 del subconjunto de datos"
      ]
    },
    {
      "cell_type": "code",
      "execution_count": null,
      "id": "b766fd1f",
      "metadata": {
        "id": "b766fd1f"
      },
      "outputs": [],
      "source": [
        "pais_vino_df.iloc[10:25, 0:3] # Seleccionar registros en base a posiciones\n"
      ]
    },
    {
      "cell_type": "markdown",
      "id": "602d97ab",
      "metadata": {
        "id": "602d97ab"
      },
      "source": [
        "Nuevamente, se crea un subconjunto de filas y columnas de una sola vez y ya no es suficiente usar solo corchetes de selección `[]`. Cuando esté interesado específicamente en ciertas filas y/o columnas en función de su posición en la tabla, use el operador `iloc` delante de los corchetes de selección `[]`."
      ]
    },
    {
      "cell_type": "markdown",
      "id": "49359995",
      "metadata": {
        "id": "49359995"
      },
      "source": [
        "### ¿Cómo crear nuevas columnas derivadas de las columnas existentes en el DataFrame?\n"
      ]
    },
    {
      "cell_type": "markdown",
      "id": "0bbfa5aa",
      "metadata": {
        "id": "0bbfa5aa"
      },
      "source": [
        "Hasta ahora hemos guardados selecciones de filas o columnas en variables. Por ejemplo la selección de subconjunto de datos en `maxPun_vino_df` o `pais_vino_df`.\n",
        "\n",
        "Recordemos, que cada columna en un DataFrame es una serie, por lo que podemos llamar a atributos y métodos para generar nuevos valores y almacenarlos como una nueva columna en el DataFrame.\n",
        "Ahora veremos como crear una nueva columna en el DataFrame que llamaremos `peso`.\n",
        "\n",
        "\n",
        "\n",
        "```\n",
        "DataFrame['nueva_columna'] = valor\n",
        "```\n",
        "\n",
        "\n",
        "\n"
      ]
    },
    {
      "cell_type": "code",
      "source": [
        "reseVino_df['peso'] =  reseVino_df['price'] * reseVino_df['points'] # valor calculado\n",
        "\n",
        "reseVino_df[['price','points','peso']].head()"
      ],
      "metadata": {
        "id": "dgp7u0FuDoaI"
      },
      "id": "dgp7u0FuDoaI",
      "execution_count": null,
      "outputs": []
    },
    {
      "cell_type": "markdown",
      "id": "982216fd",
      "metadata": {
        "id": "982216fd"
      },
      "source": [
        "Si se desea cambiar el nombre de las columnas de datos del DataFrame se puede usar `rename`."
      ]
    },
    {
      "cell_type": "code",
      "execution_count": null,
      "id": "d68f8e5f",
      "metadata": {
        "id": "d68f8e5f"
      },
      "outputs": [],
      "source": [
        "# rename tiene el atributo inplace, por defecto es Falso, que da lugar a crear uno nuevo.\n",
        "# Si es Verdadero, se ignora el valor de la copia, por lo tanto se modifica el Dataframe original\n",
        "reseVino_df.rename(\n",
        "    columns={\n",
        "        \"peso\": \"peso_pricePoints\"\n",
        "    }\n",
        ")"
      ]
    },
    {
      "cell_type": "markdown",
      "id": "a88fcab0",
      "metadata": {
        "id": "a88fcab0"
      },
      "source": [
        "La función `rename()` se puede utilizar tanto para etiquetas de filas como de columnas. Proporcione un diccionario con las claves (los nombres actuales) y los valores (los nombres nuevos) para actualizar los nombres correspondientes. Para más información click en [rename en documentación oficial](https://pandas.pydata.org/docs/reference/api/pandas.DataFrame.rename.html#pandas.DataFrame.rename)."
      ]
    },
    {
      "cell_type": "markdown",
      "id": "8768db58",
      "metadata": {
        "id": "8768db58"
      },
      "source": [
        "#### Funciones de Dataframe\n"
      ]
    },
    {
      "cell_type": "markdown",
      "id": "1fa32f33",
      "metadata": {
        "id": "1fa32f33"
      },
      "source": [
        "**Unique**\n",
        "\n",
        "`unique` devuelve los valores únicos en el orden de aparición. Este método NO ordena.  Incluye valores nulos (valores faltantes). Por ejemplo, si quisieras responder:\n",
        "\n",
        "a) ¿De qué países de origen provienen los vinos?"
      ]
    },
    {
      "cell_type": "code",
      "execution_count": null,
      "id": "5390e279",
      "metadata": {
        "id": "5390e279"
      },
      "outputs": [],
      "source": [
        "reseVino_df['country'].unique() # Seleccionar columna, llamar al método unique()"
      ]
    },
    {
      "cell_type": "markdown",
      "id": "0f141deb",
      "metadata": {
        "id": "0f141deb"
      },
      "source": [
        "b) ¿ Cuántos valores distintos hay en la columna country ?"
      ]
    },
    {
      "cell_type": "code",
      "execution_count": null,
      "id": "44ec4f13",
      "metadata": {
        "id": "44ec4f13"
      },
      "outputs": [],
      "source": [
        "len(reseVino_df['country'].unique()) # llmar al método len\n"
      ]
    },
    {
      "cell_type": "code",
      "execution_count": null,
      "id": "516c509e",
      "metadata": {
        "id": "516c509e"
      },
      "outputs": [],
      "source": [
        "reseVino_df['country'].nunique() # Contar la cantidad de valores observados. No cuenta valores faltantes."
      ]
    },
    {
      "cell_type": "markdown",
      "id": "283ce1d5",
      "metadata": {
        "id": "283ce1d5"
      },
      "source": [
        "**value_counts**\n",
        "\n",
        "`value_counts` devuelve una serie que contiene la frecuencia de cada fila distinta en el DataFrame. De manera predeterminada, las filas que contienen valores nan se omiten del resultado. De manera predeterminada, la serie resultante estará en orden descendente, de modo que el primer elemento sea la fila que aparece con mayor frecuencia.\n",
        "Ante la pregunta:"
      ]
    },
    {
      "cell_type": "markdown",
      "id": "1ef23b55",
      "metadata": {
        "id": "1ef23b55"
      },
      "source": [
        "c) ¿ Con qué frecuencia (cuántas veces) aparece cada uno de los paises ?"
      ]
    },
    {
      "cell_type": "code",
      "execution_count": null,
      "id": "7d516684",
      "metadata": {
        "id": "7d516684"
      },
      "outputs": [],
      "source": [
        "reseVino_df['country'].value_counts()"
      ]
    },
    {
      "cell_type": "code",
      "execution_count": null,
      "id": "0ad34f7a",
      "metadata": {
        "id": "0ad34f7a"
      },
      "outputs": [],
      "source": [
        "# normalize = True devuelve proporciones en lugar de frecuencias. Valor predeterminado False.\n",
        "# Multiplicando por 100 obtenemos porcentaje\n",
        "reseVino_df['country'].value_counts(normalize=True)*100"
      ]
    },
    {
      "cell_type": "markdown",
      "id": "3f5c97f5",
      "metadata": {
        "id": "3f5c97f5"
      },
      "source": [
        "Hay distintas estadísticas disponibles que se pueden aplicar a columnas con datos numéricos. Las operaciones en general excluyen los datos faltantes y funcionan en todas las filas de manera predeterminada. Estaremos profundizando en estadística descriptiva en la sección que tiene su nombre. Pero veremos aquí la media (en inglés, *mean*).\n",
        "\n",
        "\n",
        "**mean**\n",
        "\n",
        "`mean` devuelve la media de los valores sobre el eje solicitado. Por defecto el eje `axis = 0` , es decir que por defectos calcula la media de los valores de las filas. Por ejemplo:\n",
        "\n"
      ]
    },
    {
      "cell_type": "code",
      "execution_count": null,
      "id": "8432a086",
      "metadata": {
        "id": "8432a086"
      },
      "outputs": [],
      "source": [
        "reseVino_df[\"price\"].mean()"
      ]
    },
    {
      "cell_type": "markdown",
      "id": "85c75752",
      "metadata": {
        "id": "85c75752"
      },
      "source": [
        "d) ¿ Cuántos vinos tienen un precio por encima de la media ?"
      ]
    },
    {
      "cell_type": "code",
      "execution_count": null,
      "id": "56f5d7ac",
      "metadata": {
        "id": "56f5d7ac"
      },
      "outputs": [],
      "source": [
        "reseVino_df[\n",
        "     reseVino_df[\"price\"] > reseVino_df[\"price\"].mean() # Condición\n",
        "    ]"
      ]
    },
    {
      "cell_type": "markdown",
      "id": "2907d5c7",
      "metadata": {
        "id": "2907d5c7"
      },
      "source": [
        "#### Apply\n",
        "El método `apply` de los dataframes de Pandas, nos permite realizar una acción sobre cada fila o columna (sobre un \"axis\") del conjunto de datos.\n",
        "Por ejemplo, queremos crear una nueva columna que se llame \"description_length\" y contenga la cantidad de caracteres que hay en cada fila de la columna \"description\".\n"
      ]
    },
    {
      "cell_type": "markdown",
      "id": "457e0e56",
      "metadata": {
        "id": "457e0e56"
      },
      "source": [
        "Para ello consideramos `pandas.Series.str.len`, que calcula la longitud de cada elemento de la serie/índice. Para más información click en [la documentación oficial](https://pandas.pydata.org/pandas-docs/version/2.0/reference/api/pandas.Series.str.len.html)\n"
      ]
    },
    {
      "cell_type": "code",
      "execution_count": null,
      "id": "e0d068a6",
      "metadata": {
        "id": "e0d068a6"
      },
      "outputs": [],
      "source": [
        "reseVino_df['description_length'] = reseVino_df['description'].str.len() # Guardar y almacenar la cantidad de caracteres de los valores de 'description'\n",
        "reseVino_df[['description','description_length']].head(2)"
      ]
    },
    {
      "cell_type": "markdown",
      "id": "a866a0bc",
      "metadata": {
        "id": "a866a0bc"
      },
      "source": [
        "Hagamos un enfoque distinto\n",
        "\n",
        "\n",
        "Primero: Definamos una función que cuente los caracteres de un string:"
      ]
    },
    {
      "cell_type": "code",
      "execution_count": null,
      "id": "39c7081d",
      "metadata": {
        "id": "39c7081d"
      },
      "outputs": [],
      "source": [
        "def cantidad_palabras(cadena):\n",
        "  return len(cadena.split(' '))"
      ]
    },
    {
      "cell_type": "code",
      "execution_count": null,
      "id": "49d8a826",
      "metadata": {
        "id": "49d8a826"
      },
      "outputs": [],
      "source": [
        "# Guardar y almacenar la cantidad de caracteres de los valores de 'description' utilizando apply y count_string_len\n",
        "reseVino_df['description_length2'] = reseVino_df['description'].apply(cantidad_palabras)"
      ]
    },
    {
      "cell_type": "code",
      "execution_count": null,
      "id": "101f5fa6",
      "metadata": {
        "id": "101f5fa6"
      },
      "outputs": [],
      "source": [
        "reseVino_df[['description','description_length2']].head(2)"
      ]
    },
    {
      "cell_type": "code",
      "execution_count": null,
      "id": "9b8e6358",
      "metadata": {
        "id": "9b8e6358"
      },
      "outputs": [],
      "source": [
        "reseVino_df.iloc[1,]"
      ]
    },
    {
      "cell_type": "markdown",
      "id": "5de740a6",
      "metadata": {
        "id": "5de740a6"
      },
      "source": [
        "Para utilizar apply, no hace falta definir una función aparte. También podemos hacerlo directamente utilizando funciones \"lambda\":\n"
      ]
    },
    {
      "cell_type": "code",
      "execution_count": null,
      "id": "08553e04",
      "metadata": {
        "id": "08553e04"
      },
      "outputs": [],
      "source": [
        "# Guardar y almacenar la cantidad de caracteres de los valores de 'description' utilizando apply y lambad\n",
        "reseVino_df['description_length3'] = reseVino_df['description'].apply(lambda x: len(x.split(' ')))"
      ]
    },
    {
      "cell_type": "code",
      "execution_count": null,
      "id": "1385f749",
      "metadata": {
        "id": "1385f749"
      },
      "outputs": [],
      "source": [
        "# Mostrar\n",
        "reseVino_df[['description','description_length3']].head(2)"
      ]
    },
    {
      "cell_type": "markdown",
      "id": "ca4162b5",
      "metadata": {
        "id": "ca4162b5"
      },
      "source": [
        "### ¿Cómo resumir un conjunto de datos de un DataFrame?\n"
      ]
    },
    {
      "cell_type": "markdown",
      "source": [
        "##### Agregación\n",
        "\n",
        "La función `Dataframe.aggregate()` se utiliza para aplicar funciones de agregación en una o más columnas. Algunas de las funciones más utilizadas son las siguientes:\n",
        "* `sum`: devuelve la suma de los valores del eje solicitado.\n",
        "* `min`: devuelve el mínimo de los valores del eje solicitado.\n",
        "* `max`: devuelve el máximo de los valores del eje solicitado.\n",
        "\n",
        "Podemos aplicar la agregación en un DataFrame, df, como `df.aggregate()` o `df.agg()`.\n",
        "\n",
        "Estas funciones de agregación solo funcionan con columnas de tipo numérico, pero también se podrían crear funciones de agregación para trabajar con otros tipos de datos. Si se desea aplicar agregación:\n",
        "\n",
        "\n",
        "```\n",
        "agregacion = df.agg(func)\n",
        "\n",
        "```\n",
        "\n"
      ],
      "metadata": {
        "id": "wdQRxHQUdzIp"
      },
      "id": "wdQRxHQUdzIp"
    },
    {
      "cell_type": "code",
      "source": [
        "# Seleccionar variables numérica\n",
        "numerico_df = reseVino_df[['points','price']]\n",
        "\n",
        "numerico_df. head()"
      ],
      "metadata": {
        "id": "debzHqCwheE8"
      },
      "id": "debzHqCwheE8",
      "execution_count": null,
      "outputs": []
    },
    {
      "cell_type": "code",
      "source": [
        "# Si quiero seleccionar solo las numéricas\n",
        "# reseVino_df.select_dtypes(include = 'number') # np.number or 'number'\n"
      ],
      "metadata": {
        "id": "IuMDjwva-Ikv"
      },
      "id": "IuMDjwva-Ikv",
      "execution_count": null,
      "outputs": []
    },
    {
      "cell_type": "code",
      "source": [
        "numerico_df.agg('max') # Agregar (por fila) para obtener el max de cada columna.\n",
        "#Por defecto axis = 0"
      ],
      "metadata": {
        "id": "gbrj0XO_hB9s"
      },
      "id": "gbrj0XO_hB9s",
      "execution_count": null,
      "outputs": []
    },
    {
      "cell_type": "code",
      "source": [
        "numerico_df.agg(['sum','min','max'])"
      ],
      "metadata": {
        "id": "ejtMThhFg3e3"
      },
      "id": "ejtMThhFg3e3",
      "execution_count": null,
      "outputs": []
    },
    {
      "cell_type": "code",
      "source": [
        "numerico_df.agg(\n",
        "    { #  Crear diccionario para especificar para cada columna.\n",
        "      'points' : ['sum', 'min'], # Para la columna points\n",
        "      'price' : ['min', 'max'] # Para la columna price\n",
        "    },\n",
        "    axis = 0 # Por defecto, pero lo especificamos (eje de filas)\n",
        ")\n",
        "\n"
      ],
      "metadata": {
        "id": "lJFNz-3mioGN"
      },
      "id": "lJFNz-3mioGN",
      "execution_count": null,
      "outputs": []
    },
    {
      "cell_type": "markdown",
      "source": [
        "Si no se aplica ninguna agregación específica a una columna entonces le corresponde un valor NaN (faltante)\n"
      ],
      "metadata": {
        "id": "rkUAa4Wi-6lV"
      },
      "id": "rkUAa4Wi-6lV"
    },
    {
      "cell_type": "code",
      "source": [
        "numerico_df.agg('sum', axis=1) # Agregar por columna (axis=1), suma de cada fila"
      ],
      "metadata": {
        "id": "2JDW_RJwi47J"
      },
      "id": "2JDW_RJwi47J",
      "execution_count": null,
      "outputs": []
    },
    {
      "cell_type": "markdown",
      "source": [
        "##### Agrupar\n",
        "Agrupar datos con pandas usando una clave es una operación común para el análisis de datos.\n",
        "Para agrupar datos usando una clave, usamos el método `groupby()` de un DataFrame y especificamos la columna que queremos usar como clave para agrupar:\n",
        "\n",
        "```\n",
        "agrupado = df.groupby('nombre_columna')\n",
        "```\n",
        "Después de agrupar, normalmente se desea realizar alguna agregación. Las funciones de agregación comunes incluyen las siguientes:\n",
        "* agrupado.sum(): calcula la suma de todas las columnas numéricas\n",
        "* agrupado.mean(): calcula el promedio (media aritmética)\n",
        "* agrupado.count(): cuenta la cantidad de valores no nulos\n",
        "* agrupado.agg(['sum', 'mean', 'count']): aplica varias funciones de agregación a la vez: suma, media y recuento\n",
        "\n",
        "\n",
        "Veamos ejemplos:"
      ],
      "metadata": {
        "id": "YXpgsLlecyED"
      },
      "id": "YXpgsLlecyED"
    },
    {
      "cell_type": "code",
      "execution_count": null,
      "id": "708d5f7e",
      "metadata": {
        "id": "708d5f7e"
      },
      "outputs": [],
      "source": [
        "agrupado_por_country = reseVino_df.groupby('country')\n",
        "agrupado_por_country"
      ]
    },
    {
      "cell_type": "markdown",
      "id": "3cb58fe0",
      "metadata": {
        "id": "3cb58fe0"
      },
      "source": [
        "Vemos que groupby nos devuelve un objeto Pandas.core.groupby.generic.DataFrameGroupBy.\n",
        "\n",
        "Sobre este objeto, podemos aplicar directamente funciones de agregación como:"
      ]
    },
    {
      "cell_type": "code",
      "execution_count": null,
      "id": "8bc0bf2c",
      "metadata": {
        "id": "8bc0bf2c"
      },
      "outputs": [],
      "source": [
        "# Aplicar count, para cada grupo de categorias de la columna Country contar los valores no nulos asociados\n",
        "agrupado_por_country.count().head()"
      ]
    },
    {
      "cell_type": "code",
      "execution_count": null,
      "id": "36e1cfc3",
      "metadata": {
        "id": "36e1cfc3",
        "scrolled": true
      },
      "outputs": [],
      "source": [
        "agrupado_por_country.mean().head() # Aplicar mean y ver las primeras filas\n",
        "#Esto funciona solo para variables numéricas, sino hay error, cómo este ejemplo"
      ]
    },
    {
      "cell_type": "code",
      "source": [
        "agrupado_por_country.mean(numeric_only=True).head() # Aplicar mean para variables numéricas"
      ],
      "metadata": {
        "id": "iovp5VK1qIl-"
      },
      "id": "iovp5VK1qIl-",
      "execution_count": null,
      "outputs": []
    },
    {
      "cell_type": "code",
      "source": [
        "agrupado_por_country['points'].mean().head() # Valores agrupados por country y points"
      ],
      "metadata": {
        "id": "Ui07ypbKqjUl"
      },
      "id": "Ui07ypbKqjUl",
      "execution_count": null,
      "outputs": []
    },
    {
      "cell_type": "markdown",
      "id": "53ffa0bb",
      "metadata": {
        "id": "53ffa0bb"
      },
      "source": [
        "También podemos agrupar por múltiples columnas:"
      ]
    },
    {
      "cell_type": "code",
      "execution_count": null,
      "id": "f50db78c",
      "metadata": {
        "id": "f50db78c"
      },
      "outputs": [],
      "source": [
        "\n",
        "agrupado_por_country_prov = reseVino_df.groupby(\n",
        "    ['country', 'province'] # Agrupar por más de 1 columna\n",
        "    )\n",
        "\n",
        "\n",
        "agrupado_por_country_prov.mean(numeric_only=True).head() # Calcular la media para cada grupo"
      ]
    },
    {
      "cell_type": "markdown",
      "id": "5e4e4355",
      "metadata": {
        "id": "5e4e4355"
      },
      "source": [
        "Y si no queremos que las variables por las que agrupamos se conviertan en índices y sean una columna más, podemos especificarlo en la función:"
      ]
    },
    {
      "cell_type": "code",
      "execution_count": null,
      "id": "eea7900e",
      "metadata": {
        "id": "eea7900e",
        "scrolled": false
      },
      "outputs": [],
      "source": [
        "agrupado_por_country_prov = reseVino_df.groupby(\n",
        "    ['country', 'province'],\n",
        "    as_index=False # modificar el argumento as_index, que por defecto es as_index = True\n",
        "    )\n",
        "\n",
        "\n",
        "agrupado_por_country_prov.mean(numeric_only=True).head()"
      ]
    },
    {
      "cell_type": "markdown",
      "id": "26fa729d",
      "metadata": {
        "id": "26fa729d"
      },
      "source": [
        "Finalmente, también podemos aplicar distintas funciones de agregación a cada columna.\n",
        "\n",
        "\n",
        "1. Agrupar el conjunto de datos por pais.\n",
        "\n",
        "2. Obtener una columna que tenga el precio medio por país y otra que contenga la sumatoria de puntos. (`.mean()` y `.sum()` )."
      ]
    },
    {
      "cell_type": "code",
      "execution_count": null,
      "id": "57043225",
      "metadata": {
        "id": "57043225"
      },
      "outputs": [],
      "source": [
        "agrupado_por_country = reseVino_df.groupby(\n",
        "    ['country'], # Agrupar por country\n",
        "    as_index=False\n",
        "\n",
        "    ).agg( # Agregar de manera determinada para price y points\n",
        "\n",
        "    {'price': ['mean'],\n",
        "     'points': ['sum']\n",
        "     }\n",
        "    )\n",
        "\n",
        "agrupado_por_country.columns = [\"Country\",'Price mean', 'Points sum'] # Modificar nombre de columna\n",
        "\n",
        "agrupado_por_country.head()"
      ]
    },
    {
      "cell_type": "markdown",
      "source": [
        "\n",
        "Al agrupar datos en Pandas, hay varias cosas que se deben tener en cuenta para garantizar resultados precisos:\n",
        "* datos faltantes: tener en cuenta los datos faltantes en las columnas utilizadas para agrupar. Pandas excluirá las filas con datos faltantes del resultado agrupado, lo que puede afectar los cálculos finales.\n",
        "* MultiIndex: al agrupar por varias columnas, Pandas devuelve un índice jerárquico (MultiIndex). Familiarizarse con el trabajo con MultiIndex y considerar restablecer el índice si es necesario, como lo hemos estado haciendo para simplificar.\n",
        "* Orden de operaciones: el orden en el que realiza agrupaciones y agregaciones puede afectar los resultados. Tener en cuenta la secuencia en la que aplica las funciones de agrupación y agregación.\n",
        "* Agrupación de conjuntos de datos grandes: para conjuntos de datos grandes, la agrupación puede consumir mucha memoria. Considerar usar técnicas como fragmentación o procesamiento paralelo para administrar el uso de memoria y el tiempo de cálculo."
      ],
      "metadata": {
        "id": "U4kmpQbB_gsa"
      },
      "id": "U4kmpQbB_gsa"
    },
    {
      "cell_type": "code",
      "execution_count": null,
      "id": "28966cdd",
      "metadata": {
        "id": "28966cdd",
        "scrolled": true
      },
      "outputs": [],
      "source": [
        "print(\"Tabla Ascendente por Points\")\n",
        "display(agrupado_por_country.sort_values(by=['Points sum'], ascending=[True]).head())\n",
        "print(\"\")\n",
        "print(\"--------------------------------\")\n",
        "print(\"\")\n",
        "print(\"Tabla Descendente por Points\")\n",
        "display(agrupado_por_country.sort_values(by=['Points sum'], ascending=[False]).head())"
      ]
    },
    {
      "cell_type": "markdown",
      "source": [
        "##### Reorganizar\n"
      ],
      "metadata": {
        "id": "P-EkArR1akb5"
      },
      "id": "P-EkArR1akb5"
    },
    {
      "cell_type": "markdown",
      "source": [
        "###### Tablas dinámicas (Pivot)\n",
        "La función `pivot_table()` crea una tabla dinámica de estilo hoja de cálculo como `DataFrame`.\n",
        "Los niveles de la tabla dinámica se almacenarán en objetos MultiIndex (índices jerárquicos) en el índice y las columnas del `DataFrame`. Se requiere un único valor para cada combinación de índice/columna.\n",
        "\n",
        "\n",
        "\n",
        "```\n",
        "pd.pivot_table(data, values, index, columns, aggfunc ...)\n",
        "\n",
        "```\n",
        "En términos de sintaxis, el expresion anterior representa lo siguiente:\n",
        "* `data`:  el conjunto de datos.\n",
        "* `values`: son las columnas a las que se aplicará la función de agregación.\n",
        "* `index`: es una columna para agrupar datos. Claves por las que se agruparán en el índice de la tabla dinámica.\n",
        "* `columns`: columnas para especificar la categoría de los datos.\n",
        "* `aggfunc`: es la función de agregación que se aplicará. Por defecto la función de agregación es `mean()`.\n",
        "\n",
        "Entre otros argumentos.  Para más información click en [la documentación oficial](https://pandas.pydata.org/docs/reference/api/pandas.pivot_table.html)"
      ],
      "metadata": {
        "id": "0BRbF7v2_JmG"
      },
      "id": "0BRbF7v2_JmG"
    },
    {
      "cell_type": "code",
      "source": [
        "reseVino_df.columns"
      ],
      "metadata": {
        "id": "6EongAd6EakN"
      },
      "id": "6EongAd6EakN",
      "execution_count": null,
      "outputs": []
    },
    {
      "cell_type": "code",
      "source": [
        "pd.pivot_table(\n",
        "    reseVino_df[reseVino_df['country'].isin(['Argentina','Chile'])], # dato\n",
        "    values=['points','price'], # Columna o columnas a agregar.\n",
        "    index =['variety'],  # Claves para agrupar en el índice de la tabla dinámica.\n",
        "    columns=['country'] # Claves para agrupar en la columna de la tabla dinámica.\n",
        "    )"
      ],
      "metadata": {
        "id": "6Xr-jCtn-mv1"
      },
      "id": "6Xr-jCtn-mv1",
      "execution_count": null,
      "outputs": []
    },
    {
      "cell_type": "markdown",
      "id": "db9d18dd",
      "metadata": {
        "id": "db9d18dd"
      },
      "source": [
        "### ¿Cómo combinar datos de varias tablas?\n"
      ]
    },
    {
      "cell_type": "markdown",
      "source": [
        "\n",
        "##### Concatenación de DataFrames\n",
        "Cuando tienes conjuntos de datos distribuidos en varios DataFrames con estructuras similares (las mismas columnas o las mismas filas) y quieres combinarlos en un único DataFrame, aquí es donde la concatenación resulta muy útil. El proceso de concatenación puede realizarse a lo largo de un eje en particular, ya sea por filas (eje=0) o por columnas (eje=1).\n",
        "\n",
        "La función `concat()` se utiliza para concatenar lista de `DataFrames` o lista de `Series`.  Veamos ejemplo:"
      ],
      "metadata": {
        "id": "YhY2vVzIh4A2"
      },
      "id": "YhY2vVzIh4A2"
    },
    {
      "cell_type": "code",
      "source": [
        "df1 = reseVino_df[['country','price']].head(2)\n",
        "display('DF1 ',df1)\n",
        "print(\"--------------------------------\")\n",
        "df2 = reseVino_df[['country','price','points']].tail(2)\n",
        "display('DF2 ',df2)"
      ],
      "metadata": {
        "id": "E_sgK53ngrlD"
      },
      "id": "E_sgK53ngrlD",
      "execution_count": null,
      "outputs": []
    },
    {
      "cell_type": "code",
      "source": [
        "pd.concat([df1,df2]) #Por defecto axis=0, se concatenan filas, apilando los DataFrames uno sobre el otro."
      ],
      "metadata": {
        "id": "Thm4FT_1hiV2"
      },
      "id": "Thm4FT_1hiV2",
      "execution_count": null,
      "outputs": []
    },
    {
      "cell_type": "code",
      "source": [
        "df1 = reseVino_df[['country','price']].head(10)\n",
        "display('DF1',df1)\n",
        "print(\"--------------------------------\")\n",
        "df2 = reseVino_df[['points','variety']].head(10)\n",
        "display('DF2',df2)"
      ],
      "metadata": {
        "id": "SZuUHK8Qk_xd"
      },
      "id": "SZuUHK8Qk_xd",
      "execution_count": null,
      "outputs": []
    },
    {
      "cell_type": "code",
      "source": [
        "# Concatenar lista de DataFrames. axis=1, se concatenan columnas, se agregan columnas teniendo en cuenta el indice del Dataframe\n",
        "pd.concat([df1,df2], axis=1)"
      ],
      "metadata": {
        "id": "-rEhBK8knKPs"
      },
      "id": "-rEhBK8knKPs",
      "execution_count": null,
      "outputs": []
    },
    {
      "cell_type": "markdown",
      "source": [
        "##### Fusión de DataFrames\n",
        "La función `merge()` admite múltiples opciones de unión similares a las operaciones de estilo de base de datos. Fusiona objetos `DataFrame` o `Serie` con nombre con una unión de estilo base de datos.\n",
        "\n",
        "https://pandas.pydata.org/docs/reference/api/pandas.merge.html#pandas.merge\n",
        "\n",
        "\n",
        "Estos son los siguientes tipos de uniones:\n",
        "* La unión interna toma la intersección de dos o más `DataFrame` o `Serie`. Corresponde al INNER JOIN en el lenguaje de consulta estructurado (SQL).\n",
        "* La ​​unión externa toma la unión de dos o más `DataFrame` o `Serie`. Corresponde al FULL OUTER JOIN en SQL.\n",
        "* La unión izquierda usa solo las claves del `DataFrame` o `Serie` izquierdo. Corresponde al LEFT OUTER JOIN en SQL.\n",
        "* La unión derecha usa solo las claves del `DataFrame` o `Serie` derecho. Corresponde al RIGHT OUTER JOIN en SQL.\n"
      ],
      "metadata": {
        "id": "mUFCa800pq4A"
      },
      "id": "mUFCa800pq4A"
    },
    {
      "cell_type": "code",
      "source": [
        "import numpy as np\n",
        "np.random.seed(1)\n",
        "\n",
        "ids = np.arange(1,reseVino_df.shape[0]+1) # Crear ID en orden\n",
        "\n",
        "reseVino_df['ID'] = ids # Crear DF\n",
        "df1 = reseVino_df[['ID','country','price']].head(5)\n",
        "\n",
        "display('DF1',df1)\n",
        "print(\"--------------------------------\")\n",
        "df2 = reseVino_df[['ID','points','variety']].head(15)\n",
        "display('DF2',df2)"
      ],
      "metadata": {
        "id": "mlVQskmTpoRy"
      },
      "id": "mlVQskmTpoRy",
      "execution_count": null,
      "outputs": []
    },
    {
      "cell_type": "code",
      "source": [
        "datos_inner_df = pd.merge(df1, df2, on='ID', how='inner')\n",
        "datos_inner_df"
      ],
      "metadata": {
        "id": "-ylJx1VopohT"
      },
      "id": "-ylJx1VopohT",
      "execution_count": null,
      "outputs": []
    },
    {
      "cell_type": "markdown",
      "source": [
        "Como vemos en el fragmento de código anterior, la función `pd.merge()` se utiliza para fusionar los dos DataFrames. El argumento `on='ID'` especifica que la columna ID debe utilizarse como clave para unir los DataFrames. El argumento `how='inner'`especifica que debe realizarse una unión interna. Este tipo de unión devuelve solo las filas que tienen valores coincidentes en ambos DataFrames, que, en este caso, son las filas en las que ID coincide tanto en df1 como en df2."
      ],
      "metadata": {
        "id": "Zp3rH528z9d7"
      },
      "id": "Zp3rH528z9d7"
    },
    {
      "cell_type": "code",
      "source": [
        "datos_outer_df = pd.merge(df1, df2, on='ID', how='outer')\n",
        "datos_outer_df"
      ],
      "metadata": {
        "id": "MNwhsBpWz8g7"
      },
      "id": "MNwhsBpWz8g7",
      "execution_count": null,
      "outputs": []
    },
    {
      "cell_type": "markdown",
      "source": [
        "Como vemos en el fragmento de código anterior, el argumento `on='ID'` especifica que la columna ID debe utilizarse como clave en la que fusionar los `DataFrames`. El argumento `how='outer'` especifica que debe realizarse una unión externa completa. Este tipo de unión devuelve todas las filas de ambos `DataFrames`, completando NaN donde no hay coincidencia."
      ],
      "metadata": {
        "id": "A49uMV_41NTU"
      },
      "id": "A49uMV_41NTU"
    },
    {
      "cell_type": "code",
      "source": [
        "datos_right_df = pd.merge(df1, df2, on='ID', how='right')\n",
        "datos_right_df"
      ],
      "metadata": {
        "id": "w0x08H39pow2"
      },
      "id": "w0x08H39pow2",
      "execution_count": null,
      "outputs": []
    },
    {
      "cell_type": "markdown",
      "source": [
        "El argumento `how='right'` especifica que se debe realizar una unión externa derecha. Este tipo de unión devuelve todas las filas del DataFrame derecho (df1) y las filas coincidentes del DataFrame izquierdo (df2). Si no hay coincidencia, el resultado tendrá NaN en las columnas del DataFrame izquierdo."
      ],
      "metadata": {
        "id": "7YWIf7Ha2kXW"
      },
      "id": "7YWIf7Ha2kXW"
    },
    {
      "cell_type": "code",
      "source": [
        "datos_left_df = pd.merge(df1, df2, on='ID', how='left')\n",
        "datos_left_df"
      ],
      "metadata": {
        "id": "myEIWL8m2jwa"
      },
      "id": "myEIWL8m2jwa",
      "execution_count": null,
      "outputs": []
    },
    {
      "cell_type": "markdown",
      "source": [
        "El argumento `how='left'` especifica que se debe realizar una unión externa izquierda. Este tipo de unión devuelve todas las filas del DataFrame izquierdo (df2) y las filas coincidentes del DataFrame derecho (df1). Si no hay coincidencias, el resultado tendrá NaN en las columnas del DataFrame derecho."
      ],
      "metadata": {
        "id": "Dldezfp53TvH"
      },
      "id": "Dldezfp53TvH"
    },
    {
      "cell_type": "markdown",
      "source": [
        "#### Nota: manejo de duplicados al fusionar conjuntos de datos\n",
        "\n",
        "El manejo de claves duplicadas antes de realizar operaciones de fusión es fundamental porque los duplicados pueden generar resultados inesperados, como productos cartesianos, donde las filas se multiplican por la cantidad de entradas coincidentes. Esto no solo puede distorsionar el análisis de datos, sino que también afecta significativamente el rendimiento debido al mayor tamaño del DataFrame resultante."
      ],
      "metadata": {
        "id": "U4wPEPH_3tSH"
      },
      "id": "U4wPEPH_3tSH"
    },
    {
      "cell_type": "markdown",
      "id": "9b76990b",
      "metadata": {
        "id": "9b76990b"
      },
      "source": [
        "### ¿Cómo manejar los datos de series temporales?\n"
      ]
    },
    {
      "cell_type": "markdown",
      "source": [
        "Imagina que tienes datos que incluyen información sobre cuándo sucedieron las cosas, poder comprender y manejar esos datos relacionados con el tiempo es clave para dar sentido a los patrones y las tendencias.\n",
        "Pandas tiene un gran soporte para series de tiempo y tiene un amplio conjunto de herramientas para trabajar con fechas, horas y datos indexados en el tiempo.\n",
        "\n",
        "Pandas captura cuatro conceptos generales relacionados con el tiempo:\n",
        "\n",
        "\n",
        "* Date times: una fecha y hora específicas con compatibilidad con zonas horarias. Similar a `datetime.datetime` de la biblioteca estándar.\n",
        "\n",
        "* Time deltas: una duración de tiempo absoluta. Similar a `datetime.timedelta` de la biblioteca estándar.\n",
        "\n",
        "* Time spans: un intervalo de tiempo definido por un punto en el tiempo y su frecuencia asociada.\n",
        "\n",
        "* Date offsets: una duración de tiempo relativa que respeta la aritmética del calendario. Similar a `dateutil.relativedelta.relativedelta` del paquete `dateutil`.\n",
        "\n",
        "En está sección nos centraremos en `datetime`  y `DatetimeIndex`."
      ],
      "metadata": {
        "id": "YxrjCMNO9pQL"
      },
      "id": "YxrjCMNO9pQL"
    },
    {
      "cell_type": "code",
      "source": [
        "from datetime import datetime\n",
        "import pandas as pd"
      ],
      "metadata": {
        "id": "LfobgQcu6TaI"
      },
      "id": "LfobgQcu6TaI",
      "execution_count": null,
      "outputs": []
    },
    {
      "cell_type": "code",
      "source": [
        "fecha_inicial = datetime.strptime(\"2000-01-01\", \"%Y-%m-%d\") # fecha inicial\n",
        "fecha_final = datetime.strptime(\"2024-12-31\", \"%Y-%m-%d\") # fecha final\n",
        "print(fecha_inicial, fecha_final)"
      ],
      "metadata": {
        "id": "gBdMXNMs6Trd"
      },
      "id": "gBdMXNMs6Trd",
      "execution_count": null,
      "outputs": []
    },
    {
      "cell_type": "code",
      "source": [
        "type(fecha_inicial)"
      ],
      "metadata": {
        "id": "bsMBC-lgJomh"
      },
      "id": "bsMBC-lgJomh",
      "execution_count": null,
      "outputs": []
    },
    {
      "cell_type": "code",
      "source": [
        "lista_fechas = pd.date_range(\n",
        "    start=fecha_inicial,\n",
        "    end=fecha_final\n",
        "    ) # Por defecto la frecuencia es freq=D de días\n",
        "\n",
        "print(lista_fechas)"
      ],
      "metadata": {
        "id": "jp5yEFw5JRwt"
      },
      "id": "jp5yEFw5JRwt",
      "execution_count": null,
      "outputs": []
    },
    {
      "cell_type": "markdown",
      "source": [
        "En este primer ejemplo importamos la librería `datetime` y `pandas`  y utlizamos `datetime.strptime` y `pd.date_range()`.\n",
        "\n",
        "El módulo `datetime`, integrado con Python, se utiliza para trabajar con  fechas, horas o intervalos de tiempo. Proporciona clases y métodos para fecha y hora.\n",
        "\n"
      ],
      "metadata": {
        "id": "nq_WPPDtNQsG"
      },
      "id": "nq_WPPDtNQsG"
    },
    {
      "cell_type": "code",
      "source": [
        "?datetime.strptime"
      ],
      "metadata": {
        "id": "MFtgE57TR82P"
      },
      "id": "MFtgE57TR82P",
      "execution_count": null,
      "outputs": []
    },
    {
      "cell_type": "markdown",
      "source": [
        "En Python, podemos utilizar el método `datetime.strptime()` para convertir una cadena en un objeto datetime. El método `strptime()` toma dos argumentos: la cadena que se va a convertir y una cadena de formato que especifica el formato de la cadena de entrada."
      ],
      "metadata": {
        "id": "CL3pjdwNTN7H"
      },
      "id": "CL3pjdwNTN7H"
    },
    {
      "cell_type": "code",
      "source": [
        "?pd.date_range"
      ],
      "metadata": {
        "id": "XPluT06WTNI_"
      },
      "id": "XPluT06WTNI_",
      "execution_count": null,
      "outputs": []
    },
    {
      "cell_type": "markdown",
      "source": [
        "El método `pd.date_range()` devuelve un rango de tiempo igualmente espaciado `start <[=] x <[=] end`. Devuelve un DatetimeIndex de frecuencia fija.\n"
      ],
      "metadata": {
        "id": "Uq8lNOuvTkud"
      },
      "id": "Uq8lNOuvTkud"
    },
    {
      "cell_type": "markdown",
      "source": [
        "Para trabajar más en detalle con datos de series de tiempo, veamos el conjunto de datos *certificados-personas-por-fecha-ingreso-provincia-localidad.csv*\n",
        "que se corresponde a los certificados de circulación emitidos para ir de vacaciones durante la emergencia sanitaria en Argentina. Para más detalle del archivo, click en [datos.gob.ar](https://datos.gob.ar/bg/dataset/turismo-certificado-unico-habilitante-para-circulacion-cuhc---verano)\n",
        "\n"
      ],
      "metadata": {
        "id": "s-WmaYR2IYCG"
      },
      "id": "s-WmaYR2IYCG"
    },
    {
      "cell_type": "code",
      "execution_count": null,
      "id": "a8ab4e7e",
      "metadata": {
        "id": "a8ab4e7e"
      },
      "outputs": [],
      "source": [
        "import pandas as pd"
      ]
    },
    {
      "cell_type": "code",
      "source": [
        "url_base = 'https://raw.githubusercontent.com/formacionCDIA/cursoCDIA/main/Data/'\n",
        "\n",
        "nombre_archivo = 'certificados-personas-por-fecha-ingreso-provincia-localidad.csv'\n",
        "\n",
        "ruta_archivo = url_base + nombre_archivo\n"
      ],
      "metadata": {
        "id": "GUGz1Rv9WqQO"
      },
      "id": "GUGz1Rv9WqQO",
      "execution_count": null,
      "outputs": []
    },
    {
      "cell_type": "code",
      "execution_count": null,
      "id": "f72cd2e2",
      "metadata": {
        "id": "f72cd2e2"
      },
      "outputs": [],
      "source": [
        "certif_df = pd.read_csv(ruta_archivo)\n",
        "certif_df.head(5)"
      ]
    },
    {
      "cell_type": "code",
      "execution_count": null,
      "id": "48d72885",
      "metadata": {
        "id": "48d72885"
      },
      "outputs": [],
      "source": [
        "certif_df.info()"
      ]
    },
    {
      "cell_type": "markdown",
      "source": [
        "#### Uso de las propiedades datetime de pandas\n",
        "\n",
        "Queremos trabajar con las fechas en la columna 'fecha_ingreso' como objetos datetime en lugar de texto sin formato"
      ],
      "metadata": {
        "id": "khv0ALBvYA3M"
      },
      "id": "khv0ALBvYA3M"
    },
    {
      "cell_type": "code",
      "execution_count": null,
      "id": "8318060c",
      "metadata": {
        "id": "8318060c"
      },
      "outputs": [],
      "source": [
        "pd.to_datetime('2025-01-10') # año-mes-dia"
      ]
    },
    {
      "cell_type": "code",
      "execution_count": null,
      "id": "f63ddb77",
      "metadata": {
        "id": "f63ddb77"
      },
      "outputs": [],
      "source": [
        "pd.to_datetime('25-01-10')"
      ]
    },
    {
      "cell_type": "code",
      "execution_count": null,
      "id": "cb587e3d",
      "metadata": {
        "id": "cb587e3d"
      },
      "outputs": [],
      "source": [
        "pd.to_datetime('10-01-2025') # Es correcto?"
      ]
    },
    {
      "cell_type": "code",
      "source": [
        "pd.to_datetime('10-01-2025', dayfirst= True)"
      ],
      "metadata": {
        "id": "1M6GT9dzZFO9"
      },
      "id": "1M6GT9dzZFO9",
      "execution_count": null,
      "outputs": []
    },
    {
      "cell_type": "code",
      "execution_count": null,
      "id": "4c53f6f6",
      "metadata": {
        "id": "4c53f6f6"
      },
      "outputs": [],
      "source": [
        "pd.to_datetime('10-01-2025',format='%d-%m-%Y')"
      ]
    },
    {
      "cell_type": "markdown",
      "source": [
        "Inicialmente, los valores en datetime son cadenas de caracteres y no proporcionan ninguna operación de fecha y hora (p. ej., extraer el año, el día de la semana, etc.). Al aplicar la función `to_datetime`, pandas interpreta las cadenas y las convierte en objetos de fecha y hora (es decir, `datetime64[ns, UTC]`)."
      ],
      "metadata": {
        "id": "PnAmaRGqZGf8"
      },
      "id": "PnAmaRGqZGf8"
    },
    {
      "cell_type": "markdown",
      "source": [
        "Para nuestro conjunto de datos"
      ],
      "metadata": {
        "id": "74ct51xsZmtI"
      },
      "id": "74ct51xsZmtI"
    },
    {
      "cell_type": "code",
      "execution_count": null,
      "id": "09a74a5f",
      "metadata": {
        "id": "09a74a5f"
      },
      "outputs": [],
      "source": [
        "certif_df['fecha_ingreso_transf'] = pd.to_datetime(certif_df['fecha_ingreso'])"
      ]
    },
    {
      "cell_type": "code",
      "execution_count": null,
      "id": "6892e711",
      "metadata": {
        "id": "6892e711"
      },
      "outputs": [],
      "source": [
        "certif_df.dtypes"
      ]
    },
    {
      "cell_type": "code",
      "execution_count": null,
      "id": "bd2acbc1",
      "metadata": {
        "id": "bd2acbc1"
      },
      "outputs": [],
      "source": [
        "certif_df.info()"
      ]
    },
    {
      "cell_type": "code",
      "execution_count": null,
      "id": "e4b11f0a",
      "metadata": {
        "id": "e4b11f0a"
      },
      "outputs": [],
      "source": [
        "def transforma_fecha(x):\n",
        "  \"\"\"\n",
        "  Convierte cadena al objeto fecha en formato específico\n",
        "  \"\"\"\n",
        "  return pd.to_datetime(x, format='%Y-%m-%d')"
      ]
    },
    {
      "cell_type": "code",
      "execution_count": null,
      "id": "d96d3ef1",
      "metadata": {
        "id": "d96d3ef1"
      },
      "outputs": [],
      "source": [
        "certif_df2 = pd.read_csv(ruta_archivo, date_parser=transforma_fecha) # lambda x: pd.to_datetime(x)\n",
        "certif_df2"
      ]
    },
    {
      "cell_type": "code",
      "execution_count": null,
      "id": "9b33bf5a",
      "metadata": {
        "id": "9b33bf5a"
      },
      "outputs": [],
      "source": [
        "certif_df2.dtypes"
      ]
    },
    {
      "cell_type": "code",
      "execution_count": null,
      "id": "28593c31",
      "metadata": {
        "id": "28593c31"
      },
      "outputs": [],
      "source": [
        "certif_df2 = pd.read_csv(ruta_archivo, parse_dates=['fecha_ingreso'], date_parser=lambda x: pd.to_datetime(x)) # lambda x: pd.to_datetime(x)\n",
        "certif_df2"
      ]
    },
    {
      "cell_type": "code",
      "execution_count": null,
      "id": "8f08dff6",
      "metadata": {
        "id": "8f08dff6"
      },
      "outputs": [],
      "source": [
        "certif_df2.dtypes"
      ]
    },
    {
      "cell_type": "code",
      "execution_count": null,
      "id": "d18c3c62",
      "metadata": {
        "id": "d18c3c62"
      },
      "outputs": [],
      "source": [
        "certif_df2 = pd.read_csv(ruta_archivo,date_parser=lambda x: pd.to_datetime(x), index_col=\"fecha_ingreso\")\n",
        "certif_df2"
      ]
    },
    {
      "cell_type": "code",
      "execution_count": null,
      "id": "32ec323c",
      "metadata": {
        "id": "32ec323c"
      },
      "outputs": [],
      "source": [
        "certif_df2.index"
      ]
    },
    {
      "cell_type": "code",
      "execution_count": null,
      "id": "33804013",
      "metadata": {
        "id": "33804013"
      },
      "outputs": [],
      "source": [
        "# Al trabajar con indice fecha\n",
        "certif_df2.loc[\"2020-12-01\"].head(5)"
      ]
    },
    {
      "cell_type": "code",
      "source": [
        "certif_df2[\"2020-12-01\":\"2020-12-10\"]"
      ],
      "metadata": {
        "id": "Y_X7hIbEcLHN"
      },
      "id": "Y_X7hIbEcLHN",
      "execution_count": null,
      "outputs": []
    },
    {
      "cell_type": "markdown",
      "source": [
        "Veamos ahora como trabajar con partes de una fecha"
      ],
      "metadata": {
        "id": "D0KKVye6a6wY"
      },
      "id": "D0KKVye6a6wY"
    },
    {
      "cell_type": "markdown",
      "id": "ca23f238",
      "metadata": {
        "id": "ca23f238"
      },
      "source": [
        "¿ Cómo podemos acceder a el día/mes/año de una columna ?"
      ]
    },
    {
      "cell_type": "code",
      "execution_count": null,
      "id": "4cfaf84b",
      "metadata": {
        "id": "4cfaf84b"
      },
      "outputs": [],
      "source": [
        "certif_df3 = pd.read_csv(ruta_archivo) # Cargar datos\n",
        "\n",
        "certif_df3['fecha_ingreso'] = pd.to_datetime(certif_df3['fecha_ingreso'],format='%Y-%m-%d')\n",
        "\n",
        "certif_df3['anio'] = certif_df3['fecha_ingreso'].dt.year # utilizar dt\n",
        "certif_df3['mes'] = certif_df3['fecha_ingreso'].dt.month\n",
        "certif_df3['dia'] = certif_df3['fecha_ingreso'].dt.day\n",
        "\n",
        "# certif_df3['day'] = pd.DatetimeIndex(certif_df3['fecha_ingreso']).day"
      ]
    },
    {
      "cell_type": "code",
      "execution_count": null,
      "id": "05d6267d",
      "metadata": {
        "id": "05d6267d"
      },
      "outputs": [],
      "source": [
        "certif_df3.head(5)"
      ]
    },
    {
      "cell_type": "code",
      "execution_count": null,
      "id": "f0621b6f",
      "metadata": {
        "id": "f0621b6f",
        "scrolled": true
      },
      "outputs": [],
      "source": [
        "# Chequeo es una fecha\n",
        "certif_df3.info()"
      ]
    },
    {
      "cell_type": "markdown",
      "id": "3ad70c8d",
      "metadata": {
        "id": "3ad70c8d"
      },
      "source": [
        "¿Cómo podemos ver la semana?"
      ]
    },
    {
      "cell_type": "code",
      "execution_count": null,
      "id": "19165373",
      "metadata": {
        "id": "19165373",
        "scrolled": true
      },
      "outputs": [],
      "source": [
        "# datos[\"semana\"]=pd.DatetimeIndex(datos['fecha_ingreso']).week\n",
        "certif_df3[\"semana\"]=certif_df3['fecha_ingreso'].dt.isocalendar().week\n",
        "# El 0 es el lunes"
      ]
    },
    {
      "cell_type": "markdown",
      "source": [
        "📝 **Ejercicio**"
      ],
      "metadata": {
        "id": "m4dEl96l7riI"
      },
      "id": "m4dEl96l7riI"
    },
    {
      "cell_type": "markdown",
      "id": "1a7d118d",
      "metadata": {
        "id": "1a7d118d"
      },
      "source": [
        "Utilizando el objeto DataFrame certif_df3\n"
      ]
    },
    {
      "cell_type": "code",
      "source": [
        "certif_df3.head()\n",
        "\n"
      ],
      "metadata": {
        "id": "t7ZzJiHoOWlL"
      },
      "id": "t7ZzJiHoOWlL",
      "execution_count": null,
      "outputs": []
    },
    {
      "cell_type": "markdown",
      "source": [
        " Contestar:\n",
        " * ¿Cuál es la fecha mínima de ingreso? ¿Y la máxima?\n",
        " * ¿Cuántos certificados se emitieron en Febrero de 2021?\n"
      ],
      "metadata": {
        "id": "RQE9p1ocOXRa"
      },
      "id": "RQE9p1ocOXRa"
    },
    {
      "cell_type": "code",
      "source": [],
      "metadata": {
        "id": "0JGtSOQdPNxC"
      },
      "id": "0JGtSOQdPNxC",
      "execution_count": null,
      "outputs": []
    },
    {
      "cell_type": "code",
      "source": [],
      "metadata": {
        "id": "c_mO7uCHPOIC"
      },
      "id": "c_mO7uCHPOIC",
      "execution_count": null,
      "outputs": []
    },
    {
      "cell_type": "markdown",
      "source": [
        "**Haz doble click para ver la respuesta**\n",
        "<!--\n",
        "\n",
        "print(certif_df3[\"fecha_ingreso\"].min())\n",
        "print(certif_df3[\"fecha_ingreso\"].max())\n",
        "\n",
        "\n",
        "mask_mes_anio = (certif_df3['mes'] == 2) & (certif_df3['anio'] == 2021)\n",
        "print(certif_df3[mask_mes_anio]['cantidad_certificados'].sum())\n",
        "-->"
      ],
      "metadata": {
        "id": "EvaQdXF3PPUe"
      },
      "id": "EvaQdXF3PPUe"
    },
    {
      "cell_type": "markdown",
      "id": "3b00dbd5",
      "metadata": {
        "id": "3b00dbd5"
      },
      "source": [
        "### ¿Cómo crear gráficos en pandas?\n"
      ]
    },
    {
      "cell_type": "markdown",
      "source": [
        "Al comienzo del módulo, exploramos un conjunto de datos sobre reseña de vino para\n",
        "identificar tipos de datos.  Planteamos que hay dos grandes categorías:\n",
        "\n",
        "* **Datos Categóricos o cuantitativos en estadística:** Representa las características de un objeto. Algunos ejemplos en nuestro conjunto de datos:\n",
        "country (país): Indica el país de origen del vino. Presenta una cantidad específica de categorías que representan países como 'Italy', 'Portugal', 'US', 'Spain', 'France', 'Germany',   'Argentina', 'Chile'.\n",
        "variety (variedad): Nos dice qué tipo de uva se usó, como ‘Malbec’, ‘Cabernet’\n",
        "\n",
        "* **Datos Numéricos: Representan valores cuantificables:** Pueden ser enteros o  decimales. Por ejemplo points (puntos) y price (precio). En donde points  indica un valor entre 80 y 100 en calidad del vino y price representa el precio de la botella en dólares.\n"
      ],
      "metadata": {
        "id": "ftJSKThw_ThH"
      },
      "id": "ftJSKThw_ThH"
    },
    {
      "cell_type": "code",
      "source": [
        "import pandas as pd # Importar"
      ],
      "metadata": {
        "id": "l0glJMPuxP_S"
      },
      "id": "l0glJMPuxP_S",
      "execution_count": null,
      "outputs": []
    },
    {
      "cell_type": "code",
      "source": [
        "url_base = 'https://raw.githubusercontent.com/formacionCDIA/cursoCDIA/main/Data/'\n",
        "\n",
        "nombre_archivo = 'winemag-data-130k-v2.csv'\n",
        "\n",
        "ruta_archivo = url_base + nombre_archivo # Especificar ruta de archicvo csv"
      ],
      "metadata": {
        "id": "wMNWkQvlxOhA"
      },
      "id": "wMNWkQvlxOhA",
      "execution_count": null,
      "outputs": []
    },
    {
      "cell_type": "code",
      "source": [
        "reseVino_df = pd.read_csv(ruta_archivo, index_col='Unnamed: 0')"
      ],
      "metadata": {
        "id": "fVLNzEhgxenK"
      },
      "id": "fVLNzEhgxenK",
      "execution_count": null,
      "outputs": []
    },
    {
      "cell_type": "code",
      "execution_count": null,
      "id": "998b583e",
      "metadata": {
        "id": "998b583e"
      },
      "outputs": [],
      "source": [
        "reseVinoArg_df = reseVino_df[reseVino_df['country']=='Argentina'] # Seleccionar vinos de Argentina\n",
        "\n",
        "reseVinoArg_df.head(4)"
      ]
    },
    {
      "cell_type": "code",
      "execution_count": null,
      "id": "b9f6fb31",
      "metadata": {
        "id": "b9f6fb31"
      },
      "outputs": [],
      "source": [
        "reseVinoArg_df.dtypes # Recordar tipo de datos del conjunto de datos del DataFrame\n"
      ]
    },
    {
      "cell_type": "markdown",
      "id": "3c435cd2",
      "metadata": {
        "id": "3c435cd2"
      },
      "source": [
        "Una comprobación visual rápida de los datos con `.plot()`\n"
      ]
    },
    {
      "cell_type": "code",
      "execution_count": null,
      "id": "d2c8d40c",
      "metadata": {
        "id": "d2c8d40c"
      },
      "outputs": [],
      "source": [
        "reseVinoArg_df.plot()"
      ]
    },
    {
      "cell_type": "markdown",
      "id": "d73a853a",
      "metadata": {
        "id": "d73a853a"
      },
      "source": [
        "Con un DataFrame, Pandas crea de forma predeterminada un gráfico lineal para cada una de las columnas con datos numéricos.\n",
        "\n",
        "Además del gráfico de líneas predeterminado al utilizar la función `plot`, hay varias alternativas disponibles para representar gráficamente los datos."
      ]
    },
    {
      "cell_type": "markdown",
      "id": "bfaefa84",
      "metadata": {
        "id": "bfaefa84"
      },
      "source": [
        "Cambiando el parámetro `kind`, podemos distintos tipos de gráficos como `line` (líneas), `hist` (histograma), `box`(boxplot) o `scatter` (dispersión). Veamos ejemplos:"
      ]
    },
    {
      "cell_type": "markdown",
      "source": [
        "Explorar la distribución de variable númerica price mediante\n",
        "histograma\n"
      ],
      "metadata": {
        "id": "GW2nK9sfyAV_"
      },
      "id": "GW2nK9sfyAV_"
    },
    {
      "cell_type": "code",
      "execution_count": null,
      "id": "049faeba",
      "metadata": {
        "id": "049faeba"
      },
      "outputs": [],
      "source": [
        "reseVinoArg_df['price'].plot(kind='hist', bins=10)"
      ]
    },
    {
      "cell_type": "code",
      "source": [
        "reseVinoArg_df['price'].plot(kind='hist', bins=50)"
      ],
      "metadata": {
        "id": "brilE7XoyNiD"
      },
      "id": "brilE7XoyNiD",
      "execution_count": null,
      "outputs": []
    },
    {
      "cell_type": "code",
      "source": [
        "reseVinoArg_df['price'].plot(kind='hist', bins=100)"
      ],
      "metadata": {
        "id": "w6mdk-tSyKVV"
      },
      "id": "w6mdk-tSyKVV",
      "execution_count": null,
      "outputs": []
    },
    {
      "cell_type": "markdown",
      "source": [
        "Explorar la relación de las variables númericas price y points. Usamos la gráfica scatter. Solo se puede aplicar en DataFrame"
      ],
      "metadata": {
        "id": "4WEjVbF1yG1T"
      },
      "id": "4WEjVbF1yG1T"
    },
    {
      "cell_type": "code",
      "execution_count": null,
      "id": "e0bc8c64",
      "metadata": {
        "id": "e0bc8c64"
      },
      "outputs": [],
      "source": [
        "reseVinoArg_df[['price','points']].plot(kind='scatter', x='price', y='points')\n"
      ]
    },
    {
      "cell_type": "markdown",
      "source": [
        "Para datos categóricos"
      ],
      "metadata": {
        "id": "gT53bvBqAC6w"
      },
      "id": "gT53bvBqAC6w"
    },
    {
      "cell_type": "code",
      "execution_count": null,
      "id": "dd56d69e",
      "metadata": {
        "id": "dd56d69e"
      },
      "outputs": [],
      "source": [
        "provincias_s = reseVinoArg_df['province'].value_counts()\n",
        "\n",
        "# Mostrar\n",
        "provincias_s"
      ]
    },
    {
      "cell_type": "code",
      "execution_count": null,
      "id": "b92cd2e4",
      "metadata": {
        "id": "b92cd2e4"
      },
      "outputs": [],
      "source": [
        "provincias_s.plot(kind=\"bar\") # Llamar plot desde el objeto serie"
      ]
    },
    {
      "cell_type": "markdown",
      "source": [
        "Relacionando con la librería `matplotlib`, se verá en módulo visualización"
      ],
      "metadata": {
        "id": "Li5hZ6_63uPb"
      },
      "id": "Li5hZ6_63uPb"
    },
    {
      "cell_type": "code",
      "source": [
        "import matplotlib.pyplot as plt\n",
        "\n",
        "fig, ax = plt.subplots() # Configurar Lienzo\n",
        "\n",
        "provincias_s.plot(kind=\"bar\", ax=ax) # Crear gráfica, donde los datos están en provincias_s\n",
        "\n",
        "ax.set_ylabel('Frecuencia') # Personalizar\n",
        "ax.set_xlabel('Provincia')\n",
        "ax.set_title('Gráfico de barra')\n",
        "ax.tick_params(axis='x', rotation=0)"
      ],
      "metadata": {
        "id": "c5AnCRNt1YkY"
      },
      "id": "c5AnCRNt1YkY",
      "execution_count": null,
      "outputs": []
    },
    {
      "cell_type": "markdown",
      "id": "24556acc",
      "metadata": {
        "id": "24556acc"
      },
      "source": [
        "Para más información sobre `plot`, click en [pandas.plot de documentación oficial](https://pandas.pydata.org/docs/reference/api/pandas.DataFrame.plot.html#pandas.DataFrame.plot)."
      ]
    },
    {
      "cell_type": "markdown",
      "id": "2881c325",
      "metadata": {
        "id": "2881c325"
      },
      "source": [
        "### ✍ Recordatorio\n",
        "\n",
        "* Los métodos `.plot.*` son aplicables tanto a `Series` como a `DataFrames`.\n",
        "\n",
        "* De manera predeterminada, cada una de las columnas se representa como un elemento diferente (línea, diagrama de caja, etc.).\n",
        "\n",
        "* Todo gráfico creado por pandas es un objeto Matplotlib.\n",
        "\n",
        "\n",
        "\n",
        "\n",
        "La visualización de datos es clave en el análisis exploratorio y en la comunicación de resultados en CD e IA.\n",
        "\n"
      ]
    },
    {
      "cell_type": "markdown",
      "id": "30ad7467",
      "metadata": {
        "id": "30ad7467"
      },
      "source": [
        "---\n",
        "# 🎯Estadística Descriptiva\n",
        "---\n"
      ]
    },
    {
      "cell_type": "markdown",
      "id": "ebc922f0",
      "metadata": {
        "id": "ebc922f0"
      },
      "source": [
        "\n",
        "* Imagina la siguiente lista de números: $[55,47, 51, 53, 57, 59, 63]$"
      ]
    },
    {
      "cell_type": "code",
      "execution_count": null,
      "id": "e512d056",
      "metadata": {
        "id": "e512d056"
      },
      "outputs": [],
      "source": [
        "import numpy as np # Importar libreías\n",
        "import pandas as pd\n",
        "\n",
        "data = [ 55,47, 51, 53, 57, 59, 63 ] # Crear lista\n",
        "data_df = pd.DataFrame(data, columns=['A']) # Crear DataFrame\n",
        "display(data_df)"
      ]
    },
    {
      "cell_type": "markdown",
      "id": "c8f1fbe2",
      "metadata": {
        "id": "c8f1fbe2"
      },
      "source": [
        "## 🥇 Medidas de tendencia Central"
      ]
    },
    {
      "cell_type": "markdown",
      "id": "284db66b",
      "metadata": {
        "id": "284db66b"
      },
      "source": [
        "### Media\n",
        "----\n",
        "Si deseamos calcular la media aritmética en Python, utilizar el método `mean()`\n"
      ]
    },
    {
      "cell_type": "code",
      "execution_count": null,
      "id": "e2b58019",
      "metadata": {
        "id": "e2b58019"
      },
      "outputs": [],
      "source": [
        "media = np.mean(data_df['A']) # Calcular promedio con numpy\n",
        "print(\"Media Numpy:\", media)\n",
        "\n",
        "media = data_df['A'].mean() # Calcular promedio con pandas\n",
        "print(\"Media Pandas:\", media)"
      ]
    },
    {
      "cell_type": "markdown",
      "source": [
        "Donde `data_df`\n",
        "es un objeto que guarda las observaciones. Mediante `data_df['A']` se selecciona la columna a resumir. Aquí te mostramos dos maneras de calcular la media, utilizando np.mean() método de la librería numpy y `data_df['A'].mean()` método del objeto serie de Pandas."
      ],
      "metadata": {
        "id": "1I7EH1oTHyRS"
      },
      "id": "1I7EH1oTHyRS"
    },
    {
      "cell_type": "markdown",
      "id": "e38eb1ee",
      "metadata": {
        "id": "e38eb1ee"
      },
      "source": [
        "### Mediana\n",
        "\n",
        "---\n",
        "Si deseamos calcular la mediana en Python, utilizaremos el método `median()`.\n",
        "\n"
      ]
    },
    {
      "cell_type": "code",
      "execution_count": null,
      "id": "fbe36312",
      "metadata": {
        "id": "fbe36312"
      },
      "outputs": [],
      "source": [
        "mediana = np.median(data_df['A']) # Calcular mediana con numpy\n",
        "print(\"Mediana Numpy:\", mediana)\n",
        "\n",
        "mediana = data_df['A'].median() # Calcular mediana con pandas\n",
        "print(\"Mediana Pandas:\", mediana)"
      ]
    },
    {
      "cell_type": "code",
      "source": [
        "data_df['A'].sort_values()"
      ],
      "metadata": {
        "id": "QCTg6H8sEbEO"
      },
      "id": "QCTg6H8sEbEO",
      "execution_count": null,
      "outputs": []
    },
    {
      "cell_type": "markdown",
      "id": "623e4c57",
      "metadata": {
        "id": "623e4c57"
      },
      "source": [
        "### Moda\n",
        "---\n",
        "Si deseamos calcular la moda en Python, tener en cuenta el método `mode()`.  Numpy no tiene el método `mode()`, pero sí Pandas. El siguiente ejemplo son datos categóricos."
      ]
    },
    {
      "cell_type": "code",
      "source": [
        "data_categ = pd.Series(['a','a','c','d','f'])\n",
        "\n",
        "moda = data_categ.mode() # Calcular moda con pandas\n",
        "print(\"Moda con pandas:\")\n",
        "print(moda)\n"
      ],
      "metadata": {
        "id": "7POB4l43O8SD"
      },
      "id": "7POB4l43O8SD",
      "execution_count": null,
      "outputs": []
    },
    {
      "cell_type": "code",
      "source": [
        "moda = data_df['A'].mode() # Calcular moda con pandas\n",
        "print(\"Moda con pandas:\")\n",
        "print(moda)"
      ],
      "metadata": {
        "id": "ztYVCqMDHsWh"
      },
      "id": "ztYVCqMDHsWh",
      "execution_count": null,
      "outputs": []
    },
    {
      "cell_type": "markdown",
      "source": [
        "## 🥇 Medidas de Posición\n",
        "---"
      ],
      "metadata": {
        "id": "7I0OzdgC6W3C"
      },
      "id": "7I0OzdgC6W3C"
    },
    {
      "cell_type": "markdown",
      "source": [
        "Si deseamos calcular los cuartiles en Python, tener en cuenta el método `quantile()` en  Numpy y Pandas. Para el ejemplo numérico:"
      ],
      "metadata": {
        "id": "nXr96SLqJt0o"
      },
      "id": "nXr96SLqJt0o"
    },
    {
      "cell_type": "markdown",
      "source": [
        "### Cuartiles"
      ],
      "metadata": {
        "id": "H-7bQiir1CpA"
      },
      "id": "H-7bQiir1CpA"
    },
    {
      "cell_type": "code",
      "source": [
        "q1 = np.quantile(data_df['A'], 0.25) # Numpy\n",
        "q2 = np.quantile(data_df['A'], 0.50)\n",
        "q3 = np.quantile(data_df['A'], 0.75)\n",
        "print('Numpy')\n",
        "print(\"Primer cuartil (Q1):\", q1)\n",
        "print(\"Segundo cuartil (Q2):\", q2)\n",
        "print(\"Tercer cuartil (Q3):\", q3)\n",
        "\n",
        "# especificar de  0-1\n",
        "q1 = data_df['A'].quantile(0.25) # Pandas\n",
        "q2 = data_df['A'].quantile(0.50)\n",
        "q3 = data_df['A'].quantile(0.75)\n",
        "print(\"----------------------------\")\n",
        "print('Pandas')\n",
        "print(\"Primer cuartil (Q1):\", q1)\n",
        "print(\"Segundo cuartil (Q2):\", q2)\n",
        "print(\"Tercer cuartil (Q3):\", q3)\n",
        "\n"
      ],
      "metadata": {
        "id": "psNwPUQ37Q9N"
      },
      "id": "psNwPUQ37Q9N",
      "execution_count": null,
      "outputs": []
    },
    {
      "cell_type": "markdown",
      "source": [
        "### Percentiles\n",
        "---\n",
        "Si deseamos calcular los percentiles en Python, tener en cuenta el método `percentile()` en  Numpy y `quantile()` en Pandas. Para el ejemplo numérico:\n"
      ],
      "metadata": {
        "id": "96WSkgTh1KT3"
      },
      "id": "96WSkgTh1KT3"
    },
    {
      "cell_type": "code",
      "source": [
        "p25 = np.percentile(data_df['A'], 25) # Numpy\n",
        "p50 = np.percentile(data_df['A'], 50)\n",
        "p75 = np.percentile(data_df['A'], 75)\n",
        "p90 = np.percentile(data_df['A'], 90)\n",
        "\n",
        "print('Numpy')\n",
        "print(\"Percentil 25 (P25):\", p25)\n",
        "print(\"Percentil 50 (P50):\", p50)\n",
        "print(\"Percentil 75 (P75):\", p75)\n",
        "print(\"Percentil 90 (P90):\", p90)\n",
        "# especificar de  0-1\n",
        "p25_df = data_df['A'].quantile(0.25) # Pandas\n",
        "p50_df = data_df['A'].quantile(0.50)\n",
        "p75_df = data_df['A'].quantile(0.75)\n",
        "p90_df = data_df['A'].quantile(0.90)\n",
        "\n",
        "print(\"----------------------------\")\n",
        "print('Pandas')\n",
        "print(\"Percentil 25 (P25) con Pandas:\", p25_df)\n",
        "print(\"Percentil 50 (P50) con Pandas:\", p50_df)\n",
        "print(\"Percentil 75 (P75) con Pandas:\", p75_df)\n",
        "print(\"Percentil 90 (P90) con Pandas:\", p90_df)"
      ],
      "metadata": {
        "id": "Pdk8MbVQ8r3P"
      },
      "id": "Pdk8MbVQ8r3P",
      "execution_count": null,
      "outputs": []
    },
    {
      "cell_type": "markdown",
      "source": [
        "Tanto los cuartiles como los percentiles son útiles para resumir y analizar grandes conjuntos de datos, y son ampliamente utilizados en campos como la estadística, la investigación social, la economía y muchos otros. Estas medidas permiten comprender mejor la distribución, la dispersión y los valores atípicos de los datos."
      ],
      "metadata": {
        "id": "ejTVH5Uh6fRR"
      },
      "id": "ejTVH5Uh6fRR"
    },
    {
      "cell_type": "markdown",
      "id": "737e7b21",
      "metadata": {
        "id": "737e7b21"
      },
      "source": [
        "## 🥇Medidas de Dispersión o Variabilidad\n",
        "\n",
        "---\n",
        "\n",
        "\n"
      ]
    },
    {
      "cell_type": "markdown",
      "source": [
        "### Rango\n",
        "---"
      ],
      "metadata": {
        "id": "maZ6wwvYdGKY"
      },
      "id": "maZ6wwvYdGKY"
    },
    {
      "cell_type": "markdown",
      "source": [
        "En Python, podemos utilizar los métodos `max()` y `min()` en Numpy y Pandas. Teniendo en cuenta la Muestra B:"
      ],
      "metadata": {
        "id": "_FGzv2paKMc_"
      },
      "id": "_FGzv2paKMc_"
    },
    {
      "cell_type": "code",
      "source": [
        "import numpy as np\n",
        "import pandas as pd\n",
        "\n",
        "# Numpy\n",
        "muestra_B = np.array([47, 51, 53, 55, 57, 59, 63])\n",
        "rango = np.max(muestra_B) - np.min(muestra_B)\n",
        "print(\"Rango:\", rango)"
      ],
      "metadata": {
        "id": "deFBsJf7c7Kc"
      },
      "id": "deFBsJf7c7Kc",
      "execution_count": null,
      "outputs": []
    },
    {
      "cell_type": "code",
      "source": [
        "# Pandas\n",
        "muestra_B_df = pd.DataFrame({'B': muestra_B})\n",
        "rango = muestra_B_df['B'].max() - muestra_B_df['B'].min()\n",
        "print(\"Rango:\", rango)"
      ],
      "metadata": {
        "id": "j1Qu58Z-dAGP"
      },
      "id": "j1Qu58Z-dAGP",
      "execution_count": null,
      "outputs": []
    },
    {
      "cell_type": "markdown",
      "source": [
        "### Rango Intercuartil\n",
        "---"
      ],
      "metadata": {
        "id": "4Cyi4m9SdvzP"
      },
      "id": "4Cyi4m9SdvzP"
    },
    {
      "cell_type": "markdown",
      "source": [
        "En Python, podríamos utilizar `quantile()` para calcular el rango intercuartil"
      ],
      "metadata": {
        "id": "SMPX6vdOKgUx"
      },
      "id": "SMPX6vdOKgUx"
    },
    {
      "cell_type": "code",
      "source": [
        "# Calcular el rango intercuartílico con NumPy\n",
        "q1 = np.quantile(muestra_B_df['B'], .25)\n",
        "q3 = np.quantile(muestra_B_df['B'], .75)\n",
        "ri = q3 - q1\n",
        "print(q3)\n",
        "print(q1)\n",
        "print(\"Rango intercuartil con NumPy:\", ri)\n",
        "\n",
        "# Calcular el rango intercuartílico con Pandas\n",
        "q1_df = muestra_B_df['B'].quantile(0.25)\n",
        "q3_df = muestra_B_df['B'].quantile(0.75)\n",
        "ri_df = q3_df - q1_df\n",
        "print(\"Rango intercuartil con Pandas:\", ri_df)"
      ],
      "metadata": {
        "id": "NQvnrgsldu55"
      },
      "id": "NQvnrgsldu55",
      "execution_count": null,
      "outputs": []
    },
    {
      "cell_type": "code",
      "source": [
        "muestra_B_df['B'].quantile(0.5) # Mediana"
      ],
      "metadata": {
        "id": "mDOPbreBK6bT"
      },
      "id": "mDOPbreBK6bT",
      "execution_count": null,
      "outputs": []
    },
    {
      "cell_type": "code",
      "source": [
        " muestra_B_df['B'].plot.box(vert=False)"
      ],
      "metadata": {
        "id": "w51BG8rvsi9o"
      },
      "id": "w51BG8rvsi9o",
      "execution_count": null,
      "outputs": []
    },
    {
      "cell_type": "markdown",
      "source": [
        "¿Qué características de la distribución de los datos se manifiestan en este box-plot?\n",
        "\n",
        "* Muestra una medida de posición robusta ⇒ MEDIANA = 55\n",
        "* Muestra una medida de dispersión robusta ⇒ RANGO INTERCUARTIL = 6\n",
        "* Permite estudiar la simetría de la distribución ⇒ Habría simetría\n"
      ],
      "metadata": {
        "id": "lJfgt0_sKuBf"
      },
      "id": "lJfgt0_sKuBf"
    },
    {
      "cell_type": "markdown",
      "source": [
        "### Varianza\n",
        "---\n",
        "En Python si deseamos calcular la Varianza, considerar el método var()."
      ],
      "metadata": {
        "id": "mX_kd53_kbAo"
      },
      "id": "mX_kd53_kbAo"
    },
    {
      "cell_type": "code",
      "execution_count": null,
      "id": "161fddd6",
      "metadata": {
        "id": "161fddd6"
      },
      "outputs": [],
      "source": [
        "varianza = np.var(muestra_B_df['B'], ddof=1) # Calcular varianza con numpy, ddof=1 para varianza muestral\n",
        "print(\"Varianza con numpy:\", varianza)\n",
        "\n",
        "Varianza = muestra_B_df['B'].var(ddof=1) # Calcular varianza con Pandas\n",
        "\n",
        "print(\"Varianza con pandas:\", varianza)"
      ]
    },
    {
      "cell_type": "markdown",
      "source": [
        "En esta sección hablamos de la varianza y desviación estándar muestral por lo que es importante indicar el argumento ddof=1.\n",
        "\n",
        "* ddof representa  los “Grados de libertad delta”.  Si ddof = 1 el divisor utilizado en el cálculo de  varianza es N - ddof = N - 1 por lo tanto se calcula la varianza muestral de lo contrario se calcula la varianza poblacional.\n"
      ],
      "metadata": {
        "id": "Rip4PDEyLoxY"
      },
      "id": "Rip4PDEyLoxY"
    },
    {
      "cell_type": "markdown",
      "source": [
        "### Desviación estándar\n",
        "---"
      ],
      "metadata": {
        "id": "r5LUgLjDkdb_"
      },
      "id": "r5LUgLjDkdb_"
    },
    {
      "cell_type": "markdown",
      "source": [
        " Para calcular la desviación estándar `std()` en Numpy y Pandas."
      ],
      "metadata": {
        "id": "Xob1Z1UJLiMz"
      },
      "id": "Xob1Z1UJLiMz"
    },
    {
      "cell_type": "code",
      "execution_count": null,
      "id": "b0b55bdf",
      "metadata": {
        "id": "b0b55bdf"
      },
      "outputs": [],
      "source": [
        "std = np.std(muestra_B_df['B'], ddof=1) # Calcular std con numpy\n",
        "print(\"Desvío Estándar con numpy:\",std)\n",
        "\n",
        "std = muestra_B_df['B'].std(ddof=1) # Calcular std con pandas\n",
        "print(\"Desvío Estándar con pandas:\",std)"
      ]
    },
    {
      "cell_type": "markdown",
      "source": [
        "📝 **Ejercicio**\n",
        "\n",
        "Sea el siguiente conjunto de datos almacenado en el DataFrame `estudiantes_df`.\n"
      ],
      "metadata": {
        "id": "h1HHr1PZ3jyb"
      },
      "id": "h1HHr1PZ3jyb"
    },
    {
      "cell_type": "code",
      "source": [
        "est_d = {\n",
        "  'Nombre': ['Lucas','Marcela','Fede','Sol','Sol'],\n",
        "  'Edad': [49, 26, 37, 40, 35],\n",
        "  'GradoAcademico': ['Bachiller','Licenciado','Magister','Doctorado','Licenciado']\n",
        "}\n",
        "\n",
        "# Crear DataFrame\n",
        "estudiantes_df = pd.DataFrame(est_d)\n"
      ],
      "metadata": {
        "id": "3IO9kOF7scEk"
      },
      "id": "3IO9kOF7scEk",
      "execution_count": null,
      "outputs": []
    },
    {
      "cell_type": "code",
      "source": [
        "estudiantes_df"
      ],
      "metadata": {
        "id": "oC95FAjl0cSE"
      },
      "id": "oC95FAjl0cSE",
      "execution_count": null,
      "outputs": []
    },
    {
      "cell_type": "markdown",
      "source": [
        "* ¿Cuál es valor promedio, mínimo y máximo de la variable Edad?\n",
        "* ¿Qué tan dispersos están los valores de edad en relación a su valor promedio?\n",
        "Calcular la desviación estándar poblacional.\n",
        "* ¿Cuál es el grado acádemico más común entre los estudiantes?"
      ],
      "metadata": {
        "id": "zu4M77vg0fzo"
      },
      "id": "zu4M77vg0fzo"
    },
    {
      "cell_type": "code",
      "source": [],
      "metadata": {
        "id": "CpZy6E1k0dxw"
      },
      "id": "CpZy6E1k0dxw",
      "execution_count": null,
      "outputs": []
    },
    {
      "cell_type": "code",
      "source": [],
      "metadata": {
        "id": "xT-FBKfo9BZt"
      },
      "id": "xT-FBKfo9BZt",
      "execution_count": null,
      "outputs": []
    },
    {
      "cell_type": "code",
      "source": [],
      "metadata": {
        "id": "fz0KRCi99BKK"
      },
      "id": "fz0KRCi99BKK",
      "execution_count": null,
      "outputs": []
    },
    {
      "cell_type": "markdown",
      "source": [
        "**Haz doble click para ver la respuesta**\n",
        "<!--\n",
        "est_s = estudiantes_df['Edad']\n",
        "mean = est_s.mean()\n",
        "min = est_s.min()\n",
        "max = est_s.max()\n",
        "print(mean,min,max)\n",
        "\n",
        "est_s = estudiantes_df['Edad']\n",
        "print(est_s.std(ddof=0))\n",
        "\n",
        "gradoAcad_s = estudiantes_df['GradoAcademico']\n",
        "print(gradoAcad_s.mode())\n",
        "-->"
      ],
      "metadata": {
        "id": "1E4CC8BD8P8W"
      },
      "id": "1E4CC8BD8P8W"
    },
    {
      "cell_type": "markdown",
      "id": "8461dd59",
      "metadata": {
        "id": "8461dd59"
      },
      "source": [
        "## 🥇 Ejemplo de uso de estadística descriptiva\n",
        "\n",
        "---\n",
        "\n"
      ]
    },
    {
      "cell_type": "markdown",
      "id": "25274122",
      "metadata": {
        "id": "25274122"
      },
      "source": [
        "**describe()**"
      ]
    },
    {
      "cell_type": "markdown",
      "source": [
        "El método `describe()` del objeto Dataframe devuelve una descripción de los datos en el DataFrame.\n",
        "\n",
        "Incluye aquellas que resumen la tendencia central, la dispersión y la forma de la distribución de un conjunto de datos, excluyendo los valores faltantes (NaN).\n",
        "\n",
        "Si el DataFrame contiene datos numéricos, la descripción contiene esta información para cada columna:\n",
        "* count: la cantidad de valores no vacíos.\n",
        "* mean: el valor promedio (media).\n",
        "* std: la desviación estándar.\n",
        "* min: el valor mínimo.\n",
        "* 25%: el percentil del 25 %*.\n",
        "* 50%: el percentil del 50 %*.\n",
        "* 75%: el percentil del 75 %*.\n",
        "* max: el valor máximo.\n"
      ],
      "metadata": {
        "id": "PhpuMjCoMi93"
      },
      "id": "PhpuMjCoMi93"
    },
    {
      "cell_type": "code",
      "source": [
        "import pandas as pd\n",
        "\n",
        "url_base = 'https://raw.githubusercontent.com/formacionCDIA/cursoCDIA/main/Data/'\n",
        "\n",
        "nombre_archivo = 'winemag-data-130k-v2.csv'\n",
        "\n",
        "ruta_archivo = url_base + nombre_archivo # Especificar ruta de archicvo csv\n",
        "\n",
        "reseVino_df = pd.read_csv(ruta_archivo, index_col='Unnamed: 0')"
      ],
      "metadata": {
        "id": "SCI36Hjtz_-X"
      },
      "id": "SCI36Hjtz_-X",
      "execution_count": null,
      "outputs": []
    },
    {
      "cell_type": "code",
      "execution_count": null,
      "id": "bf38a895",
      "metadata": {
        "id": "bf38a895"
      },
      "outputs": [],
      "source": [
        "reseVino_df.describe() # por defecto"
      ]
    },
    {
      "cell_type": "markdown",
      "source": [
        "Teniendo en cuenta que este objeto DataFrame es de tipo mixto, `describe()` limita el resumen para incluir solo columnas numéricas. Este comportamiento se puede controlar proporcionando una lista de tipos como argumentos de *include/exclude*."
      ],
      "metadata": {
        "id": "6dOF5awLCQ-w"
      },
      "id": "6dOF5awLCQ-w"
    },
    {
      "cell_type": "code",
      "source": [
        "reseVino_df.describe(include=[\"object\"])"
      ],
      "metadata": {
        "id": "6EwiyenDe8Lm"
      },
      "id": "6EwiyenDe8Lm",
      "execution_count": null,
      "outputs": []
    },
    {
      "cell_type": "code",
      "source": [
        "#reseVino_df.describe(include=[\"number\"])"
      ],
      "metadata": {
        "id": "mUeFwdMICyn4"
      },
      "id": "mUeFwdMICyn4",
      "execution_count": null,
      "outputs": []
    },
    {
      "cell_type": "code",
      "source": [
        "reseVino_df.describe(include=\"all\").T"
      ],
      "metadata": {
        "id": "ED-iYZKeCyzj"
      },
      "id": "ED-iYZKeCyzj",
      "execution_count": null,
      "outputs": []
    },
    {
      "cell_type": "markdown",
      "source": [
        "Tomando como ejemplo el conjunto de datos sobre reseña de vinos, llamamos al método describe() del objeto reseVino_df, en donde el argumento `include='all'` indica que hay que generar estadísticas para las variables numéricas y categóricas del objeto. Por otro lado `.T`, traspone la tabla. Esto se realiza solo para mejorar la visualización de la información en pantalla.\n"
      ],
      "metadata": {
        "id": "R0ld3o9NM87v"
      },
      "id": "R0ld3o9NM87v"
    },
    {
      "cell_type": "markdown",
      "source": [
        "\n",
        "En base a las estadísticas, las reseñas de vinos presentan la siguiente información:\n",
        "* Los vinos que provendrían de 44 países (country) distintos. El país más común es Estado Unidos (US 54504).\n",
        "* Los puntos asignados a los vinos tienden en promedio y en mediana a ser 88 (redondeado) entre un rango de 80 a 100 puntos con desviación estándar de 3 (redondeado), es decir que los puntajes de vino tienden a estar cerca de 88 puntos.\n",
        "* Con respecto al precio de botella de vino, se distribuyen entre un rango de 4 a 3300 USD. El precio promedio de una botella es de 35 USD (redondeado) y la mediana 25 USD, por lo que los valores tendrían a concentrarse en valores inferiores a 25 USD (mediana < promedio).\n",
        "\n",
        "Imagina que deseas ayudar a bodegas a optimizar precios. Hasta ahora, empezamos a explorar las variables de manera individual, pero teniendo en cuenta esta visión, sería útil rever lo explorado en base a esta dirección, como focalizar en la variable precio, dado que será clave y analizar las relaciones con otras variables, será que ¿a mejor puntaje mayor precio de botella de vino? ¿Cómo se relaciona el precio con el país de origen del vino? Etc.\n",
        "\n"
      ],
      "metadata": {
        "id": "B9p1_9BNDfAH"
      },
      "id": "B9p1_9BNDfAH"
    },
    {
      "cell_type": "code",
      "source": [
        "reseVino_df[['price','points']].plot(kind='scatter', x='price', y='points')\n"
      ],
      "metadata": {
        "id": "EWBOS48YYceo"
      },
      "id": "EWBOS48YYceo",
      "execution_count": null,
      "outputs": []
    },
    {
      "cell_type": "markdown",
      "source": [
        "## 🥇 Correlación\n",
        "\n",
        "Se mide con el coeficiente de correlación, que toma valores entre -1 y 1:\n",
        "\n",
        "* 1 → Correlación positiva perfecta (cuando una variable sube, la otra también).\n",
        "* -1→ Correlación negativa perfecta (cuando una variable sube, la otra baja).\n",
        "* 0 → No hay relación entre las variables."
      ],
      "metadata": {
        "id": "U7Ga0OuNOsrl"
      },
      "id": "U7Ga0OuNOsrl"
    },
    {
      "cell_type": "code",
      "source": [
        "import pandas as pd\n",
        "\n",
        "# Correlación de Pearson (para variables numéricas continuas)\n",
        "correlacion = reseVino_df[['price','points']].corr(method=\"pearson\")\n",
        "print(correlacion)"
      ],
      "metadata": {
        "id": "8teCWrAOduC2"
      },
      "id": "8teCWrAOduC2",
      "execution_count": null,
      "outputs": []
    },
    {
      "cell_type": "markdown",
      "source": [
        "*  ¿A mejor puntaje mayor precio de botella de vino? ¿Correlación positiva?\n",
        "Podemos decir que la correlación lineal entre price y points es débil ya que el coeficiente de correlación de Pearson es 0,41.  \n",
        "\n",
        "Observando el gráfico de dispersión (box plot) también lo podemos comprobar.\n"
      ],
      "metadata": {
        "id": "pFmJ0SVRehe9"
      },
      "id": "pFmJ0SVRehe9"
    },
    {
      "cell_type": "code",
      "source": [
        "reseVino_df[['price','points']].plot(kind='scatter', x='price', y='points')"
      ],
      "metadata": {
        "id": "89e4yhnVOSvt"
      },
      "id": "89e4yhnVOSvt",
      "execution_count": null,
      "outputs": []
    },
    {
      "cell_type": "code",
      "source": [
        "import seaborn as sns # esto es adelanto de cómo trabajar con las librerias de visualización\n",
        "import matplotlib.pyplot as plt\n",
        "\n",
        "plt.figure(figsize=(5,4))\n",
        "sns.heatmap(correlacion, annot=True, cmap=\"coolwarm\", fmt=\".2f\")\n",
        "plt.title(\"Matriz de correlación\")\n",
        "plt.show()"
      ],
      "metadata": {
        "id": "zDAV_Cl1fKls"
      },
      "id": "zDAV_Cl1fKls",
      "execution_count": null,
      "outputs": []
    },
    {
      "cell_type": "markdown",
      "source": [
        "Si quisiéramos analizar si existe relación entre precio y país de origen del vino el coeficiente de Pearson no se podrá utilizar, ya que se aplica a variables numéricas.\n",
        "Se podría ver otros estadísticos que analizan la relación entre variables categóricas y numéricas o podríamos transformar la variable numérica a categórica.\n"
      ],
      "metadata": {
        "id": "eT3BtY-cOePi"
      },
      "id": "eT3BtY-cOePi"
    },
    {
      "cell_type": "markdown",
      "source": [
        "🚨 Advertencias sobre la correlación\n",
        "* Correlación no implica causalidad → Si el precio y el puntaje de un vino están correlacionados, no significa que el precio cause el puntaje alto. Puede haber otra variable oculta.\n",
        "* Relaciones no lineales → La correlación de Pearson sólo mide relaciones lineales. Si la relación es curva, puede dar un r ≈ 0 aunque exista una relación fuerte."
      ],
      "metadata": {
        "id": "iSYvrDjoeMup"
      },
      "id": "iSYvrDjoeMup"
    },
    {
      "cell_type": "markdown",
      "id": "bd6dbde6",
      "metadata": {
        "id": "bd6dbde6"
      },
      "source": [
        "---\n",
        "# 🎯 Preparación y preprocesamiento de datos\n",
        "---\n"
      ]
    },
    {
      "cell_type": "markdown",
      "source": [
        "Imagina que por decisión de la organización en donde trabajas, te solicitan trabajar solo con las reseñas de vinos de Argentina y Chile y tu objetivo es ayudar a las bodegas a optimizar su precios. Teniendo en claro este objetivo y los conocimientos adquiridos podrás encaminar mejor tu lado analista: ¿Qué características tienen ahora los datos? Para identificar relaciones quiero transformar la variable 'country' a numérica ¿Cómo la transformó? La variables 'price' es importante para mi estudio, ¿tendrá errores? ¿Cómo la proceso?"
      ],
      "metadata": {
        "id": "M5z2sEpor9rL"
      },
      "id": "M5z2sEpor9rL"
    },
    {
      "cell_type": "markdown",
      "source": [
        "**scikit-learn**\n",
        "\n",
        "Para el preprocesamiento de datos utilizaremos el paquete sklearn.preprocessing de scikit-learn que proporciona varias clases y funciones de utilidad.\n",
        "\n",
        "Como toda librería en Python hay que importarla\n",
        "\n",
        "\n"
      ],
      "metadata": {
        "id": "TiubMBhp8jMG"
      },
      "id": "TiubMBhp8jMG"
    },
    {
      "cell_type": "code",
      "source": [
        "from sklearn.preprocessing import LabelEncoder, OrdinalEncoder, OneHotEncoder"
      ],
      "metadata": {
        "id": "R9jK2fMkRxN2"
      },
      "id": "R9jK2fMkRxN2",
      "execution_count": null,
      "outputs": []
    },
    {
      "cell_type": "markdown",
      "source": [
        "Esta vez, la instrucción no empieza con import. Esta otra forma de importar indica los módulos o funciones específicas de la librería para ser utilizadas directamente. Conviene utilizar esta instrucción cuando solo necesitas una o pocas funciones y escribir un código más limpio."
      ],
      "metadata": {
        "id": "7_OZTAs986o2"
      },
      "id": "7_OZTAs986o2"
    },
    {
      "cell_type": "markdown",
      "id": "a89494c2",
      "metadata": {
        "id": "a89494c2"
      },
      "source": [
        "## 🥇 Codificación de variables categóricas\n"
      ]
    },
    {
      "cell_type": "markdown",
      "source": [
        "Cargamos el conjunto de datos de reseña de vino."
      ],
      "metadata": {
        "id": "d1pZm2-NtrD8"
      },
      "id": "d1pZm2-NtrD8"
    },
    {
      "cell_type": "code",
      "source": [
        "import pandas as pd\n",
        "\n",
        "url_base = 'https://raw.githubusercontent.com/formacionCDIA/cursoCDIA/main/Data/'\n",
        "\n",
        "nombre_archivo = 'winemag-data-130k-v2.csv'\n",
        "\n",
        "ruta_archivo = url_base + nombre_archivo # Especificar ruta de archicvo csv\n",
        "\n",
        "reseVino_df = pd.read_csv(ruta_archivo, index_col='Unnamed: 0')\n",
        "\n",
        "# datos\n",
        "reseVinoArgChi_df = reseVino_df.loc[reseVino_df['country'].isin(['Argentina','Chile']),]\n",
        "reseVinoArgChi_df[['country','variety','points','price']].head(2)"
      ],
      "metadata": {
        "id": "b2-254WzmGv-"
      },
      "id": "b2-254WzmGv-",
      "execution_count": null,
      "outputs": []
    },
    {
      "cell_type": "code",
      "source": [
        "reseVinoArgChi_df.shape"
      ],
      "metadata": {
        "id": "a1UxrBAmsBLH"
      },
      "id": "a1UxrBAmsBLH",
      "execution_count": null,
      "outputs": []
    },
    {
      "cell_type": "code",
      "source": [
        "reseVinoArgChi_df[['country','price','points']].describe(include='all')"
      ],
      "metadata": {
        "id": "ZdjE_j28sDuD"
      },
      "id": "ZdjE_j28sDuD",
      "execution_count": null,
      "outputs": []
    },
    {
      "cell_type": "markdown",
      "source": [
        "## **¿Cómo transformo la variable 'country' a numérica?**"
      ],
      "metadata": {
        "id": "_Db2ytK2shsN"
      },
      "id": "_Db2ytK2shsN"
    },
    {
      "cell_type": "markdown",
      "id": "353e9f06",
      "metadata": {
        "id": "353e9f06"
      },
      "source": [
        "### Codificación por Etiqueta (Label encoding)\n",
        "Asigna un número a cada categoría de manera arbitraria.\n"
      ]
    },
    {
      "cell_type": "markdown",
      "source": [
        "**Retomando el ejemplo de la teoría de este módulo**\n",
        "\n",
        "Se recolectaron datos sobre el grado académico de empleados de una empresa multinacional, con las categorías *Bachiller, Licenciado, Magister y  Doctorado*.\n",
        "\n",
        "Se trata de una variable cualitativa ordinal, ya que *Bachiller < Licenciado < Magister < Doctorado*.\n"
      ],
      "metadata": {
        "id": "KTL_-ijOUill"
      },
      "id": "KTL_-ijOUill"
    },
    {
      "cell_type": "code",
      "source": [
        "gradoAca_s = pd.Series(['Bachiller','Licenciado','Magister','Doctorado'], name='grado_academico')\n",
        "gradoAca_s # Objeto serie sobre grado académico"
      ],
      "metadata": {
        "id": "WUrEgbOUVGC0"
      },
      "id": "WUrEgbOUVGC0",
      "execution_count": null,
      "outputs": []
    },
    {
      "cell_type": "markdown",
      "source": [
        "En Python utilizando la clase `LabelEncoder`es posible codificar la variable cualitativa a cuantitativa. Para el ejemplo, al objeto codificador se llama `codif_etiqueta`."
      ],
      "metadata": {
        "id": "qoVyG3pzVdaW"
      },
      "id": "qoVyG3pzVdaW"
    },
    {
      "cell_type": "code",
      "source": [
        "from sklearn.preprocessing import LabelEncoder # importar y llamar al módulo\n",
        "\n",
        "codif_etiqueta = LabelEncoder() # Inicializar la clase LabelEncoder.Crear objeto codificador\n",
        "codif_etiqueta\n"
      ],
      "metadata": {
        "id": "o5OWyPltVUm3"
      },
      "id": "o5OWyPltVUm3",
      "execution_count": null,
      "outputs": []
    },
    {
      "cell_type": "markdown",
      "source": [
        "Al aplicar `fit_transform()` a la serie de datos,  el objeto aprende de los datos y luego lo transforma, generando una nueva variable, que para el ejemplo se guarda en `gradoAca_transf_array`."
      ],
      "metadata": {
        "id": "1HaQrDjjXjDw"
      },
      "id": "1HaQrDjjXjDw"
    },
    {
      "cell_type": "code",
      "source": [
        "gradoAca_transf_array = codif_etiqueta.fit_transform(\n",
        "    gradoAca_s\n",
        "    )\n",
        "\n",
        "gradoAca_transf_array # nueva variable de tipo array"
      ],
      "metadata": {
        "id": "BWRVW9GQXPxV"
      },
      "id": "BWRVW9GQXPxV",
      "execution_count": null,
      "outputs": []
    },
    {
      "cell_type": "code",
      "source": [
        "type(gradoAca_transf_array)"
      ],
      "metadata": {
        "id": "TMY7o6Iz-VQb"
      },
      "id": "TMY7o6Iz-VQb",
      "execution_count": null,
      "outputs": []
    },
    {
      "cell_type": "code",
      "source": [
        "# Crear dataframe\n",
        "datos_df = pd.DataFrame(\n",
        "    {\n",
        "    'grado_academico':gradoAca_s,\n",
        "    'grado_academico_codif':gradoAca_transf_array\n",
        "    }\n",
        "  )\n",
        "\n",
        "datos_df # dataframe con variable original y transformada"
      ],
      "metadata": {
        "id": "kjwusMQOWEl2"
      },
      "id": "kjwusMQOWEl2",
      "execution_count": null,
      "outputs": []
    },
    {
      "cell_type": "markdown",
      "source": [
        "Mediante el Codificación por Etiqueta (Label encoding), se asignan números a las categorías de manera arbitraria. Así, se asigna 1 a la categoría *Doctorado*, en donde se esperaría el mayor valor por ser el mayor grado de estudio en la variable."
      ],
      "metadata": {
        "id": "dqQ2uUoyWQs0"
      },
      "id": "dqQ2uUoyWQs0"
    },
    {
      "cell_type": "markdown",
      "source": [
        "**Volviendo a la reseña de vino**"
      ],
      "metadata": {
        "id": "CoNnJU10X6fd"
      },
      "id": "CoNnJU10X6fd"
    },
    {
      "cell_type": "markdown",
      "source": [
        "Veamos el uso de esta clase en la transformación de la variable `country` del conjunto de datos de reseñas de vino de Argentina y Chile."
      ],
      "metadata": {
        "id": "ytAlh-SGubbu"
      },
      "id": "ytAlh-SGubbu"
    },
    {
      "cell_type": "code",
      "source": [
        "help(LabelEncoder) # para ayudarte con los argumentos"
      ],
      "metadata": {
        "id": "1DEx0otWtCxI"
      },
      "id": "1DEx0otWtCxI",
      "execution_count": null,
      "outputs": []
    },
    {
      "cell_type": "code",
      "execution_count": null,
      "id": "3f4c6264",
      "metadata": {
        "id": "3f4c6264"
      },
      "outputs": [],
      "source": [
        "#from sklearn.preprocessing import LabelEncoder\n",
        "\n",
        "codif_etiqueta = LabelEncoder() # Inicializar la clase LabelEncoder\n",
        "\n",
        "reseVinoArgChi_df['LABEL_country_codif'] = codif_etiqueta.fit_transform(\n",
        "    reseVinoArgChi_df['country']\n",
        "    ) # Entrenar y transformar. LLamar al método fit_transform\n",
        "\n",
        "display(reseVinoArgChi_df[['country','LABEL_country_codif']])"
      ]
    },
    {
      "cell_type": "markdown",
      "source": [
        " Para codificar `country`, se selecciona la columna del objeto `reseVinoArgChi_df`.\n",
        " Los valores generados se guardan como nueva columna del Dataframe, que llamamos `'LABEL_country_codif'`.\n",
        "  \n"
      ],
      "metadata": {
        "id": "ncnruZMhunh3"
      },
      "id": "ncnruZMhunh3"
    },
    {
      "cell_type": "code",
      "source": [
        "codif_etiqueta.inverse_transform(reseVinoArgChi_df['LABEL_country_codif'])"
      ],
      "metadata": {
        "id": "4Q32aM9Nslzg"
      },
      "id": "4Q32aM9Nslzg",
      "execution_count": null,
      "outputs": []
    },
    {
      "cell_type": "markdown",
      "source": [
        "El método `inverse_transform(y)` del objeto codificador transforma las etiquetas nuevamente a la codificación original."
      ],
      "metadata": {
        "id": "bhmS2EZCut-F"
      },
      "id": "bhmS2EZCut-F"
    },
    {
      "cell_type": "markdown",
      "source": [
        "\n",
        "La nueva variable resultante utiliza la codificación { 'Argentina': 0, 'Chile': 1 }. Sin embargo, cuando se aplica este tipo de transformación a una variable cualitativa nominal, se corre el riesgo de introducir relaciones numéricas ficticias. Por ejemplo, asignar el valor 1 a Chile y 0 a Argentina podría interpretarse erróneamente como que Chile tiene \"más peso\" o es \"mayor\" que Argentina, lo cual no tiene sentido en variables nominales, ya que no existe un orden natural entre sus categorías. Por lo que está tranformación no sería la apropiada.\n"
      ],
      "metadata": {
        "id": "fpusIcDkZdEy"
      },
      "id": "fpusIcDkZdEy"
    },
    {
      "cell_type": "markdown",
      "id": "825f7bfd",
      "metadata": {
        "id": "825f7bfd"
      },
      "source": [
        "### Codificación Ordinal (Ordinal Encoding)\n",
        "Está técnica asignan un valor numérico a cada categoría en función de su orden o jerarquía natural."
      ]
    },
    {
      "cell_type": "markdown",
      "source": [
        "**Retomando el ejemplo de la teoría de este módulo**\n",
        "\n",
        "Sea la variable de grado académico, variable cualitativa ordinal, ya que *Bachiller < Licenciado < Magister < Doctorado*."
      ],
      "metadata": {
        "id": "6iJoRn9qax1Q"
      },
      "id": "6iJoRn9qax1Q"
    },
    {
      "cell_type": "code",
      "source": [
        "gradoAca_s = pd.Series(['Bachiller','Licenciado','Magister','Doctorado'], name='grado_academico')\n",
        "\n",
        "gradoAca_s # Objeto serie sobre grado académico"
      ],
      "metadata": {
        "id": "Q0wcSLata9A6"
      },
      "id": "Q0wcSLata9A6",
      "execution_count": null,
      "outputs": []
    },
    {
      "cell_type": "markdown",
      "source": [
        "En Python utilizando la clase `OrdinalEncoder` es posible codificar la variable cualitativa a cuantitativa.\n",
        "Para el ejemplo, al objeto codificador se llama `codif_ordinal`.\n",
        "\n",
        "A la hora de crear un objeto codificador `OrdinalEncoder`  es posible indicar un mapeo entre el valor numérico y la categoría a tranformar. ¿Qué quiere decir esto? indicar el argumento `categories` del método `OrdinalEncoder()`. En donde `categories` puede ser una lista de tipo array o un valor predeterminado 'auto'. Es importante que la lista pasada considere el orden en que se quiere asignar el valor numérico a cada categoría a transformar. Veamos el ejemplo"
      ],
      "metadata": {
        "id": "wq3Pk670bKPo"
      },
      "id": "wq3Pk670bKPo"
    },
    {
      "cell_type": "code",
      "source": [
        "from sklearn.preprocessing import OrdinalEncoder # importar\n",
        "\n",
        "import numpy as np\n",
        "\n",
        "\n",
        "categ_orden =  [['Bachiller','Licenciado','Magister','Doctorado']] # lista de array de categorías ordenadas de menor a mayor\n",
        "\n",
        "codif_ordinal = OrdinalEncoder(categories = categ_orden ) # Crear objeto codificador\n",
        "\n",
        "codif_ordinal # Objeto codificador"
      ],
      "metadata": {
        "id": "cpo8gMEhn4iO"
      },
      "id": "cpo8gMEhn4iO",
      "execution_count": null,
      "outputs": []
    },
    {
      "cell_type": "code",
      "source": [
        "gradoAca_transf_array = codif_ordinal.fit_transform( # Entrenar y transformar\n",
        "    gradoAca_s.to_frame() # Serie transformado a dataframe\n",
        "    )\n",
        "\n",
        "gradoAca_transf_array # variable transformada que retorna una array"
      ],
      "metadata": {
        "id": "7DzRKFPUo5Yn"
      },
      "id": "7DzRKFPUo5Yn",
      "execution_count": null,
      "outputs": []
    },
    {
      "cell_type": "code",
      "source": [
        "# Crear dataframe\n",
        "datos_df = pd.DataFrame({\n",
        "    'grado_academico':gradoAca_s,\n",
        "    'grado_academico_codif':gradoAca_transf_array.flatten() # tranformar la forma de estructura\n",
        "    })\n",
        "\n",
        "datos_df # dataframe con variable original y transformada"
      ],
      "metadata": {
        "id": "82EtEQFhpzKs"
      },
      "id": "82EtEQFhpzKs",
      "execution_count": null,
      "outputs": []
    },
    {
      "cell_type": "markdown",
      "source": [
        "Si quisiéramos que los valores enteros comience en 1 no en 0, ya se porque 0 es el valor asignado para errores, tener en cuenta este camino, suma:"
      ],
      "metadata": {
        "id": "YVlmpmqYsLVI"
      },
      "id": "YVlmpmqYsLVI"
    },
    {
      "cell_type": "code",
      "source": [
        "datos_df['grado_academico_codif'] += 1\n",
        "datos_df"
      ],
      "metadata": {
        "id": "Z7_3z4xKsTCG"
      },
      "id": "Z7_3z4xKsTCG",
      "execution_count": null,
      "outputs": []
    },
    {
      "cell_type": "markdown",
      "source": [
        "**Volviendo a la reseña de vino**\n",
        "\n",
        "Veamos la codificación nuevamente en la variable`country`. Dado que en esta variable no hay orden entre las categorías, podemos no especificar `categories`:\n"
      ],
      "metadata": {
        "id": "vEF4ReSeu1zt"
      },
      "id": "vEF4ReSeu1zt"
    },
    {
      "cell_type": "code",
      "source": [
        "help(OrdinalEncoder)"
      ],
      "metadata": {
        "id": "exfmdu8yuCex"
      },
      "id": "exfmdu8yuCex",
      "execution_count": null,
      "outputs": []
    },
    {
      "cell_type": "code",
      "execution_count": null,
      "id": "8fd4e135",
      "metadata": {
        "id": "8fd4e135"
      },
      "outputs": [],
      "source": [
        "from sklearn.preprocessing import OrdinalEncoder\n",
        "\n",
        "codif_ordinal = OrdinalEncoder( # Inicializar la clase OrdinalEncoder\n",
        "      dtype='int' # por defecto np.float64\n",
        "    )\n",
        "\n",
        "reseVinoArgChi_df['ORDINAL_country_codif']  = codif_ordinal.fit_transform(\n",
        "    reseVinoArgChi_df[['country']]\n",
        "    ) # Entrenar y transformar\n",
        "\n",
        "display(display(reseVinoArgChi_df[['country','ORDINAL_country_codif']]))"
      ]
    },
    {
      "cell_type": "markdown",
      "id": "2e02670e",
      "metadata": {
        "id": "2e02670e"
      },
      "source": [
        "Algunas características clave de la Codificación Ordinal son:\n",
        "* Asignación de valores numéricos: A cada categoría única en la variable categórica se le asigna un valor numérico único en función de su orden o jerarquía. Los valores numéricos se asignan de manera secuencial, comenzando desde 0, hasta el número total de categorías menos 1.\n",
        "* Preservación del orden: La Codificación Ordinal conserva la información de orden o jerarquía entre las categorías. Esto significa que las categorías con valores numéricos más altos representan un mayor orden o jerarquía en comparación con las categorías con valores numéricos más bajos.\n",
        "* Aplicación en variables categóricas ordinales: La Codificación Ordinal es especialmente útil cuando se trabaja con variables categóricas que tienen un orden lógico predefinido como el ejemplo de grados académicos, clasificaciones (bajo, medio, alto) o tamaños (pequeño, mediano, grande), etc.\n"
      ]
    },
    {
      "cell_type": "markdown",
      "id": "d8ab9131",
      "metadata": {
        "id": "d8ab9131"
      },
      "source": [
        "### Codificación One-Hot (One-Hot Enconding)\n",
        "\n",
        "La codificación One-Hot es una técnica utilizada para convertir variables categóricas en una representación numérica binaria. Esta técnica se utiliza cuando las variables categóricas no tienen un orden inherente, variables nominales, y se desea representar cada categoría como una columna binaria separada.\n",
        "\n",
        "Vamos directo al conjunto de datos de reseñas de vinos, veamos el ejemplo:"
      ]
    },
    {
      "cell_type": "code",
      "execution_count": null,
      "id": "2b7d84f8",
      "metadata": {
        "id": "2b7d84f8"
      },
      "outputs": [],
      "source": [
        "from sklearn.preprocessing import OneHotEncoder\n",
        "\n",
        "codif_onehot = OneHotEncoder() # Inicializar clase OneHotEncoder\n",
        "\n",
        "columnas_codif  = codif_onehot.fit_transform(\n",
        "    reseVinoArgChi_df[['country']]\n",
        "    ) # Entrenar y transformar los datos.\n",
        "\n",
        "print(\"Matriz de columnas:\",columnas_codif.toarray())\n"
      ]
    },
    {
      "cell_type": "markdown",
      "source": [
        "Para el ejemplo, al objeto codificador se llama codif_onehot. En este método también se llama al método fit_transform(). Pero a diferencia de los otros métodos. Aquí necesitamos guardar la matriz de variables nuevas."
      ],
      "metadata": {
        "id": "8-5LkmOLwTX9"
      },
      "id": "8-5LkmOLwTX9"
    },
    {
      "cell_type": "code",
      "source": [
        "## Crear dataframes con las nuevas características codifs One-Hot\n",
        "onehot_df = pd.DataFrame(columnas_codif.toarray(), columns= codif_onehot.get_feature_names_out(['country']))\n",
        "\n",
        "onehot_df"
      ],
      "metadata": {
        "id": "pHzzYdhhxXbF"
      },
      "id": "pHzzYdhhxXbF",
      "execution_count": null,
      "outputs": []
    },
    {
      "cell_type": "markdown",
      "source": [
        "Si se desea agregar a dataframe base"
      ],
      "metadata": {
        "id": "AzZ1tZHZAQgc"
      },
      "id": "AzZ1tZHZAQgc"
    },
    {
      "cell_type": "code",
      "source": [
        "educ_onehot_df = pd.concat([reseVinoArgChi_df, onehot_df], axis=1) # concatenar el DataFrame codificado One-Hot\n",
        "educ_onehot_df[['country','country_Argentina', 'country_Chile']]\n"
      ],
      "metadata": {
        "id": "mxYWp6Tx_3CR"
      },
      "id": "mxYWp6Tx_3CR",
      "execution_count": null,
      "outputs": []
    },
    {
      "cell_type": "markdown",
      "id": "461978e4",
      "metadata": {
        "id": "461978e4"
      },
      "source": [
        "Está técnica no introduce relaciones ficticias entre categorías aunque aumenta la cantidad de atributos o variables en el conjunto de datos si hay mucha cantidad de categorías asociadas a la variable a codificar.\n",
        "\n"
      ]
    },
    {
      "cell_type": "markdown",
      "source": [
        "Para la variable country seria conveniente utilizar  OneHotEncoder y en lugar de trabajar con las dos variables nuevas, considerar una por ejemplo *country_Argentina*."
      ],
      "metadata": {
        "id": "Xx_kbRfKyXaW"
      },
      "id": "Xx_kbRfKyXaW"
    },
    {
      "cell_type": "markdown",
      "source": [
        "\n",
        "Para identificar otras técnicas implementadas en scikit-learn click en:\n",
        "[Documentación  de scikit-learn para codificar características categóricas](https://contrib.scikit-learn.org/category_encoders/)"
      ],
      "metadata": {
        "id": "U9ZCkZzIy7FA"
      },
      "id": "U9ZCkZzIy7FA"
    },
    {
      "cell_type": "markdown",
      "source": [
        "📝 **Ejercicio**\n",
        "\n",
        "Sea el siguiente conjunto de datos almacenado en el DataFrame `estudiantes_df`.\n"
      ],
      "metadata": {
        "id": "YKRkOICk3JDi"
      },
      "id": "YKRkOICk3JDi"
    },
    {
      "cell_type": "code",
      "source": [
        "est_d = {\n",
        "  'Nombre': ['Lucas','Marcela','Fede','Sol','Sol'],\n",
        "  'Edad': [49, 26, 37, 40, 35],\n",
        "  'GradoAcademico': ['Bachiller','Licenciado','Magister','Doctorado','Licenciado']\n",
        "}\n",
        "\n",
        "# Crear DataFrame\n",
        "estudiantes_df = pd.DataFrame(est_d)"
      ],
      "metadata": {
        "id": "EUZZvHfu3-Iw"
      },
      "id": "EUZZvHfu3-Iw",
      "execution_count": null,
      "outputs": []
    },
    {
      "cell_type": "code",
      "source": [
        "estudiantes_df['GradoAcademico'].unique()"
      ],
      "metadata": {
        "id": "bafHOEGu40t3"
      },
      "id": "bafHOEGu40t3",
      "execution_count": null,
      "outputs": []
    },
    {
      "cell_type": "markdown",
      "source": [
        "* ¿Cómo codificar la variable categórica ordinal 'GradoAcademico' de manera que que los valores asignados respeten el orden de menor a mayor grado?\n",
        "Es decir:  ['Bachiller', 'Licenciado', 'Magister', 'Doctorado']"
      ],
      "metadata": {
        "id": "pkub7efW4PcM"
      },
      "id": "pkub7efW4PcM"
    },
    {
      "cell_type": "code",
      "source": [],
      "metadata": {
        "id": "jGuiqM5cqMeK"
      },
      "id": "jGuiqM5cqMeK",
      "execution_count": null,
      "outputs": []
    },
    {
      "cell_type": "markdown",
      "source": [
        "**Haz doble click para ver la respuesta**\n",
        "<!--\n",
        "from sklearn.preprocessing import OrdinalEncoder\n",
        "\n",
        "codif_ordinal = OrdinalEncoder( # Inicializar la clase OrdinalEncoder\n",
        "    categories=[['Bachiller', 'Licenciado', 'Magister', 'Doctorado']],\n",
        "    dtype= 'int'\n",
        "    )\n",
        "\n",
        "codif_ordinal.fit_transform(estudiantes_df[['GradoAcademico']])\n",
        "-->"
      ],
      "metadata": {
        "id": "iviOYLQ5qJZz"
      },
      "id": "iviOYLQ5qJZz"
    },
    {
      "cell_type": "markdown",
      "id": "08a565aa",
      "metadata": {
        "id": "08a565aa"
      },
      "source": [
        "## 🥇Estandarización y Normalización\n",
        "\n",
        "Existen diversos métodos de escalamiento, aquí abordaremos los más comunes. En Python utilizando el paquete `sklearn.preprocessing`  podemos utilizar:\n",
        "\n",
        "* Normalización puntuación Z (z-score) = StandardScaler()\n",
        "* Normalización mínimo-máximo = MinMaxScaler()\n",
        "\n"
      ]
    },
    {
      "cell_type": "markdown",
      "source": [
        "Replicando el ejemplo de teoría"
      ],
      "metadata": {
        "id": "uTujQy1Y7UFb"
      },
      "id": "uTujQy1Y7UFb"
    },
    {
      "cell_type": "code",
      "execution_count": null,
      "id": "e63ab57b",
      "metadata": {
        "id": "e63ab57b"
      },
      "outputs": [],
      "source": [
        "import pandas as pd\n",
        "import numpy as np\n",
        "\n",
        "# Crear dataframe del ejemplo edad\n",
        "edad_ls =  [30, 35, 22, 25, 30, 23, 25, 65, 71]\n",
        "data = { 'edad': edad_ls }\n",
        "edad_df = pd.DataFrame(data)\n",
        "\n",
        "# Imprimir los primeras 5 instancias\n",
        "edad_df.head(5)"
      ]
    },
    {
      "cell_type": "code",
      "source": [
        "edad_df['edad'].plot(kind='hist', bins=7)"
      ],
      "metadata": {
        "id": "0MHV7hsMoX65"
      },
      "id": "0MHV7hsMoX65",
      "execution_count": null,
      "outputs": []
    },
    {
      "cell_type": "code",
      "source": [
        "print(edad_ls[1])\n",
        "m = np.mean(edad_ls)\n",
        "var = np.var(edad_ls, ddof=0)\n",
        "std = np.std(edad_ls, ddof=0)\n",
        "print(\"Media: \", m)\n",
        "print(\"Varianza poblacional:\", var)\n",
        "print(\"Desviación estándar poblacional:\",std)\n",
        "\n",
        "print((edad_ls[1]-m)/std) # Estandarización"
      ],
      "metadata": {
        "id": "cM215CHdT3YV"
      },
      "id": "cM215CHdT3YV",
      "execution_count": null,
      "outputs": []
    },
    {
      "cell_type": "code",
      "source": [
        "min = np.min(edad_ls)\n",
        "max = np.max(edad_ls)\n",
        "print((edad_ls[1]-min)/(max-min)) # Normalización"
      ],
      "metadata": {
        "id": "iNmiz2XfUYy1"
      },
      "id": "iNmiz2XfUYy1",
      "execution_count": null,
      "outputs": []
    },
    {
      "cell_type": "markdown",
      "source": [
        "Ahora te presentamos un código, luego detallaremos"
      ],
      "metadata": {
        "id": "X7TFbYGMQzox"
      },
      "id": "X7TFbYGMQzox"
    },
    {
      "cell_type": "code",
      "source": [
        "from sklearn.preprocessing import StandardScaler,MinMaxScaler\n",
        "import numpy as np\n",
        "\n",
        "# StandardScaler\n",
        "escalado_Z = StandardScaler()\n",
        "edad_df['Z_edad'] = escalado_Z.fit_transform(\n",
        "    edad_df[['edad']]\n",
        "    )\n",
        "\n",
        "print('Media {} y desvío estándar {} utilizados '. format(escalado_Z.mean_[0], np.sqrt(escalado_Z.var_)[0]))\n",
        "escalado_minMax = MinMaxScaler()\n",
        "\n",
        "# MinMaxScaler\n",
        "\n",
        "edad_df['MINMAX_edad'] = escalado_minMax.fit_transform(\n",
        "    edad_df[['edad']]\n",
        "    )\n",
        "\n",
        "print(\"Para la variable edad Max. = {}  Mín. = {}\".\n",
        "      format(edad_df['edad'].max(), edad_df['edad'].min())\n",
        "      )\n",
        "display(edad_df.sort_values(by='MINMAX_edad'))\n",
        "\n"
      ],
      "metadata": {
        "id": "dQB5_UEtrGlV"
      },
      "id": "dQB5_UEtrGlV",
      "execution_count": null,
      "outputs": []
    },
    {
      "cell_type": "code",
      "source": [
        "# Importar biblioteca\n",
        "import matplotlib.pyplot as plt\n",
        "\n",
        "# Crear gráfica\n",
        "fig, axs = plt.subplots(3,1, figsize=(6, 10),)\n",
        "\n",
        "edad_df['edad'].plot(kind='hist', bins=7, ax=axs[0])\n",
        "edad_df['Z_edad'].plot(kind='hist', bins=7, ax=axs[1])\n",
        "edad_df['MINMAX_edad'].plot(kind='hist', bins=7, ax=axs[2])\n",
        "\n",
        "axs[0].set_title(\"Histograma de 'edad'\")\n",
        "\n",
        "axs[1].set_title(\"Histograma de 'edad' luego de estandarizar  - Puntaje Z\" )\n",
        "\n",
        "axs[2].set_title(\"Histograma de 'edad' luego de normalizar  - MINMAX\" )\n",
        "fig.tight_layout()"
      ],
      "metadata": {
        "id": "KJ5_TvfJrQ8K"
      },
      "id": "KJ5_TvfJrQ8K",
      "execution_count": null,
      "outputs": []
    },
    {
      "cell_type": "markdown",
      "source": [
        "## **¿Cómo aplico estas técnicas en la variable price?**\n",
        "Veamos en detalle lo anterior visto utilizando el conjunto de datos de reseña de vino."
      ],
      "metadata": {
        "id": "2QVDfZo5unG7"
      },
      "id": "2QVDfZo5unG7"
    },
    {
      "cell_type": "code",
      "source": [
        "import pandas as pd\n",
        "\n",
        "url_base = 'https://raw.githubusercontent.com/formacionCDIA/cursoCDIA/main/Data/'\n",
        "\n",
        "nombre_archivo = 'winemag-data-130k-v2.csv'\n",
        "\n",
        "ruta_archivo = url_base + nombre_archivo # Especificar ruta de archicvo csv\n",
        "\n",
        "reseVino_df = pd.read_csv(ruta_archivo, index_col='Unnamed: 0')\n",
        "\n",
        "# datos\n",
        "reseVinoArgChi_df = reseVino_df.loc[reseVino_df['country'].isin(['Argentina','Chile']),]\n",
        "reseVinoArgChi_df[['country','variety','points','price']].head(2)"
      ],
      "metadata": {
        "id": "mlBXgS0uuf8A"
      },
      "id": "mlBXgS0uuf8A",
      "execution_count": null,
      "outputs": []
    },
    {
      "cell_type": "markdown",
      "id": "39504397",
      "metadata": {
        "id": "39504397"
      },
      "source": [
        "### Estandarización\n",
        "Su fórmula está determinada por:\n",
        "\n",
        "$$Z = \\frac{X-\\mu}{\\sigma}$$\n",
        "\n",
        "donde $X$ es el valor observado $\\mu$ es la media en el conjunto de datos y $\\sigma$ es desviación estándar en el conjunto de datos.\n",
        "\n"
      ]
    },
    {
      "cell_type": "markdown",
      "source": [
        "Teniendo en cuenta el conjunto de datos de reseña de vinos de Argentina y Chile y la variable price"
      ],
      "metadata": {
        "id": "Wv6B43a_rjHL"
      },
      "id": "Wv6B43a_rjHL"
    },
    {
      "cell_type": "code",
      "source": [
        "reseVinoArgChi_df['price']"
      ],
      "metadata": {
        "id": "Ml0PrWSjfwOY"
      },
      "id": "Ml0PrWSjfwOY",
      "execution_count": null,
      "outputs": []
    },
    {
      "cell_type": "code",
      "source": [
        "reseVinoArgChi_df['price'].plot(kind='hist', bins=100) # Visualización\n"
      ],
      "metadata": {
        "id": "GvDWCvDZ1Inm"
      },
      "id": "GvDWCvDZ1Inm",
      "execution_count": null,
      "outputs": []
    },
    {
      "cell_type": "code",
      "source": [
        "reseVinoArgChi_df['price'].describe() # estadística"
      ],
      "metadata": {
        "id": "sDGS4l_C1ZVT"
      },
      "id": "sDGS4l_C1ZVT",
      "execution_count": null,
      "outputs": []
    },
    {
      "cell_type": "code",
      "source": [
        "reseVinoArgChi_df['price'].mode()"
      ],
      "metadata": {
        "id": "B04Yo_Wr2enh"
      },
      "id": "B04Yo_Wr2enh",
      "execution_count": null,
      "outputs": []
    },
    {
      "cell_type": "markdown",
      "source": [
        "Por el histograma, y comparando los valores de la media (22,49), mediana (15) y moda (12) la variable price presenta asimetría. Los precios tienden a concentrarse en valores inferiores a 23 USD (el 75% de los datos).\n",
        "\n",
        "\n",
        "\n",
        "\n"
      ],
      "metadata": {
        "id": "517TLU9K2WLc"
      },
      "id": "517TLU9K2WLc"
    },
    {
      "cell_type": "markdown",
      "source": [
        "El escalado de puntuación Z asume que los datos tienen una distribución aproximadamente normal, o al menos una distribución simétrica, alrededor de un valor medio central. Para nuestra variable price esto no se cumple, pero igual aplicamos técnica para ver su efecto.\n",
        "\n"
      ],
      "metadata": {
        "id": "kY5bP5g14bBG"
      },
      "id": "kY5bP5g14bBG"
    },
    {
      "cell_type": "markdown",
      "source": [
        "Para aplicar esta técnica, luego de importar librería y clase, creamos un objeto de la clase `StandardScaler()`, llamado `escalado_Z`. De este objeto llamamos al método `fit_transform()` que toma como argumento los datos a escalar y los transforma.\n"
      ],
      "metadata": {
        "id": "ZJRM5fJI8NAs"
      },
      "id": "ZJRM5fJI8NAs"
    },
    {
      "cell_type": "code",
      "source": [
        "from sklearn.preprocessing import StandardScaler # importar librería\n",
        "import numpy as np\n",
        "\n",
        "escalado_Z = StandardScaler() # Instanciar la clase StandardScaler\n",
        "\n",
        "reseVinoArgChi_df['Z_price'] = escalado_Z.fit_transform( # Entrenar y transformar. Nueva variable\n",
        "    reseVinoArgChi_df[['price']]\n",
        "    )\n",
        "\n",
        "print('Media {} y desvío estándar {} utilizados '. format(escalado_Z.mean_[0], np.sqrt(escalado_Z.var_)[0]))\n",
        "\n",
        "display(reseVinoArgChi_df[['price','Z_price']].head(5))\n"
      ],
      "metadata": {
        "id": "GpoECz0JfgeR"
      },
      "id": "GpoECz0JfgeR",
      "execution_count": null,
      "outputs": []
    },
    {
      "cell_type": "markdown",
      "source": [
        "En el ejemplo los datos escalados de `price` se guardan como nueva variable del conjunto de datos. Nueva columna en DataFrame. La llamamos `Z_price`.\n",
        "Si graficamos la variable `price` y la variable `Z_price` a través de histogramas\n"
      ],
      "metadata": {
        "id": "lu-JrTYA-hmQ"
      },
      "id": "lu-JrTYA-hmQ"
    },
    {
      "cell_type": "code",
      "execution_count": null,
      "id": "53c2fab7",
      "metadata": {
        "id": "53c2fab7"
      },
      "outputs": [],
      "source": [
        "# Importar biblioteca\n",
        "import matplotlib.pyplot as plt\n",
        "\n",
        "# Crear gráfica\n",
        "fig, axs = plt.subplots(2,1, figsize=(15, 6))\n",
        "\n",
        "reseVinoArgChi_df['price'].plot(kind='hist', bins=100, ax = axs[0])\n",
        "reseVinoArgChi_df['Z_price'].plot(kind='hist', bins=100, ax = axs[1])\n",
        "\n",
        "axs[0].set_title(\"Histograma de 'price'\")\n",
        "axs[1].set_title(\"Histograma de 'price' luego de estandarizar  - Puntaje Z\" )\n",
        "fig.tight_layout()"
      ]
    },
    {
      "cell_type": "markdown",
      "id": "be42674d",
      "metadata": {
        "id": "be42674d"
      },
      "source": [
        "Los datos no cambian su distribución. Pero la media después del escalado es muy cercana a 0, lo cual es esperable en el escalado de puntuación z. Los datos ahora están centrados alrededor de 0. La desviación estándar de cada característica es ahora aproximadamente 1, lo que permite la comparación de las escalas. Los valores mínimo y máximo se han transformado, manteniendo la distribución relativa de los datos."
      ]
    },
    {
      "cell_type": "markdown",
      "id": "93fc8b5e",
      "metadata": {
        "id": "93fc8b5e"
      },
      "source": [
        "**Cuando usar**\n",
        "\n",
        "Como ya lo mencionamos, la puntuación z es más adecuada si los datos son numéricos y se distribuyen de manera aproximadamente normal o simétrica.\n",
        "\n",
        "Si se usa los datos en algoritmos basados en el gradiente como Máquina de Vectores de Soporte (Support Vector Machine, SVM) Regresión lineal o Regresión logística. También en el Análisis de Componentes Principales (Principal Component Analysis, PCA)."
      ]
    },
    {
      "cell_type": "markdown",
      "id": "69a6db1e",
      "metadata": {
        "id": "69a6db1e"
      },
      "source": [
        "### Normalización\n",
        "\n",
        "La normalización es otro proceso común en el preprocesamiento de datos que se utiliza para escalar los valores de una variable. A diferencia de la estandarización, que centra los datos alrededor de cero y los escala utilizando la desviación estándar, la normalización ajusta los valores en un rango específico, generalmente entre 0 y 1.\n",
        "\n",
        "\n",
        "#### Escalamiento mínimo-máximo, (Min-Max Scaling)\n",
        "\n",
        "Aquí se escala entre 0 y 1.\n",
        "\n",
        "\n"
      ]
    },
    {
      "cell_type": "markdown",
      "source": [
        "Ahora apliquemos escalamiento mínimo-máximo a price  con sklearn.preprocessing. En donde creamos un objeto de la clase MinMaxScaler() , llamado escalado_minMax. De este objeto llamamos al método fit_transform() que toma como argumento los datos a escalar y los transforma.\n"
      ],
      "metadata": {
        "id": "V0gPxD3Z97jj"
      },
      "id": "V0gPxD3Z97jj"
    },
    {
      "cell_type": "code",
      "execution_count": null,
      "id": "2bd48cf7",
      "metadata": {
        "id": "2bd48cf7"
      },
      "outputs": [],
      "source": [
        "from sklearn.preprocessing import MinMaxScaler # Importar biblioteca\n",
        "\n",
        "\n",
        "escalado_minMax = MinMaxScaler() # Inicializar la clase MinMaxScaler\n",
        "\n",
        "reseVinoArgChi_df['MINMAX_price'] = escalado_minMax.fit_transform( # Entrenar y transformar\n",
        "    reseVinoArgChi_df[['price']]\n",
        "    )\n"
      ]
    },
    {
      "cell_type": "code",
      "source": [
        "print(\"Para la variable price Max. = {} Mín. = {}\".\n",
        "      format(reseVinoArgChi_df['price'].max(),reseVinoArgChi_df['price'].min())\n",
        "      )\n",
        "\n",
        "print(\"Para la variable MINMAX_price Max. = {} Mín. = {}\".\n",
        "      format(reseVinoArgChi_df['MINMAX_price'].max(),reseVinoArgChi_df['MINMAX_price'].min())\n",
        "      )\n",
        "display(reseVinoArgChi_df[['price','MINMAX_price']].sort_values(by='MINMAX_price').head(5))\n"
      ],
      "metadata": {
        "id": "fmCeS_Lq5ttl"
      },
      "id": "fmCeS_Lq5ttl",
      "execution_count": null,
      "outputs": []
    },
    {
      "cell_type": "code",
      "execution_count": null,
      "id": "1d0ccebe",
      "metadata": {
        "id": "1d0ccebe"
      },
      "outputs": [],
      "source": [
        "# Crear gráfica\n",
        "\n",
        "fig, axs = plt.subplots(3,1, figsize=(15, 6))\n",
        "reseVinoArgChi_df['price'].plot(kind='hist', bins=100, ax = axs[0])\n",
        "reseVinoArgChi_df['Z_price'].plot(kind='hist', bins=100, ax = axs[1])\n",
        "reseVinoArgChi_df['MINMAX_price'].plot(kind='hist', bins=100, ax = axs[2])\n",
        "\n",
        "axs[0].set_title(\"Histograma de 'price'\")\n",
        "axs[1].set_title(\"Histograma de 'price' luego de estandarizar  - Puntaje Z\" )\n",
        "axs[2].set_title(\"Histograma de 'price' luego de normalizar - Escalamiento mínimo-máximo\" )\n",
        "\n",
        "fig.tight_layout()"
      ]
    },
    {
      "cell_type": "markdown",
      "id": "0b2f63b7",
      "metadata": {
        "id": "0b2f63b7"
      },
      "source": [
        "Se emplea comúnmente cuando no se asume que la distribución de la variable sea normal.\n",
        "\n",
        "Escalar a un rango específico es un enfoque adecuado cuando se cumplen las siguientes condiciones:\n",
        "* Se conocen previamente los límites superior e inferior aproximados de los datos.\n",
        "* El algoritmo o modelo de aprendizaje automático elegido se beneficia de tener características dentro de un rango específico, generalmente [0, 1] o cualquier otro rango deseado.\n",
        "\n",
        "\n"
      ]
    },
    {
      "cell_type": "markdown",
      "source": [
        "Al aplicar el escalamiento lineal a price, el límite superior de la escala es excesivamente alto y la mayoría de los datos se concentran en un segmento pequeño, hay pérdida de información y representaciones sesgadas."
      ],
      "metadata": {
        "id": "g8R8Pa6A9dYw"
      },
      "id": "g8R8Pa6A9dYw"
    },
    {
      "cell_type": "markdown",
      "id": "9e769e8c",
      "metadata": {
        "id": "9e769e8c"
      },
      "source": [
        "Otras normalizaciones:\n",
        "* MaxAbsScaler: escala cada variable por su valor absoluto máximo. Rango [-1, 1].\n",
        "* RobustScaler: resulta particularmente útil cuando se trabaja con conjuntos de datos que contienen valores atípicos.\n",
        "\n",
        "Todos estos y muchos más están implementados en scikit-learn, click en:[Documentación de preprocesamiento ](https://scikit-learn.org/stable/modules/preprocessing.html)"
      ]
    },
    {
      "cell_type": "markdown",
      "source": [
        "📝 **Ejercicio**\n",
        "\n",
        "Sea el siguiente conjunto de datos almacenado en el DataFrame `estudiantes_df`."
      ],
      "metadata": {
        "id": "yuG-Ybe15gZt"
      },
      "id": "yuG-Ybe15gZt"
    },
    {
      "cell_type": "code",
      "source": [
        "est_d = {\n",
        "  'Nombre': ['Lucas','Marcela','Fede','Sol','Sol'],\n",
        "  'Edad': [49, 26, 37, 40, 35],\n",
        "  'GradoAcademico': ['Bachiller','Licenciado','Magister','Doctorado','Licenciado']\n",
        "}\n",
        "\n",
        "# Crear DataFrame\n",
        "estudiantes_df = pd.DataFrame(est_d)"
      ],
      "metadata": {
        "id": "vEbg1zER5ffX"
      },
      "id": "vEbg1zER5ffX",
      "execution_count": null,
      "outputs": []
    },
    {
      "cell_type": "markdown",
      "source": [
        "Normalizar la variedad edad por puntaje Z o Z-score"
      ],
      "metadata": {
        "id": "putJxVSc6F-V"
      },
      "id": "putJxVSc6F-V"
    },
    {
      "cell_type": "markdown",
      "source": [
        "**Haz doble click para ver la respuesta**\n",
        "<!--\n",
        "from sklearn.preprocessing import StandardScaler\n",
        "import numpy as np\n",
        "\n",
        "\n",
        "# Instanciar la clase StandardScaler\n",
        "escala_puntoZ = StandardScaler()\n",
        "\n",
        "# Entrenar y transformar. Nueva variable\n",
        "escala_puntoZ.fit_transform(estudiantes_df[['Edad']])\n",
        "-->"
      ],
      "metadata": {
        "id": "ihjnmNmyr_Kw"
      },
      "id": "ihjnmNmyr_Kw"
    },
    {
      "cell_type": "markdown",
      "id": "d64ce30f",
      "metadata": {
        "id": "d64ce30f"
      },
      "source": [
        "## 🥇Manejo de valores atípicos (outliers)"
      ]
    },
    {
      "cell_type": "markdown",
      "source": [
        "## **¿La variable price tiene valores atípicos?¿Cuáles son?**"
      ],
      "metadata": {
        "id": "uBHUMTDuxNhB"
      },
      "id": "uBHUMTDuxNhB"
    },
    {
      "cell_type": "markdown",
      "id": "d863bab2",
      "metadata": {
        "id": "d863bab2"
      },
      "source": [
        "### Identificación de valores atípicos univariados\n"
      ]
    },
    {
      "cell_type": "markdown",
      "source": [
        "Replicando el ejemplo de teoría"
      ],
      "metadata": {
        "id": "8VXo-S1u7GlC"
      },
      "id": "8VXo-S1u7GlC"
    },
    {
      "cell_type": "code",
      "source": [
        "import numpy as np\n",
        "import pandas as pd\n",
        "\n",
        "data = pd.Series([30, 35, 22, 25, 30, 23, 25, 65, 71])\n",
        "print(np.mean(data))\n",
        "print(np.median(data))\n",
        "print(np.std(data))"
      ],
      "metadata": {
        "id": "I0D7j_Q4wX7P"
      },
      "id": "I0D7j_Q4wX7P",
      "execution_count": null,
      "outputs": []
    },
    {
      "cell_type": "code",
      "source": [
        "data.sort_values()\n",
        "Q1 = data.quantile(0.25)\n",
        "Q3 = data.quantile(0.75)"
      ],
      "metadata": {
        "id": "lsXD52rKao8G"
      },
      "id": "lsXD52rKao8G",
      "execution_count": null,
      "outputs": []
    },
    {
      "cell_type": "code",
      "source": [
        "IQR = Q3 - Q1 # Calcular Rango intercuartil\n",
        "print(\"Cuartil Q1:\",Q1)\n",
        "print(\"Cuartil Q3:\",Q3)\n",
        "print(\"Rango intercuartil :\",IQR)\n",
        "\n",
        "limite_inferior = Q1 - 1.5 * IQR #\n",
        "limite_superior = Q3 + 1.5 * IQR\n",
        "print(\"Limite inferior :\",limite_inferior)\n",
        "print(\"Limite superior :\",limite_superior)"
      ],
      "metadata": {
        "id": "jiM1A9jVcLQz"
      },
      "id": "jiM1A9jVcLQz",
      "execution_count": null,
      "outputs": []
    },
    {
      "cell_type": "code",
      "source": [
        "fig, ax = plt.subplots(figsize=(5, 3))\n",
        "data.plot(kind='box',vert=False , ax=ax)\n",
        "ax.set_title(\"Diagrama de caja (Box Plot) para 'edad'\")"
      ],
      "metadata": {
        "id": "PHfZFtnxZ6Ec"
      },
      "id": "PHfZFtnxZ6Ec",
      "execution_count": null,
      "outputs": []
    },
    {
      "cell_type": "markdown",
      "source": [
        "Procesando el conjunto de datos de reseña de vinos de Argentina y Chile"
      ],
      "metadata": {
        "id": "HZ4-VJDU65cC"
      },
      "id": "HZ4-VJDU65cC"
    },
    {
      "cell_type": "code",
      "source": [
        "url_base = 'https://raw.githubusercontent.com/formacionCDIA/cursoCDIA/main/Data/'\n",
        "\n",
        "nombre_archivo = 'winemag-data-130k-v2.csv'\n",
        "\n",
        "ruta_archivo = url_base + nombre_archivo # Especificar ruta de archicvo csv\n",
        "\n",
        "reseVino_df = pd.read_csv(ruta_archivo, index_col='Unnamed: 0')\n",
        "\n",
        "# datos\n",
        "reseVinoArgChi_df = reseVino_df.loc[reseVino_df['country'].isin(['Argentina','Chile']),]\n",
        "reseVinoArgChi_df[['country','variety','points','price']].head(2)"
      ],
      "metadata": {
        "id": "6h8jxjtWwXZM"
      },
      "id": "6h8jxjtWwXZM",
      "execution_count": null,
      "outputs": []
    },
    {
      "cell_type": "markdown",
      "id": "5d09496e",
      "metadata": {
        "id": "5d09496e"
      },
      "source": [
        "#### Visualización por Diagrama de caja (Box-plot)"
      ]
    },
    {
      "cell_type": "markdown",
      "id": "20d40894",
      "metadata": {
        "id": "20d40894"
      },
      "source": [
        "![Gráficas asociadas (2).png](data:image/png;base64,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)"
      ]
    },
    {
      "cell_type": "markdown",
      "source": [
        "Si observamos el diagrama de caja de la variable price ."
      ],
      "metadata": {
        "id": "_fRmCYRGArkv"
      },
      "id": "_fRmCYRGArkv"
    },
    {
      "cell_type": "code",
      "execution_count": null,
      "id": "7f87e94f",
      "metadata": {
        "id": "7f87e94f"
      },
      "outputs": [],
      "source": [
        "# Diagrama de caja\n",
        "import matplotlib.pyplot as plt\n",
        "\n",
        "\n",
        "fig, ax = plt.subplots(figsize=(15, 3))\n",
        "reseVinoArgChi_df['price'].plot(kind='box',vert=False , ax=ax)\n",
        "ax.set_title(\"Diagrama de caja (Box Plot) para 'price'\")\n"
      ]
    },
    {
      "cell_type": "markdown",
      "source": [
        "Se observan valores atípicos pero ¿cuáles son?."
      ],
      "metadata": {
        "id": "SrerASU5A410"
      },
      "id": "SrerASU5A410"
    },
    {
      "cell_type": "markdown",
      "source": [
        "Para responder esta pregunta identifiquemos el valor de los bigotes del diagrama, que actúan como límites. Para calcularlos, veamos el método por Rango Intercuartil (Interquartile Range, IQR)."
      ],
      "metadata": {
        "id": "cvXPCXnBSV_3"
      },
      "id": "cvXPCXnBSV_3"
    },
    {
      "cell_type": "code",
      "execution_count": null,
      "id": "bab8ea16",
      "metadata": {
        "id": "bab8ea16"
      },
      "outputs": [],
      "source": [
        "Q1 = reseVinoArgChi_df['price'].quantile(0.25) # Calcular cuartíles\n",
        "Q3 = reseVinoArgChi_df['price'].quantile(0.75)\n",
        "\n",
        "print(\"Valores atípicos en 'price' por IQR:\")\n",
        "\n",
        "IQR = Q3 - Q1 # Calcular Rango intercuartil\n",
        "print(\"Cuartil Q1:\",Q1)\n",
        "print(\"Cuartil Q3:\",Q3)\n",
        "print(\"Rango intercuartil :\",IQR)\n",
        "\n",
        "limite_inferior = Q1 - 1.5 * IQR #\n",
        "limite_superior = Q3 + 1.5 * IQR\n",
        "print(\"Limite inferior :\",limite_inferior)\n",
        "print(\"Limite superior :\",limite_superior)\n",
        "\n",
        "# Detectar valores atípicos\n",
        "atipicos_IQR_df = reseVinoArgChi_df[(reseVinoArgChi_df['price'] < limite_inferior) | (reseVinoArgChi_df['price'] > limite_superior)]\n",
        "\n",
        "\n",
        "atipicos_IQR_df['price'].sort_values()\n"
      ]
    },
    {
      "cell_type": "markdown",
      "source": [
        "Analizando solo la variable price. Se identifica por método IQR, que los precios de botella de vino de Argentina y Chile superiores a 39 USD son valores atípicos."
      ],
      "metadata": {
        "id": "dT2DvX6bBG-l"
      },
      "id": "dT2DvX6bBG-l"
    },
    {
      "cell_type": "markdown",
      "id": "de7a5d50",
      "metadata": {
        "id": "de7a5d50"
      },
      "source": [
        "#### Método de puntuación Z (Z-score)\n"
      ]
    },
    {
      "cell_type": "code",
      "execution_count": null,
      "id": "9f85a33b",
      "metadata": {
        "id": "9f85a33b"
      },
      "outputs": [],
      "source": [
        "from sklearn.preprocessing import StandardScaler # importar librería\n",
        "import numpy as np\n",
        "\n",
        "# Normalizar para luego aplicar el filtro por el umbral\n",
        "\n",
        "escalado_puntoZ = StandardScaler() # Instanciar la clase StandardScaler\n",
        "\n",
        "reseVinoArgChi_df['Z_price'] = escalado_puntoZ.fit_transform( # Entrenar y transformar. Nueva variable\n",
        "    reseVinoArgChi_df[['price']]\n",
        "    )\n",
        "\n",
        "print('Media {} y desvío estándar {} utilizados '. format(escalado_puntoZ.mean_[0], np.sqrt(escalado_puntoZ.var_)[0]))\n",
        "\n",
        "\n",
        "z_umbral = 3 # Setear umbral de puntaje z\n",
        "\n",
        "\n",
        "# Identificar valor atípico\n",
        "atipicos_estandar_df = reseVinoArgChi_df.loc[(reseVinoArgChi_df['Z_price']< -(z_umbral)) | (reseVinoArgChi_df['Z_price']> z_umbral),]\n",
        "\n",
        "# Imprimir resultados\n",
        "display(\"Atipicos en 'point' por puntaje Z :\",atipicos_estandar_df[['price','Z_price']].sort_values(by='Z_price'))"
      ]
    },
    {
      "cell_type": "markdown",
      "source": [
        " Se identifica por método de puntuación Z, que los precios de botella de vino de Argentina y Chile superiores a 92 USD son valores atípicos."
      ],
      "metadata": {
        "id": "qdXZYWe7BbKN"
      },
      "id": "qdXZYWe7BbKN"
    },
    {
      "cell_type": "markdown",
      "id": "a9ddb8e2",
      "metadata": {
        "id": "a9ddb8e2"
      },
      "source": [
        "Si graficamos las puntuaciones Z para cada observación"
      ]
    },
    {
      "cell_type": "code",
      "execution_count": null,
      "id": "68a4dab8",
      "metadata": {
        "id": "68a4dab8"
      },
      "outputs": [],
      "source": [
        "# Crear gráfica\n",
        "fig, ax = plt.subplots(figsize=(15, 3))\n",
        "ax.scatter(reseVinoArgChi_df['price'] , reseVinoArgChi_df['Z_price'] , color='blue', label='Z-Scores')\n",
        "ax.set_title(\"Puntajes Z (Z-Scores) para 'price'\")\n",
        "plt.axhline(y=z_umbral, color='red', linestyle='--', label='Umbral')\n",
        "plt.legend()"
      ]
    },
    {
      "cell_type": "markdown",
      "source": [
        "En este gráfico de dispersión de puntuaciones Z, cada punto representa la puntuación Z de un punto de datos individual. La línea discontinua roja indica el umbral de puntuación Z elegido (en este caso, 3). Los valores atípicos se identifican como puntos por encima de este umbral, que para el ejemplo son los mayores de 92 USD.\n",
        "\n"
      ],
      "metadata": {
        "id": "fe0ir0eyBvwC"
      },
      "id": "fe0ir0eyBvwC"
    },
    {
      "cell_type": "markdown",
      "id": "087cdf91",
      "metadata": {
        "id": "087cdf91"
      },
      "source": [
        "#### Eliminación de valores atípicos\n"
      ]
    },
    {
      "cell_type": "markdown",
      "source": [
        "Si utilizamos el método IQR para eliminar valores atípicos en ‘price’, luego identificamos estadísticas y visualizamos su diagrama de caja."
      ],
      "metadata": {
        "id": "ytEVapBKDCLI"
      },
      "id": "ytEVapBKDCLI"
    },
    {
      "cell_type": "code",
      "execution_count": null,
      "id": "4c2948ee",
      "metadata": {
        "id": "4c2948ee"
      },
      "outputs": [],
      "source": [
        "# Seleccionar price dentro de los limites de IQR\n",
        "datos_sinAtipicos_IQR_df = reseVinoArgChi_df[(reseVinoArgChi_df['price'] >= limite_inferior) & (reseVinoArgChi_df['price']  <= limite_superior)]\n",
        "display(\"Estadística para 'price' con valores atípicos \",reseVinoArgChi_df['price'] .describe())\n",
        "display(\"Estadística para 'price' sin valores atípicos por IQR \",datos_sinAtipicos_IQR_df['price'].describe())\n"
      ]
    },
    {
      "cell_type": "code",
      "source": [
        "8172-902"
      ],
      "metadata": {
        "id": "YXgo_Wk3KJ5Q"
      },
      "id": "YXgo_Wk3KJ5Q",
      "execution_count": null,
      "outputs": []
    },
    {
      "cell_type": "code",
      "source": [
        "fig, axs = plt.subplots(1, 2, figsize=(15, 3))\n",
        "reseVinoArgChi_df['price'].plot(kind='box',vert=False , ax=axs[0])\n",
        "axs[0].set_title(\"Diagrama de caja (Box Plot) para 'price'\")\n",
        "datos_sinAtipicos_IQR_df['price'].plot(kind='box',vert=False , ax=axs[1])\n",
        "axs[1].set_title(\"Diagrama de caja (Box Plot) para 'price' sin valores atípicos\")"
      ],
      "metadata": {
        "id": "4o-anxz3JBCd"
      },
      "id": "4o-anxz3JBCd",
      "execution_count": null,
      "outputs": []
    },
    {
      "cell_type": "markdown",
      "source": [
        "Observamos que se mejora la visualización de la distribución de los valores en el diagrama de caja, se identifica la mediana, Q1 y Q3. Pero aún eliminando los valores atípicos, siguen estando. Nosotros hasta aquí presentamos un análisis de valores atípicos univariados. Por los que antes de eliminar los valores atípicos, es necesario explorar su relación con otras variables."
      ],
      "metadata": {
        "id": "HzddoVTbDSIB"
      },
      "id": "HzddoVTbDSIB"
    },
    {
      "cell_type": "markdown",
      "source": [
        "Por otro lado, al eliminar valores atípicos de la variable ‘price’, alteramos su distribución. Explorando su distribución mediante histograma, ahora la gráfica es clara  e identifica menos asimetría."
      ],
      "metadata": {
        "id": "BDPLml9wDV-t"
      },
      "id": "BDPLml9wDV-t"
    },
    {
      "cell_type": "code",
      "source": [
        "fig, axs = plt.subplots(1,2,figsize=(15, 3))\n",
        "reseVinoArgChi_df['price'].plot(kind='hist', bins = 10, ax=axs[0])\n",
        "axs[0].set_title(\"Histograma para 'price'\")\n",
        "datos_sinAtipicos_IQR_df['price'].plot(kind='hist',  bins = 10, ax=axs[1])\n",
        "axs[1].set_title(\"Histograma para 'price' sin valores atípicos\")"
      ],
      "metadata": {
        "id": "LPrYuyImOCqD"
      },
      "id": "LPrYuyImOCqD",
      "execution_count": null,
      "outputs": []
    },
    {
      "cell_type": "markdown",
      "source": [
        "Si complementamos estás gráficas con resúmenes estadísticos, se observa claramente el cambio de valor de la media  (de 22 a 16 USD), de la desviación estándar (22 a 6 USD) y del máximo (400 a 39 USD) de price.\n",
        "\n",
        "En esta primera instancia, dado que solo se exploró una sola variable, sería conveniente no elimnar datos.\n",
        "Terminemos de explorar las otras variables, observemos relaciones y entendamos mejor los datos."
      ],
      "metadata": {
        "id": "zkSGOsJZDc8X"
      },
      "id": "zkSGOsJZDc8X"
    },
    {
      "cell_type": "markdown",
      "source": [
        "📝 **Ejercicio**"
      ],
      "metadata": {
        "id": "SPXoc41ktSpe"
      },
      "id": "SPXoc41ktSpe"
    },
    {
      "cell_type": "markdown",
      "source": [
        "En base al objeto Dataframe reseVinoArgChi_df\n"
      ],
      "metadata": {
        "id": "WxzeFZc9tbm9"
      },
      "id": "WxzeFZc9tbm9"
    },
    {
      "cell_type": "code",
      "source": [
        "reseVinoArgChi_df.head(5)"
      ],
      "metadata": {
        "id": "pa5O0Eo6tR4O"
      },
      "id": "pa5O0Eo6tR4O",
      "execution_count": null,
      "outputs": []
    },
    {
      "cell_type": "markdown",
      "source": [
        "* Identificar los valores atípicos de puntos (points) mediante un diagrama de caja\n",
        "\n",
        "* Mostrar los valores atípicos indetificados por método IQR"
      ],
      "metadata": {
        "id": "Z63IuSoPy2OW"
      },
      "id": "Z63IuSoPy2OW"
    },
    {
      "cell_type": "code",
      "source": [],
      "metadata": {
        "id": "9Bod_yuiy32F"
      },
      "id": "9Bod_yuiy32F",
      "execution_count": null,
      "outputs": []
    },
    {
      "cell_type": "markdown",
      "source": [
        "**Haz doble click para ver la respuesta**\n",
        "<!--\n",
        "\n",
        "fig, ax = plt.subplots(figsize=(15, 3))\n",
        "ax.boxplot(reseVinoArgChi_df[['points']], vert=False)\n",
        "ax.set_title(\"Diagrama de caja (Box Plot) para 'price'\")\n",
        "\n",
        "# Calcular cuartíles\n",
        "Q1 = reseVinoArgChi_df['points'].quantile(0.25)\n",
        "Q3 = reseVinoArgChi_df['points'].quantile(0.75)\n",
        "\n",
        "# Calcular rango intercualtílico\n",
        "IQR = Q3 - Q1\n",
        "\n",
        "# Calcular límites\n",
        "limite_inferior = Q1 - 1.5 * IQR\n",
        "limite_superior = Q3 + 1.5 * IQR\n",
        "\n",
        "# Detectar valores atípicos\n",
        "atipicos_IQR_df = reseVinoArgChi_df[(reseVinoArgChi_df['points'] < limite_inferior) | (reseVinoArgChi_df['points'] > limite_superior)]\n",
        "\n",
        "# Imprimir resultados\n",
        "print(\"Atipicos en 'points' por IQR:\")\n",
        "atipicos_IQR_df['points']\n",
        "-->"
      ],
      "metadata": {
        "id": "bTs0qb_Fymt3"
      },
      "id": "bTs0qb_Fymt3"
    }
  ],
  "metadata": {
    "colab": {
      "provenance": [],
      "private_outputs": true,
      "toc_visible": true,
      "include_colab_link": true
    },
    "language_info": {
      "name": "python"
    },
    "kernelspec": {
      "name": "python3",
      "display_name": "Python 3"
    }
  },
  "nbformat": 4,
  "nbformat_minor": 5
}